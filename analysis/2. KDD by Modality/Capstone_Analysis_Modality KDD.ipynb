{
 "cells": [
  {
   "cell_type": "code",
   "execution_count": null,
   "metadata": {},
   "outputs": [],
   "source": [
    "#%reset -f"
   ]
  },
  {
   "cell_type": "markdown",
   "metadata": {},
   "source": [
    "Import Data Sources, Make DataFrames"
   ]
  },
  {
   "cell_type": "code",
   "execution_count": 31,
   "metadata": {},
   "outputs": [],
   "source": [
    "# Import packages\n",
    "import os\n",
    "import pandas as pd\n",
    "\n",
    "# Set base path for reproducibility\n",
    "# Save initial data to a folder \"Capstone Project Data_Cleaned\" in the current working directory\n",
    "base_path = os.path.join(os.getcwd(), \"Capstone Project Data_Cleaned\")\n",
    "\n",
    "# Create DFs\n",
    "df_all_grad = pd.read_excel(os.path.join(base_path, \"df_all_grad.xlsx\"))\n",
    "df_all_inperson = pd.read_excel(os.path.join(base_path, \"df_all_inperson.xlsx\"))\n",
    "df_all_online = pd.read_excel(os.path.join(base_path, \"df_all_online.xlsx\"))\n",
    "df_all_ugrad = pd.read_excel(os.path.join(base_path, \"df_all_ugrad.xlsx\"))\n",
    "df_all = pd.read_excel(os.path.join(base_path, \"df_all.xlsx\"))\n",
    "\n",
    "df_fall_all_grad = pd.read_excel(os.path.join(base_path, \"df_fall_all_grad.xlsx\"))\n",
    "df_fall_all_inperson = pd.read_excel(os.path.join(base_path, \"df_fall_all_inperson.xlsx\"))\n",
    "df_fall_all_online = pd.read_excel(os.path.join(base_path, \"df_fall_all_online.xlsx\"))\n",
    "df_fall_all_ugrad = pd.read_excel(os.path.join(base_path, \"df_fall_all_ugrad.xlsx\"))\n",
    "df_fall_all = pd.read_excel(os.path.join(base_path, \"df_fall_all.xlsx\"))\n",
    "\n",
    "df_spring_all_grad = pd.read_excel(os.path.join(base_path, \"df_spring_all_grad.xlsx\"))\n",
    "df_spring_all_inperson = pd.read_excel(os.path.join(base_path, \"df_spring_all_inperson.xlsx\"))\n",
    "df_spring_all_online = pd.read_excel(os.path.join(base_path, \"df_spring_all_online.xlsx\"))\n",
    "df_spring_all_ugrad = pd.read_excel(os.path.join(base_path, \"df_spring_all_ugrad.xlsx\"))\n",
    "df_spring_all = pd.read_excel(os.path.join(base_path, \"df_spring_all.xlsx\"))"
   ]
  },
  {
   "cell_type": "code",
   "execution_count": 32,
   "metadata": {},
   "outputs": [],
   "source": [
    "# Create DFs: by grad/ugrad and inperson/online\n",
    "df_all_grad_inperson = pd.read_excel(os.path.join(base_path, \"df_all_grad_inperson.xlsx\"))\n",
    "df_all_grad_online = pd.read_excel(os.path.join(base_path, \"df_all_grad_online.xlsx\"))\n",
    "df_all_ugrad_inperson = pd.read_excel(os.path.join(base_path, \"df_all_ugrad_inperson.xlsx\"))\n",
    "df_all_ugrad_online = pd.read_excel(os.path.join(base_path, \"df_all_ugrad_online.xlsx\"))\n",
    "\n",
    "df_spring_all_grad_inperson = pd.read_excel(os.path.join(base_path, \"df_spring_all_grad_inperson.xlsx\"))\n",
    "df_spring_all_grad_online = pd.read_excel(os.path.join(base_path, \"df_spring_all_grad_online.xlsx\"))\n",
    "df_spring_all_ugrad_inperson = pd.read_excel(os.path.join(base_path, \"df_spring_all_ugrad_inperson.xlsx\"))\n",
    "df_spring_all_ugrad_online = pd.read_excel(os.path.join(base_path, \"df_spring_all_ugrad_online.xlsx\"))\n",
    "\n",
    "df_fall_all_grad_inperson = pd.read_excel(os.path.join(base_path, \"df_fall_all_grad_inperson.xlsx\"))\n",
    "df_fall_all_grad_online = pd.read_excel(os.path.join(base_path, \"df_fall_all_grad_online.xlsx\"))\n",
    "df_fall_all_ugrad_inperson = pd.read_excel(os.path.join(base_path, \"df_fall_all_ugrad_inperson.xlsx\"))\n",
    "df_fall_all_ugrad_online = pd.read_excel(os.path.join(base_path, \"df_fall_all_ugrad_online.xlsx\"))"
   ]
  },
  {
   "cell_type": "markdown",
   "metadata": {},
   "source": [
    "Create Dictionaries by All, Undergrad, Grad, In-Person, and Online"
   ]
  },
  {
   "cell_type": "code",
   "execution_count": 33,
   "metadata": {},
   "outputs": [],
   "source": [
    "# Create Dictionaries \n",
    "\n",
    "# All Dictionary\n",
    "dfs_all = {\n",
    "    \"df_all\": df_all,\n",
    "    \"df_fall_all\": df_fall_all,\n",
    "    \"df_spring_all\": df_spring_all\n",
    "}\n",
    "\n",
    "# Undergrad Dictionary\n",
    "dfs_ugrad = {\n",
    "    \"df_all_ugrad\": df_all_ugrad,\n",
    "    \"df_fall_all_ugrad\": df_fall_all_ugrad,\n",
    "    \"df_spring_all_ugrad\": df_spring_all_ugrad\n",
    "}\n",
    "\n",
    "# Grad Dictionary\n",
    "dfs_grad = {\n",
    "    \"df_all_grad\": df_all_grad,\n",
    "    \"df_fall_all_grad\": df_fall_all_grad,\n",
    "    \"df_spring_all_grad\": df_spring_all_grad\n",
    "}\n",
    "# In-Person Dictionary\n",
    "dfs_inperson = {\n",
    "    \"df_all_inperson\": df_all_inperson,\n",
    "    \"df_fall_all_inperson\": df_fall_all_inperson,\n",
    "    \"df_spring_all_inperson\": df_spring_all_inperson\n",
    "}\n",
    "\n",
    "# Online Dictionary\n",
    "dfs_online = {\n",
    "    \"df_all_online\": df_all_online,\n",
    "    \"df_fall_all_online\": df_fall_all_online,\n",
    "    \"df_spring_all_online\": df_spring_all_online\n",
    "}\n",
    "\n",
    "dfs_everything = {**dfs_all, **dfs_ugrad, **dfs_grad, **dfs_inperson, **dfs_online}\n",
    "\n",
    "# Undergrad Online Dictionary\n",
    "dfs_ugrad_online = {\n",
    "    \"df_all_ugrad_online\": df_all_ugrad_online,\n",
    "    \"df_fall_all_ugrad_online\": df_fall_all_ugrad_online,\n",
    "    \"df_spring_all_ugrad_online\": df_spring_all_ugrad_online\n",
    "}\n",
    "\n",
    "# Undergrad In-Person Dictionary\n",
    "dfs_ugrad_inperson = {\n",
    "    \"df_all_ugrad_inperson\": df_all_ugrad_inperson,\n",
    "    \"df_fall_all_ugrad_inperson\": df_fall_all_ugrad_inperson,\n",
    "    \"df_spring_all_ugrad_inperson\": df_spring_all_ugrad_inperson\n",
    "}\n",
    "\n",
    "# Grad Online Dictionary\n",
    "dfs_grad_online = {\n",
    "    \"df_all_grad_online\": df_all_grad_online,\n",
    "    \"df_fall_all_grad_online\": df_fall_all_grad_online,\n",
    "    \"df_spring_all_grad_online\": df_spring_all_grad_online\n",
    "}\n",
    "\n",
    "# Grad In-Person Dictionary\n",
    "dfs_grad_inperson = {\n",
    "    \"df_all_grad_inperson\": df_all_grad_inperson,\n",
    "    \"df_fall_all_grad_inperson\": df_fall_all_grad_inperson,\n",
    "    \"df_spring_all_grad_inperson\": df_spring_all_grad_inperson\n",
    "}"
   ]
  },
  {
   "cell_type": "markdown",
   "metadata": {},
   "source": [
    "Explore DF size by Dictionary"
   ]
  },
  {
   "cell_type": "code",
   "execution_count": 34,
   "metadata": {},
   "outputs": [
    {
     "name": "stdout",
     "output_type": "stream",
     "text": [
      "DF sizes in dfs_all:\n",
      "   df_all: 2456 rows, 27 columns\n",
      "   df_fall_all: 1205 rows, 27 columns\n",
      "   df_spring_all: 1251 rows, 27 columns\n",
      "\n",
      "DF sizes in dfs_ugrad:\n",
      "   df_all_ugrad: 1559 rows, 28 columns\n",
      "   df_fall_all_ugrad: 766 rows, 28 columns\n",
      "   df_spring_all_ugrad: 793 rows, 28 columns\n",
      "\n",
      "DF sizes in dfs_grad:\n",
      "   df_all_grad: 897 rows, 28 columns\n",
      "   df_fall_all_grad: 439 rows, 28 columns\n",
      "   df_spring_all_grad: 458 rows, 28 columns\n",
      "\n",
      "DF sizes in dfs_inperson:\n",
      "   df_all_inperson: 547 rows, 27 columns\n",
      "   df_fall_all_inperson: 283 rows, 27 columns\n",
      "   df_spring_all_inperson: 264 rows, 27 columns\n",
      "\n",
      "DF sizes in dfs_online:\n",
      "   df_all_online: 1909 rows, 27 columns\n",
      "   df_fall_all_online: 922 rows, 27 columns\n",
      "   df_spring_all_online: 987 rows, 27 columns\n",
      "\n",
      "DF sizes in dfs_online:\n",
      "   df_all_ugrad_online: 1186 rows, 28 columns\n",
      "   df_fall_all_ugrad_online: 580 rows, 28 columns\n",
      "   df_spring_all_ugrad_online: 606 rows, 28 columns\n",
      "\n",
      "DF sizes in dfs_ugrad_inperson:\n",
      "   df_all_ugrad_inperson: 373 rows, 28 columns\n",
      "   df_fall_all_ugrad_inperson: 186 rows, 28 columns\n",
      "   df_spring_all_ugrad_inperson: 187 rows, 28 columns\n",
      "\n",
      "DF sizes in dfs_grad_online:\n",
      "   df_all_grad_online: 723 rows, 28 columns\n",
      "   df_fall_all_grad_online: 342 rows, 28 columns\n",
      "   df_spring_all_grad_online: 381 rows, 28 columns\n",
      "\n",
      "DF sizes in dfs_grad_inperson:\n",
      "   df_all_grad_inperson: 174 rows, 28 columns\n",
      "   df_fall_all_grad_inperson: 97 rows, 28 columns\n",
      "   df_spring_all_grad_inperson: 77 rows, 28 columns\n"
     ]
    }
   ],
   "source": [
    "print(\"DF sizes in dfs_all:\")\n",
    "for name, df in dfs_all.items():\n",
    "    print(f\"   {name}: {df.shape[0]} rows, {df.shape[1]} columns\")\n",
    "\n",
    "print(\"\\nDF sizes in dfs_ugrad:\")\n",
    "for name, df in dfs_ugrad.items():\n",
    "    print(f\"   {name}: {df.shape[0]} rows, {df.shape[1]} columns\")\n",
    "\n",
    "print(\"\\nDF sizes in dfs_grad:\")\n",
    "for name, df in dfs_grad.items():\n",
    "    print(f\"   {name}: {df.shape[0]} rows, {df.shape[1]} columns\")\n",
    "\n",
    "print(\"\\nDF sizes in dfs_inperson:\")\n",
    "for name, df in dfs_inperson.items():\n",
    "    print(f\"   {name}: {df.shape[0]} rows, {df.shape[1]} columns\")\n",
    "\n",
    "print(\"\\nDF sizes in dfs_online:\")\n",
    "for name, df in dfs_online.items():\n",
    "    print(f\"   {name}: {df.shape[0]} rows, {df.shape[1]} columns\")\n",
    "\n",
    "print(\"\\nDF sizes in dfs_online:\")\n",
    "for name, df in dfs_ugrad_online.items():\n",
    "    print(f\"   {name}: {df.shape[0]} rows, {df.shape[1]} columns\")\n",
    "\n",
    "print(\"\\nDF sizes in dfs_ugrad_inperson:\")\n",
    "for name, df in dfs_ugrad_inperson.items():\n",
    "    print(f\"   {name}: {df.shape[0]} rows, {df.shape[1]} columns\")\n",
    "\n",
    "print(\"\\nDF sizes in dfs_grad_online:\")\n",
    "for name, df in dfs_grad_online.items():\n",
    "    print(f\"   {name}: {df.shape[0]} rows, {df.shape[1]} columns\")\n",
    "\n",
    "print(\"\\nDF sizes in dfs_grad_inperson:\")\n",
    "for name, df in dfs_grad_inperson.items():\n",
    "    print(f\"   {name}: {df.shape[0]} rows, {df.shape[1]} columns\")\n"
   ]
  },
  {
   "cell_type": "markdown",
   "metadata": {},
   "source": [
    "KDD Modality: Time of Day"
   ]
  },
  {
   "cell_type": "code",
   "execution_count": 35,
   "metadata": {},
   "outputs": [],
   "source": [
    "# Having issues, will upload later\n",
    "dfs_timeofday = {**dfs_all, **dfs_inperson, **dfs_ugrad_inperson, **dfs_grad_inperson}\n"
   ]
  },
  {
   "cell_type": "code",
   "execution_count": 36,
   "metadata": {},
   "outputs": [
    {
     "data": {
      "text/plain": [
       "'for name, df in dfs_timeofday.items():\\n    print(f\"{name} Time Blocks:\\n{df[\\'TimeOfDay\\'].value_counts()}\\n\")'"
      ]
     },
     "execution_count": 36,
     "metadata": {},
     "output_type": "execute_result"
    }
   ],
   "source": [
    "\n",
    "\"\"\"for name, df in dfs_timeofday.items():\n",
    "    print(f\"{name} Time Blocks:\\n{df['TimeOfDay'].value_counts()}\\n\")\"\"\""
   ]
  },
  {
   "cell_type": "markdown",
   "metadata": {},
   "source": [
    "KDD Modality: In Person vs Online"
   ]
  },
  {
   "cell_type": "code",
   "execution_count": 37,
   "metadata": {},
   "outputs": [
    {
     "name": "stdout",
     "output_type": "stream",
     "text": [
      "Online Classes Count:\n",
      "   df_all_online: has 1909 online classes\n",
      "   df_fall_all_online: has 922 online classes\n",
      "   df_spring_all_online: has 987 online classes\n",
      "\n",
      "In-Person Classes Count:\n",
      "   df_all_inperson: has 547 in-person classes\n",
      "   df_fall_all_inperson: has 283 in-person classes\n",
      "   df_spring_all_inperson: has 264 in-person classes\n"
     ]
    }
   ],
   "source": [
    "print(\"Online Classes Count:\")\n",
    "for name, df in dfs_online.items():\n",
    "    print(f\"   {name}: has {df.shape[0]} online classes\")\n",
    "\n",
    "print(\"\\nIn-Person Classes Count:\")\n",
    "for name, df in dfs_inperson.items():\n",
    "    print(f\"   {name}: has {df.shape[0]} in-person classes\")\n",
    "\n"
   ]
  }
 ],
 "metadata": {
  "kernelspec": {
   "display_name": "base",
   "language": "python",
   "name": "python3"
  },
  "language_info": {
   "codemirror_mode": {
    "name": "ipython",
    "version": 3
   },
   "file_extension": ".py",
   "mimetype": "text/x-python",
   "name": "python",
   "nbconvert_exporter": "python",
   "pygments_lexer": "ipython3",
   "version": "3.12.7"
  }
 },
 "nbformat": 4,
 "nbformat_minor": 2
}
