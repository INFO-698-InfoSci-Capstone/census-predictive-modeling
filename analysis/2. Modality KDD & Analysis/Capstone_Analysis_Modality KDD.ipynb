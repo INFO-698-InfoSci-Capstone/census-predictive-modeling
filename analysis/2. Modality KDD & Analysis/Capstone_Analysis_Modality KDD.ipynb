{
 "cells": [
  {
   "cell_type": "code",
   "execution_count": 990,
   "metadata": {},
   "outputs": [],
   "source": [
    "%reset -f"
   ]
  },
  {
   "cell_type": "markdown",
   "metadata": {},
   "source": [
    "Import Data Sources, Make DataFrames"
   ]
  },
  {
   "cell_type": "code",
   "execution_count": 991,
   "metadata": {},
   "outputs": [],
   "source": [
    "# Import packages\n",
    "import os\n",
    "import pandas as pd\n",
    "\n",
    "# Set base path for reproducibility\n",
    "# Save initial data to a folder \"Capstone Project Data_Cleaned\" in the current working directory\n",
    "base_path = os.path.join(os.getcwd(), \"Capstone Project Data_Cleaned\")\n",
    "\n",
    "# Create DFs - Undergrad Only Data\n",
    "df_all_inperson = pd.read_excel(os.path.join(base_path, \"df_all_inperson.xlsx\"))\n",
    "df_all_online = pd.read_excel(os.path.join(base_path, \"df_all_online.xlsx\"))\n",
    "df_all = pd.read_excel(os.path.join(base_path, \"df_all.xlsx\"))\n",
    "\n",
    "df_fall_all_inperson = pd.read_excel(os.path.join(base_path, \"df_fall_all_inperson.xlsx\"))\n",
    "df_fall_all_online = pd.read_excel(os.path.join(base_path, \"df_fall_all_online.xlsx\"))\n",
    "df_fall_all = pd.read_excel(os.path.join(base_path, \"df_fall_all.xlsx\"))\n",
    "\n",
    "df_spring_all_inperson = pd.read_excel(os.path.join(base_path, \"df_spring_all_inperson.xlsx\"))\n",
    "df_spring_all_online = pd.read_excel(os.path.join(base_path, \"df_spring_all_online.xlsx\"))\n",
    "df_spring_all = pd.read_excel(os.path.join(base_path, \"df_spring_all.xlsx\"))"
   ]
  },
  {
   "cell_type": "markdown",
   "metadata": {},
   "source": [
    "Create Dictionaries"
   ]
  },
  {
   "cell_type": "code",
   "execution_count": 992,
   "metadata": {},
   "outputs": [],
   "source": [
    "# Create Dictionaries \n",
    "\n",
    "# All Dictionary\n",
    "dfs_all = {\n",
    "    \"df_all\": df_all,\n",
    "    \"df_fall_all\": df_fall_all,\n",
    "    \"df_spring_all\": df_spring_all\n",
    "}\n",
    "\n",
    "# In-Person Dictionary\n",
    "dfs_inperson = {\n",
    "    \"df_all_inperson\": df_all_inperson,\n",
    "    \"df_fall_all_inperson\": df_fall_all_inperson,\n",
    "    \"df_spring_all_inperson\": df_spring_all_inperson\n",
    "}\n",
    "\n",
    "# Online Dictionary\n",
    "dfs_online = {\n",
    "    \"df_all_online\": df_all_online,\n",
    "    \"df_fall_all_online\": df_fall_all_online,\n",
    "    \"df_spring_all_online\": df_spring_all_online\n",
    "}\n",
    "\n",
    "dfs_everything = {**dfs_all, **dfs_inperson, **dfs_online}\n"
   ]
  },
  {
   "cell_type": "markdown",
   "metadata": {},
   "source": [
    "Explore DF size by Dictionary"
   ]
  },
  {
   "cell_type": "code",
   "execution_count": 993,
   "metadata": {},
   "outputs": [
    {
     "name": "stdout",
     "output_type": "stream",
     "text": [
      "DF sizes in dfs_all:\n",
      "   df_all: 1559 rows, 27 columns\n",
      "   df_fall_all: 766 rows, 27 columns\n",
      "   df_spring_all: 793 rows, 27 columns\n",
      "\n",
      "DF sizes in dfs_inperson:\n",
      "   df_all_inperson: 339 rows, 27 columns\n",
      "   df_fall_all_inperson: 165 rows, 27 columns\n",
      "   df_spring_all_inperson: 174 rows, 27 columns\n",
      "\n",
      "DF sizes in dfs_online:\n",
      "   df_all_online: 1220 rows, 27 columns\n",
      "   df_fall_all_online: 601 rows, 27 columns\n",
      "   df_spring_all_online: 619 rows, 27 columns\n"
     ]
    }
   ],
   "source": [
    "print(\"DF sizes in dfs_all:\")\n",
    "for name, df in dfs_all.items():\n",
    "    print(f\"   {name}: {df.shape[0]} rows, {df.shape[1]} columns\") #df.shape[] for #rows, #cols\n",
    "\n",
    "print(\"\\nDF sizes in dfs_inperson:\")\n",
    "for name, df in dfs_inperson.items():\n",
    "    print(f\"   {name}: {df.shape[0]} rows, {df.shape[1]} columns\")\n",
    "\n",
    "print(\"\\nDF sizes in dfs_online:\")\n",
    "for name, df in dfs_online.items():\n",
    "    print(f\"   {name}: {df.shape[0]} rows, {df.shape[1]} columns\")\n"
   ]
  },
  {
   "cell_type": "markdown",
   "metadata": {},
   "source": [
    "<h1> Modality: In-Person vs Online </h1>"
   ]
  },
  {
   "cell_type": "markdown",
   "metadata": {},
   "source": [
    "In-Person vs Online Totals"
   ]
  },
  {
   "cell_type": "code",
   "execution_count": 994,
   "metadata": {},
   "outputs": [
    {
     "name": "stdout",
     "output_type": "stream",
     "text": [
      "Online Classes Count:\n",
      "   df_all_online: has 1220 online classes\n",
      "   df_fall_all_online: has 601 online classes\n",
      "   df_spring_all_online: has 619 online classes\n",
      "\n",
      "In-Person Classes Count:\n",
      "   df_all_inperson: has 339 in-person classes\n",
      "   df_fall_all_inperson: has 165 in-person classes\n",
      "   df_spring_all_inperson: has 174 in-person classes\n"
     ]
    }
   ],
   "source": [
    "print(\"Online Classes Count:\")\n",
    "for name, df in dfs_online.items():\n",
    "    print(f\"   {name}: has {df.shape[0]} online classes\")\n",
    "\n",
    "print(\"\\nIn-Person Classes Count:\")\n",
    "for name, df in dfs_inperson.items():\n",
    "    print(f\"   {name}: has {df.shape[0]} in-person classes\")\n",
    "\n"
   ]
  },
  {
   "cell_type": "markdown",
   "metadata": {},
   "source": [
    "Online/In-Person Dictionary"
   ]
  },
  {
   "cell_type": "code",
   "execution_count": 995,
   "metadata": {},
   "outputs": [],
   "source": [
    "dfs_all_inperson_online = {\n",
    "    \"df_all_inperson\": df_all_inperson,\n",
    "    \"df_all_online\": df_all_online\n",
    "}"
   ]
  },
  {
   "cell_type": "markdown",
   "metadata": {},
   "source": [
    "<h3> Function for sorting results in academic year order: semester_order_func </h3>\n",
    "Fall 2021, Spring 2022, Fall 2022, Spring 2023, Fall 2023, Spring 2024, Fall 2024, Spring 2025"
   ]
  },
  {
   "cell_type": "code",
   "execution_count": 996,
   "metadata": {},
   "outputs": [],
   "source": [
    "# Strategy: label Fall/Spring starting with the same year, to count them as the same academic year\n",
    "# e.g. Fall 2021 & Spring 2022 will turn into 2021.0 and 2021.5, to group as the 2021 academic year\n",
    "\n",
    "def semester_order_func(sem):\n",
    "    season, year = sem.split()\n",
    "    year = int(year)\n",
    "    if season == \"Fall\":\n",
    "        return year + 0.0           # Fall 2021 turns into 2021.0; Fall 2021 into 2022.0; etc\n",
    "    elif season == \"Spring\":\n",
    "        return (year - 1) + 0.5     # Spring 2022 - 1 + 0.5 = 2021.5 so that it'll follow Fall 2021.0\n"
   ]
  },
  {
   "cell_type": "markdown",
   "metadata": {},
   "source": [
    "Online/In-Person by Semester"
   ]
  },
  {
   "cell_type": "code",
   "execution_count": 997,
   "metadata": {},
   "outputs": [
    {
     "name": "stdout",
     "output_type": "stream",
     "text": [
      "\n",
      "df_all_inperson: In Person Classes\n",
      "   Fall 2021 has 33 classes\n",
      "   Spring 2022 has 31 classes\n",
      "   Fall 2022 has 32 classes\n",
      "   Spring 2023 has 34 classes\n",
      "   Fall 2023 has 38 classes\n",
      "   Spring 2024 has 40 classes\n",
      "   Fall 2024 has 62 classes\n",
      "   Spring 2025 has 69 classes\n",
      "\n",
      "df_all_online: Online Classes\n",
      "   Fall 2021 has 155 classes\n",
      "   Spring 2022 has 143 classes\n",
      "   Fall 2022 has 138 classes\n",
      "   Spring 2023 has 149 classes\n",
      "   Fall 2023 has 157 classes\n",
      "   Spring 2024 has 166 classes\n",
      "   Fall 2024 has 151 classes\n",
      "   Spring 2025 has 161 classes\n"
     ]
    }
   ],
   "source": [
    "#Totals by Session\n",
    "for df_semester, df in dfs_all_inperson_online.items():\n",
    "    # Separate inperson/online within our new dictionary\n",
    "    modality = \"In Person Classes\" if \"inperson\" in df_semester else \"Online Classes\"\n",
    "\n",
    "    # Group by Term (semester) & count\n",
    "    term_counts = df.groupby(\"Term\").size()\n",
    "\n",
    "    # Function: sort by semester order\n",
    "    # Using key=lambda x: for each tuples (term + count), sort by applying function to x[0] term first\n",
    "    sorted_term_counts = sorted(term_counts.items(), key=lambda x: semester_order_func(x[0]))\n",
    "\n",
    "    print(f\"\\n{df_semester}: {modality}\")\n",
    "    for term, count in sorted_term_counts:\n",
    "        print(f\"   {term} has {count} classes\")\n",
    "\n"
   ]
  },
  {
   "cell_type": "markdown",
   "metadata": {},
   "source": [
    "Online/Live Online by Semester"
   ]
  },
  {
   "cell_type": "code",
   "execution_count": 998,
   "metadata": {},
   "outputs": [
    {
     "name": "stdout",
     "output_type": "stream",
     "text": [
      "Fall 2021: 155 total classes, 142 Fully Online, and 13 Live Online\n",
      "Spring 2022: 143 total classes, 142 Fully Online, and 1 Live Online\n",
      "Fall 2022: 138 total classes, 138 Fully Online, and 0 Live Online\n",
      "Spring 2023: 149 total classes, 145 Fully Online, and 4 Live Online\n",
      "Fall 2023: 157 total classes, 153 Fully Online, and 4 Live Online\n",
      "Spring 2024: 166 total classes, 162 Fully Online, and 4 Live Online\n",
      "Fall 2024: 151 total classes, 147 Fully Online, and 4 Live Online\n",
      "Spring 2025: 161 total classes, 157 Fully Online, and 4 Live Online\n"
     ]
    }
   ],
   "source": [
    "# Get unique Term values from DF df_all_online\n",
    "terms = df_all_online[\"Term\"].unique()\n",
    "\n",
    "# For loop with our sorted function semester_order_func\n",
    "for df_semester in sorted(terms, key=semester_order_func):\n",
    "    df_term = df_all_online[df_all_online[\"Term\"] == df_semester]\n",
    "    \n",
    "    total = df_term.shape[0]\n",
    "    fully_online = (df_term[\"Facility\"] == \"Online\").sum()\n",
    "    live_online = (df_term[\"Facility\"] == \"Live Online\").sum()\n",
    "    \n",
    "    print(f\"{df_semester}: {total} total classes, {fully_online} Fully Online, and {live_online} Live Online\")\n"
   ]
  },
  {
   "cell_type": "markdown",
   "metadata": {},
   "source": [
    "<h3>In-Person/Online by Modalities </h3>"
   ]
  },
  {
   "cell_type": "markdown",
   "metadata": {},
   "source": [
    "Online/In-Person: Session (15 week vs 7)"
   ]
  },
  {
   "cell_type": "code",
   "execution_count": 999,
   "metadata": {},
   "outputs": [
    {
     "name": "stdout",
     "output_type": "stream",
     "text": [
      "Online vs In-Person by Session Type (15/7): Totals\n",
      "\n",
      "df_all_inperson: Total by Session\n",
      "Session\n",
      "Regular Academic Session    339\n",
      "Name: count, dtype: int64\n",
      "\n",
      "df_all_online: Total by Session\n",
      "Session\n",
      "Regular Academic Session    635\n",
      "Seven Week - Second         298\n",
      "Seven Week - First          287\n",
      "Name: count, dtype: int64\n"
     ]
    }
   ],
   "source": [
    "print(\"Online vs In-Person by Session Type (15/7): Totals\")\n",
    "\n",
    "for name, df in dfs_all_inperson_online.items():\n",
    "    print(f\"\\n{name}: Total by Session\")\n",
    "    session_counts = df[\"Session\"].value_counts(dropna=False)\n",
    "    print(session_counts)\n"
   ]
  },
  {
   "cell_type": "code",
   "execution_count": 1000,
   "metadata": {},
   "outputs": [
    {
     "name": "stdout",
     "output_type": "stream",
     "text": [
      "Online vs In-Person by Session Type (15/7) & Semester\n",
      "\n",
      "df_all_inperson: Session by Semester (Term)\n",
      "Session      Regular Academic Session\n",
      "Term                                 \n",
      "Fall 2021                          33\n",
      "Spring 2022                        31\n",
      "Fall 2022                          32\n",
      "Spring 2023                        34\n",
      "Fall 2023                          38\n",
      "Spring 2024                        40\n",
      "Fall 2024                          62\n",
      "Spring 2025                        69\n",
      "\n",
      "df_all_online: Session by Semester (Term)\n",
      "Session      Regular Academic Session  Seven Week - First  Seven Week - Second\n",
      "Term                                                                          \n",
      "Fall 2021                          97                  32                   26\n",
      "Spring 2022                        78                  27                   38\n",
      "Fall 2022                          75                  30                   33\n",
      "Spring 2023                        77                  34                   38\n",
      "Fall 2023                          82                  38                   37\n",
      "Spring 2024                        80                  43                   43\n",
      "Fall 2024                          71                  42                   38\n",
      "Spring 2025                        75                  41                   45\n"
     ]
    }
   ],
   "source": [
    "print(\"Online vs In-Person by Session Type (15/7) & Semester\")\n",
    "\n",
    "for df_semester, df in dfs_all_inperson_online.items():\n",
    "    print(f\"\\n{df_semester}: Session by Semester (Term)\")\n",
    "   \n",
    "    # Group by \"Term\" and \"Session Grouped\"; .size() count the rows; unstack() turn into a DF\n",
    "    session_by_term = df.groupby([\"Term\", \"Session\"]).size().unstack(fill_value=0)\n",
    "   \n",
    "    # Order semesters with function semester_order_func; .loc[] to return a DF\n",
    "    session_by_term = session_by_term.loc[sorted(session_by_term.index, key=semester_order_func)]\n",
    "    print(session_by_term)"
   ]
  },
  {
   "cell_type": "markdown",
   "metadata": {},
   "source": [
    "7-week: combine 7W1 and 7W2 into 1 term"
   ]
  },
  {
   "cell_type": "code",
   "execution_count": 1001,
   "metadata": {},
   "outputs": [
    {
     "name": "stdout",
     "output_type": "stream",
     "text": [
      "Online Classes by 15/7 Week, Totalling both 7-Week Sessions\n",
      "\n",
      "Totals in Dataset:\n",
      "Session Grouped\n",
      "Regular Academic Session    635\n",
      "Seven Week Combined         585\n",
      "Name: count, dtype: int64\n",
      "\n",
      "Session by Semester (Term):\n",
      "Session Grouped  Regular Academic Session  Seven Week Combined\n",
      "Term                                                          \n",
      "Fall 2021                              97                   58\n",
      "Spring 2022                            78                   65\n",
      "Fall 2022                              75                   63\n",
      "Spring 2023                            77                   72\n",
      "Fall 2023                              82                   75\n",
      "Spring 2024                            80                   86\n",
      "Fall 2024                              71                   80\n",
      "Spring 2025                            75                   86\n"
     ]
    }
   ],
   "source": [
    "# New DF df_online_7week, to not confuse with df_all_online\n",
    "df_online_7week = df_all_online.copy()\n",
    "\n",
    "# Group \"Seven Week - First\" and \"Seven Week - Second\" into a single \"Seven Week Combined\"\n",
    "df_online_7week[\"Session Grouped\"] = df_online_7week[\"Session\"].replace({\n",
    "    \"Seven Week - First\": \"Seven Week Combined\",\n",
    "    \"Seven Week - Second\": \"Seven Week Combined\"})\n",
    "\n",
    "print(\"Online Classes by 15/7 Week, Totalling both 7-Week Sessions\")\n",
    "\n",
    "# Total counts by session type (15/7)\n",
    "print(\"\\nTotals in Dataset:\")\n",
    "session_counts = df_online_7week[\"Session Grouped\"].value_counts()\n",
    "print(session_counts)\n",
    "\n",
    "# Totals by Session type & by Term\n",
    "print(\"\\nSession by Semester (Term):\")\n",
    "session_by_term = df_online_7week.groupby([\"Term\", \"Session Grouped\"]).size().unstack(fill_value=0)\n",
    "session_by_term = session_by_term.loc[sorted(session_by_term.index, key=semester_order_func)] # Run semester_order_func to sort\n",
    "print(session_by_term)\n"
   ]
  },
  {
   "cell_type": "markdown",
   "metadata": {},
   "source": [
    "Online/In-Person by Meeting Days"
   ]
  },
  {
   "cell_type": "code",
   "execution_count": 1002,
   "metadata": {},
   "outputs": [
    {
     "name": "stdout",
     "output_type": "stream",
     "text": [
      "Online vs In-Person by Meeting Days\n",
      "\n",
      "df_all_inperson: Total by Meeting Days\n",
      "Meeting Days\n",
      "TR    181\n",
      "MW     75\n",
      "M      34\n",
      "F      33\n",
      "W      10\n",
      "-       5\n",
      "T       1\n",
      "Name: count, dtype: int64\n",
      "\n",
      "df_all_inperson: Meeting Days by Semester (Term)\n",
      "Meeting Days  -   F  M  MW  T  TR  W\n",
      "Term                                \n",
      "Fall 2021     0   0  0   8  0  25  0\n",
      "Spring 2022   0   2  5   5  0  19  0\n",
      "Fall 2022     0   3  3   3  0  23  0\n",
      "Spring 2023   0   2  5   7  0  19  1\n",
      "Fall 2023     0   2  4  10  0  21  1\n",
      "Spring 2024   0   3  5  10  0  21  1\n",
      "Fall 2024     2  11  5  17  0  24  3\n",
      "Spring 2025   3  10  7  15  1  29  4\n",
      "\n",
      "df_all_online: Total by Meeting Days\n",
      "Meeting Days\n",
      "-     1186\n",
      "TR      24\n",
      "MW       4\n",
      "R        3\n",
      "W        2\n",
      "F        1\n",
      "Name: count, dtype: int64\n",
      "\n",
      "df_all_online: Meeting Days by Semester (Term)\n",
      "Meeting Days    -  F  MW  R  TR  W\n",
      "Term                              \n",
      "Fall 2021     142  1   4  3   3  2\n",
      "Spring 2022   142  0   0  0   1  0\n",
      "Fall 2022     138  0   0  0   0  0\n",
      "Spring 2023   145  0   0  0   4  0\n",
      "Fall 2023     153  0   0  0   4  0\n",
      "Spring 2024   162  0   0  0   4  0\n",
      "Fall 2024     147  0   0  0   4  0\n",
      "Spring 2025   157  0   0  0   4  0\n"
     ]
    }
   ],
   "source": [
    "print(\"Online vs In-Person by Meeting Days\")\n",
    "\n",
    "for name, df in dfs_all_inperson_online.items():\n",
    "    # Print Online/In-Person Totals by Meeting Days\n",
    "    print(f\"\\n{name}: Total by Meeting Days\")\n",
    "    meeting_days_total = df[\"Meeting Days\"].value_counts(dropna=False)\n",
    "    print(meeting_days_total)\n",
    "    \n",
    "    # Print Online/In-Person Totals by Meeting Days & by Semester (Term) \n",
    "    print(f\"\\n{name}: Meeting Days by Semester (Term)\")\n",
    "    # Group by Term & Meeting Days; .size() count the rows; unstack() turn into a DF\n",
    "    meeting_days_by_term = df.groupby([\"Term\", \"Meeting Days\"]).size().unstack(fill_value=0)\n",
    "    meeting_days_by_term = meeting_days_by_term.loc[sorted(meeting_days_by_term.index, key=semester_order_func)]\n",
    "    print(meeting_days_by_term)\n"
   ]
  },
  {
   "cell_type": "markdown",
   "metadata": {},
   "source": [
    "Online/Live Online by Days"
   ]
  },
  {
   "cell_type": "markdown",
   "metadata": {},
   "source": [
    "Split df_all_online into Online/Live Online"
   ]
  },
  {
   "cell_type": "code",
   "execution_count": 1003,
   "metadata": {},
   "outputs": [],
   "source": [
    "df_all_online_fully = df_all_online[df_all_online[\"Facility\"] == \"Online\"].copy()\n",
    "df_all_online_live = df_all_online[df_all_online[\"Facility\"] == \"Live Online\"].copy()\n",
    "\n",
    "dfs_online_vs_live = {\n",
    "    \"df_all_online_fully\": df_all_online_fully,\n",
    "    \"df_all_online_live\": df_all_online_live\n",
    "}"
   ]
  },
  {
   "cell_type": "code",
   "execution_count": 1004,
   "metadata": {},
   "outputs": [
    {
     "name": "stdout",
     "output_type": "stream",
     "text": [
      "Online vs Live Online - Meeting Days\n",
      "\n",
      "df_all_online_fully: Total by Meeting Days\n",
      "Meeting Days\n",
      "-    1186\n",
      "Name: count, dtype: int64\n",
      "\n",
      "df_all_online_fully: Meeting Days by Semester (Term)\n",
      "Meeting Days    -\n",
      "Term             \n",
      "Fall 2021     142\n",
      "Spring 2022   142\n",
      "Fall 2022     138\n",
      "Spring 2023   145\n",
      "Fall 2023     153\n",
      "Spring 2024   162\n",
      "Fall 2024     147\n",
      "Spring 2025   157\n",
      "\n",
      "df_all_online_live: Total by Meeting Days\n",
      "Meeting Days\n",
      "TR    24\n",
      "MW     4\n",
      "R      3\n",
      "W      2\n",
      "F      1\n",
      "Name: count, dtype: int64\n",
      "\n",
      "df_all_online_live: Meeting Days by Semester (Term)\n",
      "Meeting Days  F  MW  R  TR  W\n",
      "Term                         \n",
      "Fall 2021     1   4  3   3  2\n",
      "Spring 2022   0   0  0   1  0\n",
      "Spring 2023   0   0  0   4  0\n",
      "Fall 2023     0   0  0   4  0\n",
      "Spring 2024   0   0  0   4  0\n",
      "Fall 2024     0   0  0   4  0\n",
      "Spring 2025   0   0  0   4  0\n"
     ]
    }
   ],
   "source": [
    "print(\"Online vs Live Online - Meeting Days\")\n",
    "\n",
    "for name, df in dfs_online_vs_live.items():\n",
    "    # Online vs Live Online Totals by Meeting Days\n",
    "    print(f\"\\n{name}: Total by Meeting Days\")\n",
    "    meeting_days_total = df[\"Meeting Days\"].value_counts(dropna=False)\n",
    "    print(meeting_days_total)\n",
    "\n",
    "    # Online vs Live Online Totals by Meeting Days & by Semester (Term)\n",
    "    print(f\"\\n{name}: Meeting Days by Semester (Term)\")\n",
    "    meeting_days_by_term = df.groupby([\"Term\", \"Meeting Days\"]).size().unstack(fill_value=0)\n",
    "    meeting_days_by_term = meeting_days_by_term.loc[sorted(meeting_days_by_term.index, key=semester_order_func)]\n",
    "    print(meeting_days_by_term)\n"
   ]
  },
  {
   "cell_type": "markdown",
   "metadata": {},
   "source": [
    "Online/In-Person by Component"
   ]
  },
  {
   "cell_type": "code",
   "execution_count": 1005,
   "metadata": {},
   "outputs": [
    {
     "name": "stdout",
     "output_type": "stream",
     "text": [
      "Online/In-Person by Component\n",
      "\n",
      "df_all_inperson: Total by Component\n",
      "Component\n",
      "Lecture       266\n",
      "Discussion     67\n",
      "Colloquium      6\n",
      "Name: count, dtype: int64\n",
      "\n",
      "df_all_inperson: Component by Semester (Term)\n",
      "Component    Colloquium  Discussion  Lecture\n",
      "Term                                        \n",
      "Fall 2021             0           0       33\n",
      "Spring 2022           1           6       24\n",
      "Fall 2022             0           6       26\n",
      "Spring 2023           2           6       26\n",
      "Fall 2023             0           6       32\n",
      "Spring 2024           1           6       33\n",
      "Fall 2024             1          18       43\n",
      "Spring 2025           1          19       49\n",
      "\n",
      "df_all_online: Total by Component\n",
      "Component\n",
      "Lecture       1104\n",
      "Discussion     115\n",
      "Colloquium       1\n",
      "Name: count, dtype: int64\n",
      "\n",
      "df_all_online: Component by Semester (Term)\n",
      "Component    Colloquium  Discussion  Lecture\n",
      "Term                                        \n",
      "Fall 2021             1          27      127\n",
      "Spring 2022           0          15      128\n",
      "Fall 2022             0          14      124\n",
      "Spring 2023           0          15      134\n",
      "Fall 2023             0          15      142\n",
      "Spring 2024           0          15      151\n",
      "Fall 2024             0           8      143\n",
      "Spring 2025           0           6      155\n"
     ]
    }
   ],
   "source": [
    "print(\"Online/In-Person by Component\")\n",
    "\n",
    "for name, df in dfs_all_inperson_online.items():\n",
    "    # Print Online/In-Person Totals by Component\n",
    "    print(f\"\\n{name}: Total by Component\")\n",
    "    component_total = df[\"Component\"].value_counts(dropna=False)\n",
    "    print(component_total)\n",
    "\n",
    "    # Print Online/In-Person Totals by Component & by Semester (Term)\n",
    "    print(f\"\\n{name}: Component by Semester (Term)\")\n",
    "    component_by_term = df.groupby([\"Term\", \"Component\"]).size().unstack(fill_value=0)\n",
    "    component_by_term = component_by_term.loc[sorted(component_by_term.index, key=semester_order_func)]\n",
    "    print(component_by_term)\n"
   ]
  },
  {
   "cell_type": "markdown",
   "metadata": {},
   "source": [
    "<h1> Modality: 15-week vs 7-week </h1>"
   ]
  },
  {
   "cell_type": "markdown",
   "metadata": {},
   "source": [
    "15/7 totals"
   ]
  },
  {
   "cell_type": "code",
   "execution_count": 1006,
   "metadata": {},
   "outputs": [
    {
     "name": "stdout",
     "output_type": "stream",
     "text": [
      "Modality Breakdown by Session Type (15-week vs 7-week)\n",
      "\n",
      "df_all: Courses by Session\n",
      "Session\n",
      "Regular Academic Session    974\n",
      "Seven Week - Second         298\n",
      "Seven Week - First          287\n",
      "Name: count, dtype: int64\n",
      "\n",
      "df_fall_all: Courses by Session\n",
      "Session\n",
      "Regular Academic Session    490\n",
      "Seven Week - First          142\n",
      "Seven Week - Second         134\n",
      "Name: count, dtype: int64\n",
      "\n",
      "df_spring_all: Courses by Session\n",
      "Session\n",
      "Regular Academic Session    484\n",
      "Seven Week - Second         164\n",
      "Seven Week - First          145\n",
      "Name: count, dtype: int64\n"
     ]
    }
   ],
   "source": [
    "print(\"Modality Breakdown by Session Type (15-week vs 7-week)\")\n",
    "\n",
    "for name, df in dfs_all.items():\n",
    "    print(f\"\\n{name}: Courses by Session\")\n",
    "    # 15-week vs. 7-week Totals\n",
    "    session_counts = df[\"Session\"].value_counts(dropna=False)\n",
    "    print(session_counts)\n"
   ]
  },
  {
   "cell_type": "markdown",
   "metadata": {},
   "source": [
    "15/7 by Term"
   ]
  },
  {
   "cell_type": "code",
   "execution_count": 1007,
   "metadata": {},
   "outputs": [
    {
     "name": "stdout",
     "output_type": "stream",
     "text": [
      "15/7 Course Counts by Term\n",
      "Session      Regular Academic Session  Seven Week - First  Seven Week - Second\n",
      "Term                                                                          \n",
      "Fall 2021                         130                  32                   26\n",
      "Spring 2022                       109                  27                   38\n",
      "Fall 2022                         107                  30                   33\n",
      "Spring 2023                       111                  34                   38\n",
      "Fall 2023                         120                  38                   37\n",
      "Spring 2024                       120                  43                   43\n",
      "Fall 2024                         133                  42                   38\n",
      "Spring 2025                       144                  41                   45\n"
     ]
    }
   ],
   "source": [
    "print(\"15/7 Course Counts by Term\")\n",
    "\n",
    "# Group by Session and Term; Sort\n",
    "session_by_term = df_all.groupby([\"Term\", \"Session\"]).size().unstack(fill_value=0)\n",
    "# Run semester_order_func to sort\n",
    "session_by_term = session_by_term.loc[sorted(session_by_term.index, key=semester_order_func)]\n",
    "print(session_by_term)\n"
   ]
  },
  {
   "cell_type": "markdown",
   "metadata": {},
   "source": [
    "<h3> 15/7 by Modalities </h3>"
   ]
  },
  {
   "cell_type": "markdown",
   "metadata": {},
   "source": [
    "15/7 by Days Scheduled"
   ]
  },
  {
   "cell_type": "code",
   "execution_count": 1008,
   "metadata": {},
   "outputs": [
    {
     "name": "stdout",
     "output_type": "stream",
     "text": [
      "15/7 by Days Scheduled, Totals:\n",
      "\n",
      "df_all:\n",
      "Meeting Days                -   F   M  MW  R  T   TR   W\n",
      "Session                                                 \n",
      "Regular Academic Session  606  34  34  79  3  1  205  12\n",
      "Seven Week - First        287   0   0   0  0  0    0   0\n",
      "Seven Week - Second       298   0   0   0  0  0    0   0\n",
      "\n",
      "df_fall_all:\n",
      "Meeting Days                -   F   M  MW  R   TR  W\n",
      "Session                                             \n",
      "Regular Academic Session  306  17  12  42  3  104  6\n",
      "Seven Week - First        142   0   0   0  0    0  0\n",
      "Seven Week - Second       134   0   0   0  0    0  0\n",
      "\n",
      "df_spring_all:\n",
      "Meeting Days                -   F   M  MW  T   TR  W\n",
      "Session                                             \n",
      "Regular Academic Session  300  17  22  37  1  101  6\n",
      "Seven Week - First        145   0   0   0  0    0  0\n",
      "Seven Week - Second       164   0   0   0  0    0  0\n"
     ]
    }
   ],
   "source": [
    "print(\"15/7 by Days Scheduled, Totals:\")\n",
    "\n",
    "for name, df in dfs_all.items():\n",
    "    print(f\"\\n{name}:\")\n",
    "    summary = df.groupby([\"Session\", \"Meeting Days\"]).size().unstack(fill_value=0)\n",
    "    print(summary)\n"
   ]
  },
  {
   "cell_type": "code",
   "execution_count": 1009,
   "metadata": {},
   "outputs": [
    {
     "name": "stdout",
     "output_type": "stream",
     "text": [
      "15/7 by Days Scheduled & Semester\n",
      "Meeting Days                           -   F  M  MW  R  T  TR  W\n",
      "Term        Session                                             \n",
      "Fall 2021   Regular Academic Session  84   1  0  12  3  0  28  2\n",
      "            Seven Week - First        32   0  0   0  0  0   0  0\n",
      "            Seven Week - Second       26   0  0   0  0  0   0  0\n",
      "Spring 2022 Regular Academic Session  77   2  5   5  0  0  20  0\n",
      "            Seven Week - First        27   0  0   0  0  0   0  0\n",
      "            Seven Week - Second       38   0  0   0  0  0   0  0\n",
      "Fall 2022   Regular Academic Session  75   3  3   3  0  0  23  0\n",
      "            Seven Week - First        30   0  0   0  0  0   0  0\n",
      "            Seven Week - Second       33   0  0   0  0  0   0  0\n",
      "Spring 2023 Regular Academic Session  73   2  5   7  0  0  23  1\n",
      "            Seven Week - First        34   0  0   0  0  0   0  0\n",
      "            Seven Week - Second       38   0  0   0  0  0   0  0\n",
      "Fall 2023   Regular Academic Session  78   2  4  10  0  0  25  1\n",
      "            Seven Week - First        38   0  0   0  0  0   0  0\n",
      "            Seven Week - Second       37   0  0   0  0  0   0  0\n",
      "Spring 2024 Regular Academic Session  76   3  5  10  0  0  25  1\n",
      "            Seven Week - First        43   0  0   0  0  0   0  0\n",
      "            Seven Week - Second       43   0  0   0  0  0   0  0\n",
      "Fall 2024   Regular Academic Session  69  11  5  17  0  0  28  3\n",
      "            Seven Week - First        42   0  0   0  0  0   0  0\n",
      "            Seven Week - Second       38   0  0   0  0  0   0  0\n",
      "Spring 2025 Regular Academic Session  74  10  7  15  0  1  33  4\n",
      "            Seven Week - First        41   0  0   0  0  0   0  0\n",
      "            Seven Week - Second       45   0  0   0  0  0   0  0\n"
     ]
    }
   ],
   "source": [
    "print(\"15/7 by Days Scheduled & Semester\")\n",
    "\n",
    "# Group by Term (semester), Session (15/7), and Meeting Days\n",
    "meeting_days_summary = df_all.groupby([\"Term\", \"Session\", \"Meeting Days\"]).size()\n",
    "\n",
    "# Turn Meeting Days (meeting_days_summary) into Columns for cleaner output; sort\n",
    "session_term_days = meeting_days_summary.unstack(fill_value=0)\n",
    "\n",
    "# Sort with semester_order_func: multi-index\n",
    "# key = lambda x again because this one is multi-index\n",
    "session_term_days = session_term_days.loc[sorted(session_term_days.index, key=lambda x: semester_order_func(x[0]))]\n",
    "print(session_term_days)\n"
   ]
  },
  {
   "cell_type": "markdown",
   "metadata": {},
   "source": [
    "15/7 by Days Scheduled & Semester -- totaling the two Seven Weeks into 1"
   ]
  },
  {
   "cell_type": "code",
   "execution_count": 1010,
   "metadata": {},
   "outputs": [
    {
     "name": "stdout",
     "output_type": "stream",
     "text": [
      "15/7 by Days Scheduled & Semester - Combining 7 week sessions\n",
      "Meeting Days                           -   F  M  MW  R  T  TR  W\n",
      "Term        Session Grouped                                     \n",
      "Fall 2021   Regular Academic Session  84   1  0  12  3  0  28  2\n",
      "            Seven Week Combined       58   0  0   0  0  0   0  0\n",
      "Spring 2022 Regular Academic Session  77   2  5   5  0  0  20  0\n",
      "            Seven Week Combined       65   0  0   0  0  0   0  0\n",
      "Fall 2022   Regular Academic Session  75   3  3   3  0  0  23  0\n",
      "            Seven Week Combined       63   0  0   0  0  0   0  0\n",
      "Spring 2023 Regular Academic Session  73   2  5   7  0  0  23  1\n",
      "            Seven Week Combined       72   0  0   0  0  0   0  0\n",
      "Fall 2023   Regular Academic Session  78   2  4  10  0  0  25  1\n",
      "            Seven Week Combined       75   0  0   0  0  0   0  0\n",
      "Spring 2024 Regular Academic Session  76   3  5  10  0  0  25  1\n",
      "            Seven Week Combined       86   0  0   0  0  0   0  0\n",
      "Fall 2024   Regular Academic Session  69  11  5  17  0  0  28  3\n",
      "            Seven Week Combined       80   0  0   0  0  0   0  0\n",
      "Spring 2025 Regular Academic Session  74  10  7  15  0  1  33  4\n",
      "            Seven Week Combined       86   0  0   0  0  0   0  0\n"
     ]
    }
   ],
   "source": [
    "print(\"15/7 by Days Scheduled & Semester - Combining 7 week sessions\")\n",
    "\n",
    "# Create a new dataframe to avoid directly modifying df_all \n",
    "# Last time we did this, it was building off the df_all_online DF, so we're doing it again on df_all\n",
    "df_all_7week = df_all.copy()\n",
    "\n",
    "# Group \"Seven Week - First\" and \"Seven Week - Second\" into a single \"Seven Week Combined\"\n",
    "df_all_7week[\"Session Grouped\"] = df_all_7week[\"Session\"].replace({\n",
    "    \"Seven Week - First\": \"Seven Week Combined\", \n",
    "    \"Seven Week - Second\": \"Seven Week Combined\"})\n",
    "\n",
    "# Group by Term, Session Grouped (15/7), and Meeting Days\n",
    "meeting_days_summary = df_all_7week.groupby([\"Term\", \"Session Grouped\", \"Meeting Days\"]).size()\n",
    "\n",
    "# Turn Meeting Days into columns for cleaner output\n",
    "session_term_days = meeting_days_summary.unstack(fill_value=0)\n",
    "\n",
    "# Sort the semesters semester_order_func \n",
    "# MultiIndex: Term + Session - needs key = lambda x again\n",
    "session_term_days = session_term_days.loc[sorted(session_term_days.index, key=lambda x: semester_order_func(x[0]))]\n",
    "\n",
    "print(session_term_days)\n"
   ]
  },
  {
   "cell_type": "markdown",
   "metadata": {},
   "source": [
    "15/7 by Component"
   ]
  },
  {
   "cell_type": "code",
   "execution_count": 1011,
   "metadata": {},
   "outputs": [
    {
     "name": "stdout",
     "output_type": "stream",
     "text": [
      "15/7 by Component: Totals\n",
      "Component                 Colloquium  Discussion  Lecture\n",
      "Session                                                  \n",
      "Regular Academic Session           7         181      786\n",
      "Seven Week - First                 0           1      286\n",
      "Seven Week - Second                0           0      298\n",
      "\n",
      "15/7 by Component: Totals by Semester\n",
      "Component                             Colloquium  Discussion  Lecture\n",
      "Term        Session                                                  \n",
      "Fall 2021   Regular Academic Session           1          27      102\n",
      "            Seven Week - First                 0           0       32\n",
      "            Seven Week - Second                0           0       26\n",
      "Spring 2022 Regular Academic Session           1          21       87\n",
      "            Seven Week - First                 0           0       27\n",
      "            Seven Week - Second                0           0       38\n",
      "Fall 2022   Regular Academic Session           0          20       87\n",
      "            Seven Week - First                 0           0       30\n",
      "            Seven Week - Second                0           0       33\n",
      "Spring 2023 Regular Academic Session           2          21       88\n",
      "            Seven Week - First                 0           0       34\n",
      "            Seven Week - Second                0           0       38\n",
      "Fall 2023   Regular Academic Session           0          21       99\n",
      "            Seven Week - First                 0           0       38\n",
      "            Seven Week - Second                0           0       37\n",
      "Spring 2024 Regular Academic Session           1          21       98\n",
      "            Seven Week - First                 0           0       43\n",
      "            Seven Week - Second                0           0       43\n",
      "Fall 2024   Regular Academic Session           1          25      107\n",
      "            Seven Week - First                 0           1       41\n",
      "            Seven Week - Second                0           0       38\n",
      "Spring 2025 Regular Academic Session           1          25      118\n",
      "            Seven Week - First                 0           0       41\n",
      "            Seven Week - Second                0           0       45\n"
     ]
    }
   ],
   "source": [
    "print(\"15/7 by Component: Totals\")\n",
    "\n",
    "# Total counts: Session × Component\n",
    "component_total = df_all.groupby([\"Session\", \"Component\"]).size().unstack(fill_value=0)\n",
    "print(component_total)\n",
    "\n",
    "print(\"\\n15/7 by Component: Totals by Semester\")\n",
    "\n",
    "# By Term: Term × Session × Component\n",
    "component_by_term = df_all.groupby([\"Term\", \"Session\", \"Component\"]).size().unstack(fill_value=0)\n",
    "\n",
    "# Sort - multi-index again (needs key=lambda x)\n",
    "component_by_term = component_by_term.loc[sorted(component_by_term.index, key=lambda x: semester_order_func(x[0]))]\n",
    "\n",
    "print(component_by_term)\n"
   ]
  },
  {
   "cell_type": "markdown",
   "metadata": {},
   "source": [
    "<h1> Modality: Days Scheduled </h1>"
   ]
  },
  {
   "cell_type": "markdown",
   "metadata": {},
   "source": [
    "Days Scheduled - Totals"
   ]
  },
  {
   "cell_type": "code",
   "execution_count": 1012,
   "metadata": {},
   "outputs": [
    {
     "name": "stdout",
     "output_type": "stream",
     "text": [
      "Modality: Days Scheduled Totals\n",
      "\n",
      "df_all:\n",
      "Meeting Days\n",
      "-     1191\n",
      "TR     205\n",
      "MW      79\n",
      "F       34\n",
      "M       34\n",
      "W       12\n",
      "R        3\n",
      "T        1\n",
      "Name: count, dtype: int64\n",
      "\n",
      "df_fall_all:\n",
      "Meeting Days\n",
      "-     582\n",
      "TR    104\n",
      "MW     42\n",
      "F      17\n",
      "M      12\n",
      "W       6\n",
      "R       3\n",
      "Name: count, dtype: int64\n",
      "\n",
      "df_spring_all:\n",
      "Meeting Days\n",
      "-     609\n",
      "TR    101\n",
      "MW     37\n",
      "M      22\n",
      "F      17\n",
      "W       6\n",
      "T       1\n",
      "Name: count, dtype: int64\n"
     ]
    }
   ],
   "source": [
    "# Empty list to store results as DF\n",
    "days_total_list = []\n",
    "\n",
    "print(\"Modality: Days Scheduled Totals\")\n",
    "for name, df in dfs_all.items():\n",
    "    # Print results\n",
    "    print(f\"\\n{name}:\")\n",
    "    print(df[\"Meeting Days\"].value_counts(dropna=False))\n",
    "\n",
    "    # Store results to list\n",
    "    counts = df[\"Meeting Days\"].value_counts(dropna=False)\n",
    "    for meeting_day, count in counts.items():\n",
    "        days_total_list.append({\"Modality\": name, \"Meeting Days\": meeting_day, \"Count\": count})\n",
    "\n",
    "# DF for our results\n",
    "df_days_total = pd.DataFrame(days_total_list)\n"
   ]
  },
  {
   "cell_type": "markdown",
   "metadata": {},
   "source": [
    "Days Scheduled - Totals by Semester"
   ]
  },
  {
   "cell_type": "code",
   "execution_count": 1013,
   "metadata": {},
   "outputs": [
    {
     "name": "stdout",
     "output_type": "stream",
     "text": [
      "Days Scheduled by Semester\n",
      "Meeting Days    -   F  M  MW  R  T  TR  W\n",
      "Term                                     \n",
      "Fall 2021     142   1  0  12  3  0  28  2\n",
      "Spring 2022   142   2  5   5  0  0  20  0\n",
      "Fall 2022     138   3  3   3  0  0  23  0\n",
      "Spring 2023   145   2  5   7  0  0  23  1\n",
      "Fall 2023     153   2  4  10  0  0  25  1\n",
      "Spring 2024   162   3  5  10  0  0  25  1\n",
      "Fall 2024     149  11  5  17  0  0  28  3\n",
      "Spring 2025   160  10  7  15  0  1  33  4\n"
     ]
    }
   ],
   "source": [
    "#Days Scheduled - Totals by Semester\n",
    "\n",
    "#Group by Term/Days & run semester_order_func\n",
    "days_scheduled_semester = df_all.groupby([\"Term\", \"Meeting Days\"]).size().unstack(fill_value=0)\n",
    "days_scheduled_semester = days_scheduled_semester.loc[sorted(days_scheduled_semester.index, key=semester_order_func)]\n",
    "\n",
    "print(\"Days Scheduled by Semester\")\n",
    "print(days_scheduled_semester)\n"
   ]
  },
  {
   "cell_type": "markdown",
   "metadata": {},
   "source": [
    "Days Scheduled by Component"
   ]
  },
  {
   "cell_type": "code",
   "execution_count": 1014,
   "metadata": {},
   "outputs": [
    {
     "name": "stdout",
     "output_type": "stream",
     "text": [
      "Days Scheduled by Component: Totals\n",
      "Meeting Days     -   F   M  MW  R  T   TR  W\n",
      "Component                                   \n",
      "Colloquium       0   0   5   1  0  0    1  0\n",
      "Discussion     109  33  29   0  3  0    0  8\n",
      "Lecture       1082   1   0  78  0  1  204  4\n",
      "\n",
      "Days Scheduled by Component: Totals\n",
      "Meeting Days              -   F  M  MW  R  T  TR  W\n",
      "Term        Component                              \n",
      "Fall 2021   Colloquium    0   0  0   0  0  0   1  0\n",
      "            Discussion   21   1  0   0  3  0   0  2\n",
      "            Lecture     121   0  0  12  0  0  27  0\n",
      "Spring 2022 Colloquium    0   0  1   0  0  0   0  0\n",
      "            Discussion   15   2  4   0  0  0   0  0\n",
      "            Lecture     127   0  0   5  0  0  20  0\n",
      "Fall 2022   Discussion   14   3  3   0  0  0   0  0\n",
      "            Lecture     124   0  0   3  0  0  23  0\n",
      "Spring 2023 Colloquium    0   0  1   1  0  0   0  0\n",
      "            Discussion   15   2  4   0  0  0   0  0\n",
      "            Lecture     130   0  0   6  0  0  23  1\n",
      "Fall 2023   Discussion   15   2  4   0  0  0   0  0\n",
      "            Lecture     138   0  0  10  0  0  25  1\n",
      "Spring 2024 Colloquium    0   0  1   0  0  0   0  0\n",
      "            Discussion   15   2  4   0  0  0   0  0\n",
      "            Lecture     147   1  0  10  0  0  25  1\n",
      "Fall 2024   Colloquium    0   0  1   0  0  0   0  0\n",
      "            Discussion    8  11  4   0  0  0   0  3\n",
      "            Lecture     141   0  0  17  0  0  28  0\n",
      "Spring 2025 Colloquium    0   0  1   0  0  0   0  0\n",
      "            Discussion    6  10  6   0  0  0   0  3\n",
      "            Lecture     154   0  0  15  0  1  33  1\n"
     ]
    }
   ],
   "source": [
    "# Days by Component - Totals\n",
    "\n",
    "# Group by Component and Meeting Days\n",
    "days_by_component_total = df_all.groupby([\"Component\", \"Meeting Days\"]).size().unstack(fill_value=0)\n",
    "print(\"Days Scheduled by Component: Totals\")\n",
    "print(days_by_component_total)\n",
    "\n",
    "# Group by Term, Component, and Meeting Days\n",
    "days_by_component_term = df_all.groupby([\"Term\", \"Component\", \"Meeting Days\"]).size().unstack(fill_value=0)\n",
    "# Sort - multi-index again (key=lambda x)\n",
    "days_by_component_term = days_by_component_term.loc[sorted(days_by_component_term.index, key=lambda x: semester_order_func(x[0]))]\n",
    "print(\"\\nDays Scheduled by Component: Totals\")\n",
    "print(days_by_component_term)\n"
   ]
  },
  {
   "cell_type": "markdown",
   "metadata": {},
   "source": [
    "<h1> Modality: Time of Day </h1>"
   ]
  },
  {
   "cell_type": "markdown",
   "metadata": {},
   "source": [
    "Time of Day - Counts by Start Time"
   ]
  },
  {
   "cell_type": "code",
   "execution_count": 1015,
   "metadata": {},
   "outputs": [
    {
     "name": "stdout",
     "output_type": "stream",
     "text": [
      "Counts by Meeting Time Start\n",
      "Meeting Time Start\n",
      "00:00:00    1191\n",
      "08:00:00       7\n",
      "09:00:00       6\n",
      "09:30:00      14\n",
      "10:00:00      14\n",
      "11:00:00      95\n",
      "12:00:00       7\n",
      "12:30:00      78\n",
      "13:00:00      13\n",
      "14:00:00      54\n",
      "15:00:00      13\n",
      "15:30:00      58\n",
      "16:00:00       5\n",
      "17:30:00       4\n",
      "Name: count, dtype: int64\n"
     ]
    }
   ],
   "source": [
    "# Meeting Time Start - Totals\n",
    "start_time_counts = df_all[\"Meeting Time Start\"].value_counts(dropna=False).sort_index()\n",
    "\n",
    "print(\"Counts by Meeting Time Start\")\n",
    "print(start_time_counts)\n"
   ]
  },
  {
   "cell_type": "markdown",
   "metadata": {},
   "source": [
    "Time of Day - Counts by Semester"
   ]
  },
  {
   "cell_type": "code",
   "execution_count": 1016,
   "metadata": {},
   "outputs": [
    {
     "name": "stdout",
     "output_type": "stream",
     "text": [
      "Meeting Start Time Counts by Semester\n",
      "Meeting Time Start  00:00:00  08:00:00  09:00:00  09:30:00  10:00:00  \\\n",
      "Term                                                                   \n",
      "Fall 2021                142         0         0         7         0   \n",
      "Spring 2022              142         1         0         0         2   \n",
      "Fall 2022                138         1         1         0         1   \n",
      "Spring 2023              145         1         0         0         2   \n",
      "Fall 2023                153         1         0         0         2   \n",
      "Spring 2024              162         1         0         0         3   \n",
      "Fall 2024                149         1         2         3         2   \n",
      "Spring 2025              160         1         3         4         2   \n",
      "\n",
      "Meeting Time Start  11:00:00  12:00:00  12:30:00  13:00:00  14:00:00  \\\n",
      "Term                                                                   \n",
      "Fall 2021                 10         1         9         1         8   \n",
      "Spring 2022                9         1         6         1         6   \n",
      "Fall 2022                  7         0         9         1         3   \n",
      "Spring 2023                6         1         9         1         8   \n",
      "Fall 2023                  9         1        11         1         6   \n",
      "Spring 2024               11         1        11         1         6   \n",
      "Fall 2024                 23         1         9         3         9   \n",
      "Spring 2025               20         1        14         4         8   \n",
      "\n",
      "Meeting Time Start  15:00:00  15:30:00  16:00:00  17:30:00  \n",
      "Term                                                        \n",
      "Fall 2021                  3         5         1         1  \n",
      "Spring 2022                1         4         0         1  \n",
      "Fall 2022                  1         7         1         0  \n",
      "Spring 2023                2         7         1         0  \n",
      "Fall 2023                  0         8         2         1  \n",
      "Spring 2024                1         9         0         0  \n",
      "Fall 2024                  2         8         0         1  \n",
      "Spring 2025                3        10         0         0  \n"
     ]
    }
   ],
   "source": [
    "# Meeting Time Start totals by Term; run semester_order_func\n",
    "start_times_semester = df_all.groupby([\"Term\", \"Meeting Time Start\"]).size().unstack(fill_value=0)\n",
    "start_times_semester = start_times_semester.loc[sorted(start_times_semester.index, key=semester_order_func)]\n",
    "\n",
    "print(\"Meeting Start Time Counts by Semester\")\n",
    "print(start_times_semester)\n"
   ]
  },
  {
   "cell_type": "markdown",
   "metadata": {},
   "source": [
    "<h3>Time of Day Function #1: </h3> break up by morning, midday, afternoon, late afternoon"
   ]
  },
  {
   "cell_type": "markdown",
   "metadata": {},
   "source": [
    "First - Convert \"Meeting Time Start & \"Meeting Time End\" to datetime (HH:MM:SS) format"
   ]
  },
  {
   "cell_type": "code",
   "execution_count": 1017,
   "metadata": {},
   "outputs": [],
   "source": [
    "# new DF\n",
    "df_all_times = df_all.copy()\n",
    "\n",
    "# Columns to convert\n",
    "time_columns = [\"Meeting Time Start\", \"Meeting Time End\"]\n",
    "\n",
    "import datetime\n",
    "for col in time_columns:\n",
    "    if col in df_all_times.columns:\n",
    "        # Convert to dt.time in the format HH:MM:SS\n",
    "        df_all_times[col] = pd.to_datetime(df_all_times[col], format=\"%H:%M:%S\", errors=\"coerce\").dt.time\n",
    "\n",
    "# Check for conversion - still says \"object\" but at least it's a datetime.time object\n",
    "#print(df_all_times.dtypes)\n"
   ]
  },
  {
   "cell_type": "markdown",
   "metadata": {},
   "source": [
    "Time of Day function #1: assign_time_slot \n",
    "\n",
    "morning (through 10am), midday (past 10, through 1pm), afternoon (past 1pm, through 3:30pm), and late afternoon (after 3:30pm)"
   ]
  },
  {
   "cell_type": "code",
   "execution_count": 1018,
   "metadata": {},
   "outputs": [],
   "source": [
    "# Define function for labeling time slots\n",
    "def assign_time_slot(t):\n",
    "    if pd.isnull(t) or t == datetime.time(0, 0):\n",
    "        return \"NoTime\"\n",
    "    elif t <= datetime.time(10, 0):\n",
    "        return \"Morning\"\n",
    "    elif t <= datetime.time(13, 0):\n",
    "        return \"Midday\"\n",
    "    elif t <= datetime.time(15, 30):\n",
    "        return \"Afternoon\"\n",
    "    else:\n",
    "        return \"Late Afternoon\"\n",
    "\n",
    "# Apply function to create new column\n",
    "df_all_times[\"Time Slot\"] = df_all_times[\"Meeting Time Start\"].apply(assign_time_slot)\n"
   ]
  },
  {
   "cell_type": "markdown",
   "metadata": {},
   "source": [
    "Time of Day: Total Counts & Total Counts by Semester"
   ]
  },
  {
   "cell_type": "code",
   "execution_count": 1019,
   "metadata": {},
   "outputs": [
    {
     "name": "stdout",
     "output_type": "stream",
     "text": [
      "Totals by Time Slot\n",
      "Time Slot\n",
      "Morning             41\n",
      "Midday             193\n",
      "Afternoon          125\n",
      "Late Afternoon       9\n",
      "NoTime            1191\n",
      "Name: count, dtype: int64\n",
      "\n",
      "Totals by Time Slot & Semester\n",
      "Time Slot    Morning  Midday  Afternoon  Late Afternoon  NoTime\n",
      "Term                                                           \n",
      "Fall 2021          7      21         16               2     142\n",
      "Spring 2022        3      17         11               1     142\n",
      "Fall 2022          3      17         11               1     138\n",
      "Spring 2023        3      17         17               1     145\n",
      "Fall 2023          3      22         14               3     153\n",
      "Spring 2024        4      24         16               0     162\n",
      "Fall 2024          8      36         19               1     149\n",
      "Spring 2025       10      39         21               0     160\n"
     ]
    }
   ],
   "source": [
    "# Print times in Order\n",
    "ordered_time = [\"Morning\", \"Midday\", \"Afternoon\", \"Late Afternoon\", \"NoTime\"]\n",
    "\n",
    "# Totals by Time Slot\n",
    "# Get value counts, then reindex to your order (ordered_time)\n",
    "time_slot_total = df_all_times[\"Time Slot\"].value_counts(dropna=False).reindex(ordered_time, fill_value=0)\n",
    "\n",
    "print(\"Totals by Time Slot\")\n",
    "print(time_slot_total)\n",
    "\n",
    "# Time Slot Totals by Semester - .groupby([\"Term\", \"Time Slot\"])\n",
    "time_slot_semester = df_all_times.groupby([\"Term\", \"Time Slot\"]).size().unstack(fill_value=0)\n",
    "time_slot_semester = time_slot_semester[ordered_time] # Reorder time slots to ordered_time\n",
    "time_slot_semester = time_slot_semester.loc[sorted(time_slot_semester.index, key=semester_order_func)] # Semesters in order\n",
    "\n",
    "print(\"\\nTotals by Time Slot & Semester\")\n",
    "print(time_slot_semester)"
   ]
  },
  {
   "cell_type": "markdown",
   "metadata": {},
   "source": [
    "<h3>Time of Day Function #2: 3 times of day</h3>"
   ]
  },
  {
   "cell_type": "code",
   "execution_count": 1020,
   "metadata": {},
   "outputs": [],
   "source": [
    "# Morning: before 11. Midday: 11 through before 2. Afternoon: 2 & after\n",
    "def assign_time_slot_v2(t):\n",
    "    if pd.isnull(t) or t == datetime.time(0, 0):\n",
    "        return \"NoTime\"\n",
    "    elif t < datetime.time(11, 0):\n",
    "        return \"Morning\"\n",
    "    elif t < datetime.time(14, 0):\n",
    "        return \"Midday\"\n",
    "    else:\n",
    "        return \"Afternoon\"\n",
    "\n",
    "# New DF for our v2 Time Function\n",
    "df_all_times_v2 = df_all_times.copy()\n",
    "\n",
    "# Apply function to create new column\n",
    "df_all_times_v2[\"Time Slot\"] = df_all_times_v2[\"Meeting Time Start\"].apply(assign_time_slot_v2)"
   ]
  },
  {
   "cell_type": "markdown",
   "metadata": {},
   "source": [
    "Time of Day Function #2: Total Counts & Total Counts by Semester"
   ]
  },
  {
   "cell_type": "code",
   "execution_count": 1021,
   "metadata": {},
   "outputs": [
    {
     "name": "stdout",
     "output_type": "stream",
     "text": [
      "Totals by Time Slot (3 time slots)\n",
      "Time Slot\n",
      "Morning        41\n",
      "Midday        193\n",
      "Afternoon     134\n",
      "NoTime       1191\n",
      "Name: count, dtype: int64\n",
      "\n",
      "Totals by Time Slot & Semester (3 time slots)\n",
      "Time Slot    Morning  Midday  Afternoon  NoTime\n",
      "Term                                           \n",
      "Fall 2021          7      21         18     142\n",
      "Spring 2022        3      17         12     142\n",
      "Fall 2022          3      17         12     138\n",
      "Spring 2023        3      17         18     145\n",
      "Fall 2023          3      22         17     153\n",
      "Spring 2024        4      24         16     162\n",
      "Fall 2024          8      36         20     149\n",
      "Spring 2025       10      39         21     160\n"
     ]
    }
   ],
   "source": [
    "# Print times in Order\n",
    "ordered_time_v2 = [\"Morning\", \"Midday\", \"Afternoon\", \"NoTime\"]\n",
    "\n",
    "# Totals by Time Slot\n",
    "# Get value counts, then reindex to your order\n",
    "time_slot_total_v2 = df_all_times_v2[\"Time Slot\"].value_counts(dropna=False).reindex(ordered_time_v2, fill_value=0)\n",
    "\n",
    "print(\"Totals by Time Slot (3 time slots)\")\n",
    "print(time_slot_total_v2)\n",
    "\n",
    "# Time Slot Totals by Semester f\n",
    "time_slot_semester_v2 = df_all_times_v2.groupby([\"Term\", \"Time Slot\"]).size().unstack(fill_value=0)\n",
    "time_slot_semester_v2 = time_slot_semester_v2[ordered_time_v2]\n",
    "time_slot_semester_v2 = time_slot_semester_v2.loc[sorted(time_slot_semester.index, key=semester_order_func)]\n",
    "\n",
    "print(\"\\nTotals by Time Slot & Semester (3 time slots)\")\n",
    "print(time_slot_semester_v2)"
   ]
  },
  {
   "cell_type": "markdown",
   "metadata": {},
   "source": [
    "<h3> Time of Day: By Modalities"
   ]
  },
  {
   "cell_type": "markdown",
   "metadata": {},
   "source": [
    "Time of Day: In-Person/Online "
   ]
  },
  {
   "cell_type": "markdown",
   "metadata": {},
   "source": [
    "Run Time of Day function on In-Person/Online DFs: df_all_online & df_all_inperson"
   ]
  },
  {
   "cell_type": "code",
   "execution_count": 1022,
   "metadata": {},
   "outputs": [],
   "source": [
    "# New DFs for Online/In-Person for Time Slot Analysis\n",
    "df_times_online = df_all_online.copy()\n",
    "df_times_inperson = df_all_inperson.copy()\n",
    "\n",
    "# Convert the time columns to be datetime\n",
    "for df in [df_times_online, df_times_inperson]:\n",
    "    df[\"Meeting Time Start\"] = pd.to_datetime(df[\"Meeting Time Start\"], \n",
    "                                              format=\"%H:%M:%S\", errors=\"coerce\").dt.time\n",
    "\n",
    "# Apply the Time Slot function\n",
    "df_times_online[\"Time Slot\"] = df_times_online[\"Meeting Time Start\"].apply(assign_time_slot)\n",
    "df_times_inperson[\"Time Slot\"] = df_times_inperson[\"Meeting Time Start\"].apply(assign_time_slot)\n",
    "\n",
    "dfs_times_online_inperson = {\n",
    "    \"df_times_online\": df_times_online,\n",
    "    \"df_times_inperson\": df_times_inperson\n",
    "}"
   ]
  },
  {
   "cell_type": "markdown",
   "metadata": {},
   "source": [
    "Time of Day by In-Person/Online"
   ]
  },
  {
   "cell_type": "code",
   "execution_count": 1023,
   "metadata": {},
   "outputs": [
    {
     "name": "stdout",
     "output_type": "stream",
     "text": [
      "Time Slot Totals by Online vs In-Person\n",
      "\n",
      "df_times_online:\n",
      "Time Slot\n",
      "Morning              0\n",
      "Midday              17\n",
      "Afternoon           16\n",
      "Late Afternoon       1\n",
      "NoTime            1186\n",
      "Name: count, dtype: int64\n",
      "\n",
      "\n",
      "df_times_inperson:\n",
      "Time Slot\n",
      "Morning            41\n",
      "Midday            176\n",
      "Afternoon         109\n",
      "Late Afternoon      8\n",
      "NoTime              5\n",
      "Name: count, dtype: int64\n",
      "\n",
      "\n"
     ]
    }
   ],
   "source": [
    "print(\"Time Slot Totals by Online vs In-Person\\n\")\n",
    "\n",
    "for df_name, df in dfs_times_online_inperson.items():\n",
    "    print(f\"{df_name}:\")\n",
    "    \n",
    "    time_modality_total = df[\"Time Slot\"].value_counts(dropna=False)\n",
    "    time_modality_total = time_modality_total.reindex(ordered_time, fill_value=0)\n",
    "    \n",
    "    print(time_modality_total)\n",
    "    print(\"\\n\") \n"
   ]
  },
  {
   "cell_type": "markdown",
   "metadata": {},
   "source": [
    "Time of Day by In-Person/Online & Semester"
   ]
  },
  {
   "cell_type": "code",
   "execution_count": 1024,
   "metadata": {},
   "outputs": [
    {
     "name": "stdout",
     "output_type": "stream",
     "text": [
      "Time Slot Totals by Online vs In-Person & Semester\n",
      "\n",
      "df_times_online:\n",
      "Time Slot    Afternoon  Late Afternoon  Midday  NoTime\n",
      "Term                                                  \n",
      "Fall 2021            6               1       6     142\n",
      "Spring 2022          0               0       1     142\n",
      "Fall 2022            0               0       0     138\n",
      "Spring 2023          2               0       2     145\n",
      "Fall 2023            2               0       2     153\n",
      "Spring 2024          2               0       2     162\n",
      "Fall 2024            2               0       2     147\n",
      "Spring 2025          2               0       2     157\n",
      "\n",
      "\n",
      "df_times_inperson:\n",
      "Time Slot    Morning  Midday  Afternoon  Late Afternoon  NoTime\n",
      "Term                                                           \n",
      "Fall 2021          7      15         10               1       0\n",
      "Spring 2022        3      16         11               1       0\n",
      "Fall 2022          3      17         11               1       0\n",
      "Spring 2023        3      15         15               1       0\n",
      "Fall 2023          3      20         12               3       0\n",
      "Spring 2024        4      22         14               0       0\n",
      "Fall 2024          8      34         17               1       2\n",
      "Spring 2025       10      37         19               0       3\n",
      "\n",
      "\n"
     ]
    }
   ],
   "source": [
    "print(\"Time Slot Totals by Online vs In-Person & Semester\\n\")\n",
    "\n",
    "for df_name, df in dfs_times_online_inperson.items():\n",
    "    # Group by Term and Time Slot\n",
    "    time_slot_by_term = df.groupby([\"Term\", \"Time Slot\"]).size().unstack(fill_value=0)\n",
    "    # Reorder time slots to ordered_time\n",
    "    time_slot_by_term = time_slot_by_term[ordered_time] if set(ordered_time).issubset(time_slot_by_term.columns) else time_slot_by_term\n",
    "    # Sort semesters with semester_order_func\n",
    "    time_slot_by_term = time_slot_by_term.loc[sorted(time_slot_by_term.index, key=semester_order_func)]\n",
    "\n",
    "    print(f\"{df_name}:\")\n",
    "    print(time_slot_by_term)\n",
    "    print(\"\\n\")  \n"
   ]
  },
  {
   "cell_type": "markdown",
   "metadata": {},
   "source": [
    "Time of Day: 15-week/7-week"
   ]
  },
  {
   "cell_type": "markdown",
   "metadata": {},
   "source": [
    "Time of Slots: 15/7 totals"
   ]
  },
  {
   "cell_type": "code",
   "execution_count": 1025,
   "metadata": {},
   "outputs": [
    {
     "name": "stdout",
     "output_type": "stream",
     "text": [
      "Time of Day by 15/7 Session Type\n",
      "Session         Regular Academic Session  Seven Week - First  \\\n",
      "Time Slot                                                      \n",
      "Morning                               41                   0   \n",
      "Midday                               193                   0   \n",
      "Afternoon                            125                   0   \n",
      "Late Afternoon                         9                   0   \n",
      "NoTime                               606                 287   \n",
      "\n",
      "Session         Seven Week - Second  \n",
      "Time Slot                            \n",
      "Morning                           0  \n",
      "Midday                            0  \n",
      "Afternoon                         0  \n",
      "Late Afternoon                    0  \n",
      "NoTime                          298  \n"
     ]
    }
   ],
   "source": [
    "time_session_totals = df_all_times.groupby([\"Time Slot\", \"Session\"]).size().unstack(fill_value=0) # group\n",
    "time_session_totals = time_session_totals.reindex(ordered_time) # order time slots ordered_time\n",
    "\n",
    "print(\"Time of Day by 15/7 Session Type\")\n",
    "print(time_session_totals)"
   ]
  },
  {
   "cell_type": "markdown",
   "metadata": {},
   "source": [
    "Time Slots by 15/7 and Semester"
   ]
  },
  {
   "cell_type": "code",
   "execution_count": 1026,
   "metadata": {},
   "outputs": [
    {
     "name": "stdout",
     "output_type": "stream",
     "text": [
      "Time Slot Totals by 15/7 Week & Semester\n",
      "Session                     Regular Academic Session  Seven Week - First  \\\n",
      "Time Slot      Term                                                        \n",
      "Morning        Fall 2021                           7                   0   \n",
      "               Spring 2022                         3                   0   \n",
      "               Fall 2022                           3                   0   \n",
      "               Spring 2023                         3                   0   \n",
      "               Fall 2023                           3                   0   \n",
      "               Spring 2024                         4                   0   \n",
      "               Fall 2024                           8                   0   \n",
      "               Spring 2025                        10                   0   \n",
      "Midday         Fall 2021                          21                   0   \n",
      "               Spring 2022                        17                   0   \n",
      "               Fall 2022                          17                   0   \n",
      "               Spring 2023                        17                   0   \n",
      "               Fall 2023                          22                   0   \n",
      "               Spring 2024                        24                   0   \n",
      "               Fall 2024                          36                   0   \n",
      "               Spring 2025                        39                   0   \n",
      "Afternoon      Fall 2021                          16                   0   \n",
      "               Spring 2022                        11                   0   \n",
      "               Fall 2022                          11                   0   \n",
      "               Spring 2023                        17                   0   \n",
      "               Fall 2023                          14                   0   \n",
      "               Spring 2024                        16                   0   \n",
      "               Fall 2024                          19                   0   \n",
      "               Spring 2025                        21                   0   \n",
      "Late Afternoon Fall 2021                           2                   0   \n",
      "               Spring 2022                         1                   0   \n",
      "               Fall 2022                           1                   0   \n",
      "               Spring 2023                         1                   0   \n",
      "               Fall 2023                           3                   0   \n",
      "               Fall 2024                           1                   0   \n",
      "NoTime         Fall 2021                          84                  32   \n",
      "               Spring 2022                        77                  27   \n",
      "               Fall 2022                          75                  30   \n",
      "               Spring 2023                        73                  34   \n",
      "               Fall 2023                          78                  38   \n",
      "               Spring 2024                        76                  43   \n",
      "               Fall 2024                          69                  42   \n",
      "               Spring 2025                        74                  41   \n",
      "\n",
      "Session                     Seven Week - Second  \n",
      "Time Slot      Term                              \n",
      "Morning        Fall 2021                      0  \n",
      "               Spring 2022                    0  \n",
      "               Fall 2022                      0  \n",
      "               Spring 2023                    0  \n",
      "               Fall 2023                      0  \n",
      "               Spring 2024                    0  \n",
      "               Fall 2024                      0  \n",
      "               Spring 2025                    0  \n",
      "Midday         Fall 2021                      0  \n",
      "               Spring 2022                    0  \n",
      "               Fall 2022                      0  \n",
      "               Spring 2023                    0  \n",
      "               Fall 2023                      0  \n",
      "               Spring 2024                    0  \n",
      "               Fall 2024                      0  \n",
      "               Spring 2025                    0  \n",
      "Afternoon      Fall 2021                      0  \n",
      "               Spring 2022                    0  \n",
      "               Fall 2022                      0  \n",
      "               Spring 2023                    0  \n",
      "               Fall 2023                      0  \n",
      "               Spring 2024                    0  \n",
      "               Fall 2024                      0  \n",
      "               Spring 2025                    0  \n",
      "Late Afternoon Fall 2021                      0  \n",
      "               Spring 2022                    0  \n",
      "               Fall 2022                      0  \n",
      "               Spring 2023                    0  \n",
      "               Fall 2023                      0  \n",
      "               Fall 2024                      0  \n",
      "NoTime         Fall 2021                     26  \n",
      "               Spring 2022                   38  \n",
      "               Fall 2022                     33  \n",
      "               Spring 2023                   38  \n",
      "               Fall 2023                     37  \n",
      "               Spring 2024                   43  \n",
      "               Fall 2024                     38  \n",
      "               Spring 2025                   45  \n"
     ]
    }
   ],
   "source": [
    "# .groupby([\"Term\", \"Time Slot\", \"Session\"])\n",
    "time_session_term = df_all_times.groupby([\"Term\", \"Time Slot\", \"Session\"]).size().unstack(fill_value=0)\n",
    "\n",
    "# Reorder: \n",
    "time_session_term = time_session_term.reorder_levels([\"Time Slot\", \"Term\"])     # Reorder: Time Slot first, then Term\n",
    "time_session_term = time_session_term.reindex(ordered_time, level=\"Time Slot\")  # Reorder: time slots by ordered_time order\n",
    "# Reorder semesters within each Time Slot (multi-index) using semester_order_func on Term\n",
    "time_session_term = time_session_term.loc[sorted(time_session_term.index,\n",
    "                                                 key=lambda x: (ordered_time.index(x[0]), semester_order_func(x[1])))]\n",
    "\n",
    "print(\"Time Slot Totals by 15/7 Week & Semester\")\n",
    "print(time_session_term)\n"
   ]
  },
  {
   "cell_type": "markdown",
   "metadata": {},
   "source": [
    "Time of Day: By Days Scheduled"
   ]
  },
  {
   "cell_type": "code",
   "execution_count": 1027,
   "metadata": {},
   "outputs": [
    {
     "name": "stdout",
     "output_type": "stream",
     "text": [
      "Time Slot Totals by Days Scheduled\n",
      "Meeting Days       -   F   M  MW  R  T   TR  W\n",
      "Time Slot                                     \n",
      "Morning            0   6  21   3  0  0   11  0\n",
      "Midday             0  26   7  43  1  0  111  5\n",
      "Afternoon          0   2   6  30  1  1   78  7\n",
      "Late Afternoon     0   0   0   3  1  0    5  0\n",
      "NoTime          1191   0   0   0  0  0    0  0\n"
     ]
    }
   ],
   "source": [
    "# Time Slots by Days\n",
    "time_slot_days = df_all_times.groupby([\"Time Slot\", \"Meeting Days\"]).size().unstack(fill_value=0)\n",
    "time_slot_days = time_slot_days.reindex(ordered_time)\n",
    "\n",
    "print(\"Time Slot Totals by Days Scheduled\")\n",
    "print(time_slot_days)"
   ]
  },
  {
   "cell_type": "markdown",
   "metadata": {},
   "source": [
    "Time of Day by Days Scheduled & Semester"
   ]
  },
  {
   "cell_type": "code",
   "execution_count": 1028,
   "metadata": {},
   "outputs": [
    {
     "name": "stdout",
     "output_type": "stream",
     "text": [
      "Time of Day by Days & Semester\n",
      "Time Slot                 Morning  Midday  Afternoon  Late Afternoon  NoTime\n",
      "Term        Meeting Days                                                    \n",
      "Fall 2021   -                   0       0          0               0     142\n",
      "            F                   0       1          0               0       0\n",
      "            MW                  0       7          5               0       0\n",
      "            R                   0       1          1               1       0\n",
      "            TR                  7      12          8               1       0\n",
      "            W                   0       0          2               0       0\n",
      "Spring 2022 -                   0       0          0               0     142\n",
      "            F                   0       2          0               0       0\n",
      "            M                   3       1          1               0       0\n",
      "            MW                  0       3          2               0       0\n",
      "            TR                  0      11          8               1       0\n",
      "Fall 2022   -                   0       0          0               0     138\n",
      "            F                   1       2          0               0       0\n",
      "            M                   2       0          1               0       0\n",
      "            MW                  0       1          1               1       0\n",
      "            TR                  0      14          9               0       0\n",
      "Spring 2023 -                   0       0          0               0     145\n",
      "            F                   0       2          0               0       0\n",
      "            M                   3       1          1               0       0\n",
      "            MW                  0       3          3               1       0\n",
      "            TR                  0      11         12               0       0\n",
      "            W                   0       0          1               0       0\n",
      "Fall 2023   -                   0       0          0               0     153\n",
      "            F                   0       2          0               0       0\n",
      "            M                   3       1          0               0       0\n",
      "            MW                  0       5          4               1       0\n",
      "            TR                  0      14          9               2       0\n",
      "            W                   0       0          1               0       0\n",
      "Spring 2024 -                   0       0          0               0     162\n",
      "            F                   1       2          0               0       0\n",
      "            M                   3       1          1               0       0\n",
      "            MW                  0       7          3               0       0\n",
      "            TR                  0      14         11               0       0\n",
      "            W                   0       0          1               0       0\n",
      "Fall 2024   -                   0       0          0               0     149\n",
      "            F                   2       8          1               0       0\n",
      "            M                   3       1          1               0       0\n",
      "            MW                  1       9          7               0       0\n",
      "            TR                  2      15         10               1       0\n",
      "            W                   0       3          0               0       0\n",
      "Spring 2025 -                   0       0          0               0     160\n",
      "            F                   2       7          1               0       0\n",
      "            M                   4       2          1               0       0\n",
      "            MW                  2       8          5               0       0\n",
      "            T                   0       0          1               0       0\n",
      "            TR                  2      20         11               0       0\n",
      "            W                   0       2          2               0       0\n"
     ]
    }
   ],
   "source": [
    "# Group by Term (semester), Meeting Days, and Time Slot\n",
    "time_day_semester = df_all_times.groupby([\"Term\", \"Meeting Days\", \"Time Slot\"]).size().unstack(fill_value=0)\n",
    "# Reorder Time Slots by ordered_time\n",
    "time_day_semester = time_day_semester[ordered_time] if set(ordered_time).issubset(time_day_semester.columns) else time_day_semester\n",
    "# Reorder Semesters with func semester_order_func (multi-index)\n",
    "time_day_semester = time_day_semester.loc[sorted(time_day_semester.index, key=lambda x: semester_order_func(x[0]))]\n",
    "\n",
    "print(\"Time of Day by Days & Semester\")\n",
    "print(time_day_semester)"
   ]
  },
  {
   "cell_type": "markdown",
   "metadata": {},
   "source": [
    "Time of Day by Component"
   ]
  },
  {
   "cell_type": "code",
   "execution_count": 1029,
   "metadata": {},
   "outputs": [
    {
     "name": "stdout",
     "output_type": "stream",
     "text": [
      "Time of Day by Component\n",
      "Component       Colloquium  Discussion  Lecture\n",
      "Time Slot                                      \n",
      "Morning                  0          26       15\n",
      "Midday                   0          39      154\n",
      "Afternoon                7           7      111\n",
      "Late Afternoon           0           1        8\n",
      "NoTime                   0         109     1082\n",
      "\n",
      "Time of Day by Component & Semester\n",
      "Component                   Colloquium  Discussion  Lecture\n",
      "Time Slot      Term                                        \n",
      "Morning        Fall 2021             0           0        7\n",
      "               Spring 2022           0           3        0\n",
      "               Fall 2022             0           3        0\n",
      "               Spring 2023           0           3        0\n",
      "               Fall 2023             0           3        0\n",
      "               Spring 2024           0           3        1\n",
      "               Fall 2024             0           5        3\n",
      "               Spring 2025           0           6        4\n",
      "Midday         Fall 2021             0           2       19\n",
      "               Spring 2022           0           3       14\n",
      "               Fall 2022             0           2       15\n",
      "               Spring 2023           0           3       14\n",
      "               Fall 2023             0           3       19\n",
      "               Spring 2024           0           3       21\n",
      "               Fall 2024             0          12       24\n",
      "               Spring 2025           0          11       28\n",
      "Afternoon      Fall 2021             1           3       12\n",
      "               Spring 2022           1           0       10\n",
      "               Fall 2022             0           1       10\n",
      "               Spring 2023           2           0       15\n",
      "               Fall 2023             0           0       14\n",
      "               Spring 2024           1           0       15\n",
      "               Fall 2024             1           1       17\n",
      "               Spring 2025           1           2       18\n",
      "Late Afternoon Fall 2021             0           1        1\n",
      "               Spring 2022           0           0        1\n",
      "               Fall 2022             0           0        1\n",
      "               Spring 2023           0           0        1\n",
      "               Fall 2023             0           0        3\n",
      "               Fall 2024             0           0        1\n",
      "NoTime         Fall 2021             0          21      121\n",
      "               Spring 2022           0          15      127\n",
      "               Fall 2022             0          14      124\n",
      "               Spring 2023           0          15      130\n",
      "               Fall 2023             0          15      138\n",
      "               Spring 2024           0          15      147\n",
      "               Fall 2024             0           8      141\n",
      "               Spring 2025           0           6      154\n"
     ]
    }
   ],
   "source": [
    "# Time of Day by Component - Totals\n",
    "tod_component = df_all_times.groupby([\"Time Slot\", \"Component\"]).size().unstack(fill_value=0)\n",
    "tod_component = tod_component.reindex(ordered_time)\n",
    "\n",
    "print(\"Time of Day by Component\")\n",
    "print(tod_component)\n",
    "\n",
    "# Time of Day by Component & Semester\n",
    "tod_component_semester = df_all_times.groupby([\"Term\", \"Time Slot\", \"Component\"]).size().unstack(fill_value=0)\n",
    "# Reorder: 1) print Time Slot first, 2) Time Slot by ordered_time, 3) Term by semester_order_func\n",
    "tod_component_semester = tod_component_semester.reorder_levels([\"Time Slot\", \"Term\"]).sort_index(level=\"Time Slot\")\n",
    "tod_component_semester = tod_component_semester.reindex(ordered_time, level=\"Time Slot\")\n",
    "tod_component_semester = tod_component_semester.loc[sorted(tod_component_semester.index,\n",
    "                                                           key=lambda x: (ordered_time.index(x[0]), semester_order_func(x[1])))]\n",
    "\n",
    "print(\"\\nTime of Day by Component & Semester\")\n",
    "print(tod_component_semester)\n"
   ]
  },
  {
   "cell_type": "markdown",
   "metadata": {},
   "source": [
    "Save relevent DFs for Modality Trend Analysis"
   ]
  },
  {
   "cell_type": "code",
   "execution_count": 1031,
   "metadata": {},
   "outputs": [],
   "source": [
    "Modality_Trend_path = os.path.join(os.getcwd(), \"Modality Trends\")\n",
    "os.makedirs(Modality_Trend_path, exist_ok=True) \n",
    "\n",
    "# List of DFs to save\n",
    "dfs_to_save = [\n",
    "    (df_days_total, \"df_days_total.xlsx\"),\n",
    "    (days_scheduled_semester, \"days_scheduled_semester.xlsx\"),\n",
    "\n",
    "    (days_by_component_total, \"days_by_component_total.xlsx\"),\n",
    "    (days_by_component_term, \"days_by_component_term.xlsx\"),\n",
    "\n",
    "    (start_time_counts, \"start_time_counts.xlsx\"),\n",
    "    (start_times_semester, \"start_times_semester.xlsx\"),\n",
    "\n",
    "    (time_slot_total, \"time_slot_total.xlsx\"),\n",
    "    (time_slot_semester, \"time_slot_semester.xlsx\"),\n",
    "\n",
    "    (time_slot_total_v2, \"time_slot_total_v2.xlsx\"),\n",
    "    (time_slot_semester_v2, \"time_slot_semester_v2.xlsx\"),\n",
    "\n",
    "    (time_slot_days, \"time_slot_days.xlsx\"),\n",
    "    (time_day_semester, \"time_day_semester.xlsx\"),\n",
    "\n",
    "    (tod_component, \"tod_component.xlsx\"),\n",
    "    (tod_component_semester, \"tod_component_semester.xlsx\")]\n",
    "\n",
    "# Save each to Excel\n",
    "for df, filename in dfs_to_save:\n",
    "    file_path = os.path.join(Modality_Trend_path, filename)\n",
    "    df.to_excel(file_path)"
   ]
  },
  {
   "cell_type": "markdown",
   "metadata": {},
   "source": [
    "Save our final df_all for CBI analysis"
   ]
  },
  {
   "cell_type": "code",
   "execution_count": null,
   "metadata": {},
   "outputs": [],
   "source": [
    "# Save final df_all to our next CBI folder\n",
    "CBI_folder_path = os.path.join(os.getcwd(), \"CBI Analysis\")\n",
    "os.makedirs(CBI_folder_path, exist_ok=True) \n",
    "df_all.to_excel(os.path.join(CBI_folder_path, \"df_all.xlsx\"), index=False)"
   ]
  }
 ],
 "metadata": {
  "kernelspec": {
   "display_name": "base",
   "language": "python",
   "name": "python3"
  },
  "language_info": {
   "codemirror_mode": {
    "name": "ipython",
    "version": 3
   },
   "file_extension": ".py",
   "mimetype": "text/x-python",
   "name": "python",
   "nbconvert_exporter": "python",
   "pygments_lexer": "ipython3",
   "version": "3.12.7"
  }
 },
 "nbformat": 4,
 "nbformat_minor": 2
}
