{
 "cells": [
  {
   "cell_type": "code",
   "execution_count": null,
   "metadata": {},
   "outputs": [],
   "source": [
    "%reset -f"
   ]
  },
  {
   "cell_type": "code",
   "execution_count": 1,
   "metadata": {},
   "outputs": [],
   "source": [
    "import os\n",
    "import pandas as pd\n",
    "\n",
    "base_path = os.path.join(os.getcwd(), \"Modality Trends\")\n",
    "\n",
    "# Import DataFrames made in our KDD\n",
    "df_days_total = pd.read_excel(os.path.join(base_path, \"df_days_total.xlsx\"))\n",
    "days_scheduled_semester = pd.read_excel(os.path.join(base_path, \"days_scheduled_semester.xlsx\"))\n",
    "\n",
    "days_by_component_total = pd.read_excel(os.path.join(base_path, \"days_by_component_total.xlsx\"))\n",
    "days_by_component_term = pd.read_excel(os.path.join(base_path, \"days_by_component_term.xlsx\"))\n",
    "\n",
    "start_time_counts = pd.read_excel(os.path.join(base_path, \"start_time_counts.xlsx\"))\n",
    "start_times_semester = pd.read_excel(os.path.join(base_path, \"start_times_semester.xlsx\"))\n",
    "\n",
    "time_slot_total = pd.read_excel(os.path.join(base_path, \"time_slot_total.xlsx\"))\n",
    "time_slot_semester = pd.read_excel(os.path.join(base_path, \"time_slot_semester.xlsx\"))\n",
    "\n",
    "time_slot_total_v2 = pd.read_excel(os.path.join(base_path, \"time_slot_total_v2.xlsx\"))\n",
    "time_slot_semester_v2 = pd.read_excel(os.path.join(base_path, \"time_slot_semester_v2.xlsx\"))\n",
    "\n",
    "time_slot_days = pd.read_excel(os.path.join(base_path, \"time_slot_days.xlsx\"))\n",
    "time_day_semester = pd.read_excel(os.path.join(base_path, \"time_day_semester.xlsx\"))\n",
    "\n",
    "tod_component = pd.read_excel(os.path.join(base_path, \"tod_component.xlsx\"))\n",
    "tod_component_semester = pd.read_excel(os.path.join(base_path, \"tod_component_semester.xlsx\"))\n"
   ]
  }
 ],
 "metadata": {
  "kernelspec": {
   "display_name": "base",
   "language": "python",
   "name": "python3"
  },
  "language_info": {
   "codemirror_mode": {
    "name": "ipython",
    "version": 3
   },
   "file_extension": ".py",
   "mimetype": "text/x-python",
   "name": "python",
   "nbconvert_exporter": "python",
   "pygments_lexer": "ipython3",
   "version": "3.12.7"
  }
 },
 "nbformat": 4,
 "nbformat_minor": 2
}
