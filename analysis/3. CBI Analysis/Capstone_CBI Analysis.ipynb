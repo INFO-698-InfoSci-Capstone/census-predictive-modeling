{
 "cells": [
  {
   "cell_type": "code",
   "execution_count": 73,
   "id": "b2e8ec57",
   "metadata": {},
   "outputs": [],
   "source": [
    "%reset -f"
   ]
  },
  {
   "cell_type": "code",
   "execution_count": 1,
   "id": "6d1ec6ee",
   "metadata": {},
   "outputs": [],
   "source": [
    "# Import packages\n",
    "import os\n",
    "import pandas as pd\n",
    "import matplotlib.pyplot as plt\n",
    "import numpy as np\n",
    "from sklearn.ensemble import RandomForestRegressor"
   ]
  },
  {
   "cell_type": "code",
   "execution_count": 2,
   "id": "d757a9f2",
   "metadata": {},
   "outputs": [],
   "source": [
    "base_path = os.path.join(os.getcwd(), \"CBI Analysis\")\n",
    "\n",
    "# Import df_all and raw data for IAS & PCS\n",
    "df_all = pd.read_excel(os.path.join(base_path, \"df_all.xlsx\"))\n",
    "df_IAS_raw = pd.read_excel(os.path.join(base_path, \"2022_2025_Faculty Load Analysis w. Class # - CLEANED.xlsx\"))\n",
    "df_PCS_raw = pd.read_excel(os.path.join(base_path, \"Course List w. Pre-Reqs.xlsx\"))"
   ]
  },
  {
   "cell_type": "markdown",
   "id": "8b400953",
   "metadata": {},
   "source": [
    "Import the Semester Sort Function"
   ]
  },
  {
   "cell_type": "code",
   "execution_count": 3,
   "id": "cfe6522b",
   "metadata": {},
   "outputs": [],
   "source": [
    "# Strategy: label Fall/Spring starting with the same year, to count them as the same academic year\n",
    "# e.g. Fall 2021 & Spring 2022 will turn into 2021.0 and 2021.5, to group as the 2021 academic year\n",
    "\n",
    "def semester_order_func(sem):\n",
    "    season, year = sem.split()\n",
    "    year = int(year)\n",
    "    if season == \"Fall\":\n",
    "        return year + 0.0           # Fall 2021 turns into 2021.0; Fall 2021 into 2022.0; etc\n",
    "    elif season == \"Spring\":\n",
    "        return (year - 1) + 0.5     # Spring 2022 - 1 + 0.5 = 2021.5 so that it'll follow Fall 2021.0"
   ]
  },
  {
   "cell_type": "markdown",
   "id": "b382321a",
   "metadata": {},
   "source": [
    "<h1> Course Bottleneck Index (CBI) KDD </h1>"
   ]
  },
  {
   "cell_type": "markdown",
   "id": "486dbb88",
   "metadata": {},
   "source": [
    "<h3> Begin with Defining Terms: DR, OFS, IAS, PCS </h3>"
   ]
  },
  {
   "cell_type": "markdown",
   "id": "a4e00228",
   "metadata": {},
   "source": [
    "<h2> Demand Ratio (DR)</h2>\n",
    "DR = enrollment / capacity"
   ]
  },
  {
   "cell_type": "markdown",
   "id": "80eff76b",
   "metadata": {},
   "source": [
    "Data Cleanse for DR, group Co-Convened Courses"
   ]
  },
  {
   "cell_type": "code",
   "execution_count": 4,
   "id": "a220105f",
   "metadata": {},
   "outputs": [
    {
     "name": "stdout",
     "output_type": "stream",
     "text": [
      "df_DR_all had 1559 rows before consolidating the co-convened classes\n",
      "\n",
      "df_DR_all has 1047 rows after consolidating the co-convened classes\n"
     ]
    }
   ],
   "source": [
    "df_DR_all = df_all.copy()\n",
    "\n",
    "# Co-Convened? no: df_n_coconvened, yes: df_y_coconvened\n",
    "df_n_coconvened = df_DR_all[df_DR_all[\"Combined Section\"] == \"-\"] # Whether or not value = \"-\"\n",
    "df_y_coconvened = df_DR_all[df_DR_all[\"Combined Section\"] != \"-\"]\n",
    "\n",
    "# Co-Convened Yes Modifications -->\n",
    "# Feed to Aggregate Dictionary: 1) grouping columns; 2) sum columns; 3) all remaining columns, keep \"first\" value\n",
    "cc_group_cols = [\"Term\", \"Combined Section\"]           # same \"term\" & \"combined section\" -> yes co-convened\n",
    "cc_sum_cols = [\"Total Enroll\", \"Enrollment Capacity\"]  # sum Enroll & Capacity if co-convened\n",
    "cc_first_cols = [col for col in df_y_coconvened.columns if col not in cc_group_cols + cc_sum_cols] # all other cols, keep first value\n",
    "\n",
    "# Build the aggregate dictionary for Co-Convened Yes\n",
    "cc_agg_dict = {col: \"sum\" for col in cc_sum_cols}\n",
    "cc_agg_dict.update({col: \"first\" for col in cc_first_cols})\n",
    "\n",
    "# Co-Convened Yes: Group and aggregate\n",
    "df_y_coconvened = df_y_coconvened.groupby(cc_group_cols, as_index=False).agg(cc_agg_dict)\n",
    "\n",
    "# Concatenate the y/n Co-Convened DFs together\n",
    "df_DR_all = pd.concat([df_n_coconvened, df_y_coconvened], ignore_index=True)\n",
    "\n",
    "print(\"df_DR_all had\",df_all.shape[0], \"rows before consolidating the co-convened classes\")\n",
    "print(\"\\ndf_DR_all has\",df_DR_all.shape[0], \"rows after consolidating the co-convened classes\")"
   ]
  },
  {
   "cell_type": "markdown",
   "id": "c1632914",
   "metadata": {},
   "source": [
    "DR for every class"
   ]
  },
  {
   "cell_type": "code",
   "execution_count": 5,
   "id": "3b232739",
   "metadata": {},
   "outputs": [],
   "source": [
    "#DR for Every Individual Class\n",
    "df_DR_all[\"DR\"] = (df_DR_all[\"Total Enroll\"] / df_DR_all[\"Enrollment Capacity\"]).round(2)"
   ]
  },
  {
   "cell_type": "markdown",
   "id": "7229df3a",
   "metadata": {},
   "source": [
    "Explore missing values for DR"
   ]
  },
  {
   "cell_type": "code",
   "execution_count": 6,
   "id": "1def79be",
   "metadata": {},
   "outputs": [],
   "source": [
    "df_DR_missing = df_DR_all[df_DR_all[\"DR\"].isna()]\n",
    "# All of them are classes with no enrollments & no capacity\n",
    "\n",
    "# Fill missing values with 0s (discussed with mentor, these were cancelled classes)\n",
    "df_DR_all[\"DR\"] = df_DR_all[\"DR\"].fillna(0)\n",
    "\n",
    "# Drop the 2 (discussion) classes that had Enrollments but didn't have Enrollment Capacity (DR = \"inf\")\n",
    "# Statistic Foundations Info Age & Dealing with Data\n",
    "df_DR_all = df_DR_all[df_DR_all[\"DR\"].astype(str) != \"inf\"]"
   ]
  },
  {
   "cell_type": "markdown",
   "id": "7d9246cc",
   "metadata": {},
   "source": [
    "Finalize data cleansing for df_DR_all"
   ]
  },
  {
   "cell_type": "markdown",
   "id": "0502b853",
   "metadata": {},
   "source": [
    "DR: Total by Course"
   ]
  },
  {
   "cell_type": "code",
   "execution_count": 7,
   "id": "4b74a857",
   "metadata": {},
   "outputs": [
    {
     "name": "stdout",
     "output_type": "stream",
     "text": [
      "Average DR by Course:\n",
      "               Course Description    DR\n",
      "0       Advanced Game Development  0.27\n",
      "1             Advanced Web Design  0.33\n",
      "2            Algorithms for Games  0.68\n",
      "3   Applied Cyberinfrastruct Conc  0.14\n",
      "4      Applied Data Visualization  0.68\n",
      "..                            ...   ...\n",
      "76          Theories of New Media  0.47\n",
      "77       User Interf+Website Dsgn  0.06\n",
      "78                Virtual Reality  0.38\n",
      "79        Visual Content Creation  0.52\n",
      "80              eSport Industries  0.70\n",
      "\n",
      "[81 rows x 2 columns]\n"
     ]
    }
   ],
   "source": [
    "df_avg_DR = (df_DR_all.groupby(\"Course Description\", as_index=False)[\"DR\"].mean()).round(2)\n",
    "print(\"Average DR by Course:\")\n",
    "print(df_avg_DR)"
   ]
  },
  {
   "cell_type": "markdown",
   "id": "c545df6e",
   "metadata": {},
   "source": [
    "DR Total - Summary Stats"
   ]
  },
  {
   "cell_type": "code",
   "execution_count": 8,
   "id": "e286cf63",
   "metadata": {},
   "outputs": [
    {
     "name": "stdout",
     "output_type": "stream",
     "text": [
      "DR Summary Statistics (Overall):\n",
      "Mean DR: 0.44\n",
      "Median DR: 0.52\n",
      "Standard Deviation: 0.24\n",
      "Min DR: 0.0 — Courses: ['Natural Language Processing', 'Simulation and Problem Solving', 'Special Topics in LIS']\n",
      "Max DR: 0.91 — Courses: ['Digital Crime & Social Media']\n",
      "\n",
      "10 Highest DR Courses:\n",
      "                Course Description    DR\n",
      "22    Digital Crime & Social Media  0.91\n",
      "42             Installation Design  0.87\n",
      "12          Computing and the Arts  0.85\n",
      "11  Computational Thinking & Doing  0.84\n",
      "31       Ethics in a Digital World  0.75\n",
      "69      Social Media and Ourselves  0.75\n",
      "52  Intro: Human Computer Interact  0.73\n",
      "53     Introduction to Game Design  0.73\n",
      "80               eSport Industries  0.70\n",
      "37     Great Ideas of the Info Age  0.69\n",
      "\n",
      "10 Lowest DR Courses:\n",
      "                Course Description    DR\n",
      "57     Natural Language Processing  0.00\n",
      "67  Simulation and Problem Solving  0.00\n",
      "72           Special Topics in LIS  0.00\n",
      "10    Computational Social Science  0.01\n",
      "14                     Data Ethics  0.01\n",
      "8             Business Information  0.02\n",
      "7    Bayesian Modeling & Inference  0.03\n",
      "30   Ethical Issues in Information  0.03\n",
      "65                      STEM Games  0.05\n",
      "77        User Interf+Website Dsgn  0.06\n"
     ]
    }
   ],
   "source": [
    "# Overall stats\n",
    "dr_mean = round(df_avg_DR[\"DR\"].mean(), 2)\n",
    "dr_median = round(df_avg_DR[\"DR\"].median(), 2)\n",
    "dr_std = round(df_avg_DR[\"DR\"].std(), 2)\n",
    "\n",
    "print(\"DR Summary Statistics (Overall):\")\n",
    "print(f\"Mean DR: {dr_mean}\")\n",
    "print(f\"Median DR: {dr_median}\")\n",
    "print(f\"Standard Deviation: {dr_std}\")\n",
    "\n",
    "\n",
    "# DR min/max and course name\n",
    "dr_min = round(df_avg_DR[\"DR\"].min(), 2)\n",
    "dr_max = round(df_avg_DR[\"DR\"].max(), 2)\n",
    "course_min = df_avg_DR.loc[df_avg_DR[\"DR\"] == dr_min, \"Course Description\"].tolist() #Course name(s) as list\n",
    "course_max = df_avg_DR.loc[df_avg_DR[\"DR\"] == dr_max, \"Course Description\"].tolist()\n",
    "\n",
    "print(f\"Min DR: {dr_min} — Courses: {course_min}\")\n",
    "print(f\"Max DR: {dr_max} — Courses: {course_max}\")\n",
    "\n",
    "# Top 10 highest and lowest DR courses\n",
    "top_dr = df_avg_DR.nlargest(10, \"DR\")\n",
    "bottom_dr = df_avg_DR.nsmallest(10, \"DR\")\n",
    "\n",
    "print(\"\\n10 Highest DR Courses:\")\n",
    "print(top_dr)\n",
    "print(\"\\n10 Lowest DR Courses:\")\n",
    "print(bottom_dr)\n"
   ]
  },
  {
   "cell_type": "markdown",
   "id": "e3124790",
   "metadata": {},
   "source": [
    "DR: By Term & Course"
   ]
  },
  {
   "cell_type": "code",
   "execution_count": 9,
   "id": "106c9cb2",
   "metadata": {},
   "outputs": [
    {
     "name": "stdout",
     "output_type": "stream",
     "text": [
      "Average DR by Course & Term:\n",
      "            Term             Course Description    DR\n",
      "0      Fall 2021            Advanced Web Design  0.26\n",
      "1      Fall 2021           Algorithms for Games  0.52\n",
      "2      Fall 2021  Applied Cyberinfrastruct Conc  0.22\n",
      "3      Fall 2021     Applied Data Visualization  0.72\n",
      "4      Fall 2021  Bayesian Modeling & Inference  0.09\n",
      "..           ...                            ...   ...\n",
      "475  Spring 2025         The Past and New Media  0.34\n",
      "476  Spring 2025          Theories of New Media  0.32\n",
      "477  Spring 2025                Virtual Reality  0.46\n",
      "478  Spring 2025        Visual Content Creation  0.52\n",
      "479  Spring 2025              eSport Industries  0.50\n",
      "\n",
      "[480 rows x 3 columns]\n"
     ]
    }
   ],
   "source": [
    "df_term_avg_DR = (df_DR_all.groupby([\"Term\", \"Course Description\"], as_index=False)[\"DR\"].mean()).round(2)\n",
    "\n",
    "# Sort by Term\n",
    "df_term_avg_DR = df_term_avg_DR.set_index([\"Term\", \"Course Description\"])\n",
    "df_term_avg_DR = df_term_avg_DR.loc[sorted(df_term_avg_DR.index, key=lambda x: semester_order_func(x[0]))]\n",
    "df_term_avg_DR = df_term_avg_DR.reset_index()\n",
    "\n",
    "print(\"Average DR by Course & Term:\")\n",
    "print(df_term_avg_DR)"
   ]
  },
  {
   "cell_type": "markdown",
   "id": "89f32290",
   "metadata": {},
   "source": [
    "DR by Term - Summary Stats"
   ]
  },
  {
   "cell_type": "code",
   "execution_count": 10,
   "id": "65b176a6",
   "metadata": {},
   "outputs": [
    {
     "name": "stdout",
     "output_type": "stream",
     "text": [
      "\n",
      "🗓 DR Summary for Fall 2021\n",
      "Mean DR: 0.55\n",
      "Median DR: 0.6\n",
      "Standard Deviation: 0.29\n",
      "Min DR: 0.0 on Courses: ['Simulation and Problem Solving', 'Virtual Reality']\n",
      "Max DR: 1.02 on Courses: ['eSport Industries']\n",
      "\n",
      "Fall 2021: 5 Highest DR Courses:\n",
      "          Course Description   DR\n",
      "           eSport Industries 1.02\n",
      " Great Ideas of the Info Age 1.01\n",
      "Digital Crime & Social Media 0.96\n",
      "  Social Media and Ourselves 0.96\n",
      "    Intro to Creative Coding 0.95\n",
      "\n",
      " Fall 2021: 5 Lowest DR Courses:\n",
      "            Course Description   DR\n",
      "Simulation and Problem Solving 0.00\n",
      "               Virtual Reality 0.00\n",
      " Ethical Issues in Information 0.03\n",
      " Bayesian Modeling & Inference 0.09\n",
      "      User Interf+Website Dsgn 0.09\n",
      "\n",
      "🗓 DR Summary for Fall 2022\n",
      "Mean DR: 0.57\n",
      "Median DR: 0.63\n",
      "Standard Deviation: 0.28\n",
      "Min DR: 0.0 on Courses: ['Virtual Reality']\n",
      "Max DR: 0.98 on Courses: ['Diversity and Bias in Games', 'eSport Industries']\n",
      "\n",
      "Fall 2022: 5 Highest DR Courses:\n",
      "          Course Description   DR\n",
      " Diversity and Bias in Games 0.98\n",
      "           eSport Industries 0.98\n",
      "Digital Crime & Social Media 0.97\n",
      "         Installation Design 0.96\n",
      "  Applied Data Visualization 0.94\n",
      "\n",
      " Fall 2022: 5 Lowest DR Courses:\n",
      "           Course Description   DR\n",
      "              Virtual Reality 0.00\n",
      "Ethical Issues in Information 0.04\n",
      "          Science Information 0.04\n",
      "           Intro to Info Tech 0.10\n",
      "       Government Information 0.12\n",
      "\n",
      "🗓 DR Summary for Fall 2023\n",
      "Mean DR: 0.53\n",
      "Median DR: 0.56\n",
      "Standard Deviation: 0.29\n",
      "Min DR: 0.0 on Courses: ['Advanced Game Development', 'Computational Social Science', 'Intro to Creative Coding']\n",
      "Max DR: 1.0 on Courses: ['Gamification in Society']\n",
      "\n",
      "Fall 2023: 5 Highest DR Courses:\n",
      "            Course Description   DR\n",
      "       Gamification in Society 1.00\n",
      "        Computing and the Arts 0.97\n",
      "Computational Thinking & Doing 0.96\n",
      "  Digital Crime & Social Media 0.94\n",
      "   Great Ideas of the Info Age 0.94\n",
      "\n",
      " Fall 2023: 5 Lowest DR Courses:\n",
      "           Course Description   DR\n",
      "    Advanced Game Development 0.00\n",
      " Computational Social Science 0.00\n",
      "     Intro to Creative Coding 0.00\n",
      "Ethical Issues in Information 0.01\n",
      "                  Data Ethics 0.02\n",
      "\n",
      "🗓 DR Summary for Fall 2024\n",
      "Mean DR: 0.48\n",
      "Median DR: 0.5\n",
      "Standard Deviation: 0.27\n",
      "Min DR: 0.0 on Courses: ['Bayesian Modeling & Inference', 'Data Ethics']\n",
      "Max DR: 1.14 on Courses: ['Neural Networks']\n",
      "\n",
      "Fall 2024: 5 Highest DR Courses:\n",
      "          Course Description   DR\n",
      "             Neural Networks 1.14\n",
      "  Intro. to Game Development 0.98\n",
      "Digital Crime & Social Media 0.91\n",
      "        Algorithms for Games 0.89\n",
      " Introduction to Game Design 0.86\n",
      "\n",
      " Fall 2024: 5 Lowest DR Courses:\n",
      "           Course Description   DR\n",
      "Bayesian Modeling & Inference 0.00\n",
      "                  Data Ethics 0.00\n",
      "           Intro to Info Tech 0.08\n",
      "Ethical Issues in Information 0.09\n",
      "                  Applied NLP 0.10\n",
      "\n",
      "🗓 DR Summary for Spring 2022\n",
      "Mean DR: 0.58\n",
      "Median DR: 0.6\n",
      "Standard Deviation: 0.27\n",
      "Min DR: 0.0 on Courses: ['Business Information']\n",
      "Max DR: 1.0 on Courses: ['Ethics in a Digital World']\n",
      "\n",
      "Spring 2022: 5 Highest DR Courses:\n",
      "          Course Description   DR\n",
      "   Ethics in a Digital World 1.00\n",
      "           eSport Industries 0.97\n",
      "Digital Crime & Social Media 0.95\n",
      "  Applied Data Visualization 0.94\n",
      "            Digital Commerce 0.94\n",
      "\n",
      " Spring 2022: 5 Lowest DR Courses:\n",
      "            Course Description   DR\n",
      "          Business Information 0.00\n",
      "      User Interf+Website Dsgn 0.03\n",
      "           Science Information 0.06\n",
      "Intellectual Property/Copyrigh 0.07\n",
      "            Intro to Info Tech 0.07\n",
      "\n",
      "🗓 DR Summary for Spring 2023\n",
      "Mean DR: 0.5\n",
      "Median DR: 0.48\n",
      "Standard Deviation: 0.28\n",
      "Min DR: 0.0 on Courses: ['Business Information', 'Ethical Issues in Information', 'Intellectual Property/Copyrigh', 'Natural Language Processing', 'Princ Data Science']\n",
      "Max DR: 1.01 on Courses: ['Ethics in a Digital World']\n"
     ]
    },
    {
     "name": "stdout",
     "output_type": "stream",
     "text": [
      "\n",
      "Spring 2023: 5 Highest DR Courses:\n",
      "           Course Description   DR\n",
      "    Ethics in a Digital World 1.01\n",
      " Collaborating: Online Commun 0.98\n",
      "       Computing and the Arts 0.96\n",
      "Hacking & Open Source Culture 0.96\n",
      "  Introduction to Game Design 0.94\n",
      "\n",
      " Spring 2023: 5 Lowest DR Courses:\n",
      "            Course Description  DR\n",
      "          Business Information 0.0\n",
      " Ethical Issues in Information 0.0\n",
      "Intellectual Property/Copyrigh 0.0\n",
      "   Natural Language Processing 0.0\n",
      "            Princ Data Science 0.0\n",
      "\n",
      "🗓 DR Summary for Spring 2024\n",
      "Mean DR: 0.45\n",
      "Median DR: 0.46\n",
      "Standard Deviation: 0.26\n",
      "Min DR: 0.0 on Courses: ['Computational Social Science', 'Info Trust and Manipulation', 'Princ Data Science', 'Special Topics in LIS']\n",
      "Max DR: 0.98 on Courses: ['Digital Commerce']\n",
      "\n",
      "Spring 2024: 5 Highest DR Courses:\n",
      "            Course Description   DR\n",
      "              Digital Commerce 0.98\n",
      "    Applied Data Visualization 0.97\n",
      "  Intro Web Design-Development 0.96\n",
      "Computational Thinking & Doing 0.93\n",
      "        Computing and the Arts 0.93\n",
      "\n",
      " Spring 2024: 5 Lowest DR Courses:\n",
      "          Course Description   DR\n",
      "Computational Social Science 0.00\n",
      " Info Trust and Manipulation 0.00\n",
      "          Princ Data Science 0.00\n",
      "       Special Topics in LIS 0.00\n",
      "                 Data Ethics 0.03\n",
      "\n",
      "🗓 DR Summary for Spring 2025\n",
      "Mean DR: 0.41\n",
      "Median DR: 0.43\n",
      "Standard Deviation: 0.23\n",
      "Min DR: 0.0 on Courses: ['Bayesian Modeling & Inference', 'Data Ethics', 'Special Topics in LIS']\n",
      "Max DR: 0.98 on Courses: ['Ethics in a Digital World']\n",
      "\n",
      "Spring 2025: 5 Highest DR Courses:\n",
      "          Course Description   DR\n",
      "   Ethics in a Digital World 0.98\n",
      "Digital Crime & Social Media 0.88\n",
      "         Installation Design 0.83\n",
      "            Game Development 0.80\n",
      "      Computing and the Arts 0.78\n",
      "\n",
      " Spring 2025: 5 Lowest DR Courses:\n",
      "           Course Description   DR\n",
      "Bayesian Modeling & Inference 0.00\n",
      "                  Data Ethics 0.00\n",
      "        Special Topics in LIS 0.00\n",
      "                  Applied NLP 0.03\n",
      "Ethical Issues in Information 0.03\n"
     ]
    }
   ],
   "source": [
    "# For Loop for our summary stats (mean, median, std, min/max) and top/bottom 5 courses\n",
    "for df_semester, group in df_term_avg_DR.groupby(\"Term\"):\n",
    "    # Summary stats (mean, median, std)\n",
    "    dr_mean = round(group[\"DR\"].mean(), 2)\n",
    "    dr_median = round(group[\"DR\"].median(), 2)\n",
    "    dr_std = round(group[\"DR\"].std(), 2)\n",
    "    print(f\"\\n🗓 DR Summary for {df_semester}\") # emoji to make it easier to read\n",
    "    print(f\"Mean DR: {dr_mean}\")\n",
    "    print(f\"Median DR: {dr_median}\")\n",
    "    print(f\"Standard Deviation: {dr_std}\")\n",
    "\n",
    "    # Min/Max and course name(s)\n",
    "    dr_min = round(group[\"DR\"].min(), 2)\n",
    "    dr_max = round(group[\"DR\"].max(), 2)\n",
    "    course_min = group.loc[group[\"DR\"] == dr_min, \"Course Description\"].tolist()\n",
    "    course_max = group.loc[group[\"DR\"] == dr_max, \"Course Description\"].tolist()\n",
    "    print(f\"Min DR: {dr_min} on Courses: {course_min}\")\n",
    "    print(f\"Max DR: {dr_max} on Courses: {course_max}\")\n",
    "\n",
    "    #Top/Bottom 5\n",
    "    top_5 = group.nlargest(5, \"DR\")[[\"Course Description\", \"DR\"]]\n",
    "    bottom_5 = group.nsmallest(5, \"DR\")[[\"Course Description\", \"DR\"]]\n",
    "    print(f\"\\n{df_semester}: 5 Highest DR Courses:\")\n",
    "    print(top_5.to_string(index=False))\n",
    "    print(f\"\\n {df_semester}: 5 Lowest DR Courses:\")\n",
    "    print(bottom_5.to_string(index=False))\n"
   ]
  },
  {
   "cell_type": "markdown",
   "id": "e342e87a",
   "metadata": {},
   "source": [
    "<h2>Offering Frequency Score (OFS)</h2>\n",
    "Captures how often a course if offered: 1: every semester, 2: once a year, 3: less than once a year"
   ]
  },
  {
   "cell_type": "markdown",
   "id": "4842ed04",
   "metadata": {},
   "source": [
    "Total Courses by \"Course Description\""
   ]
  },
  {
   "cell_type": "code",
   "execution_count": 11,
   "id": "3f24e2f5",
   "metadata": {},
   "outputs": [
    {
     "name": "stdout",
     "output_type": "stream",
     "text": [
      "Total Classes by Course Description:\n",
      "Course Description\n",
      "Statistic Foundations Info Age    77\n",
      "Digital Storytelling & Culture    74\n",
      "Computational Thinking & Doing    72\n",
      "Social Media and Ourselves        50\n",
      "Dealing with Data                 49\n",
      "                                  ..\n",
      "Foundation of Info & Inference     2\n",
      "Game AI                            2\n",
      "Designing an Installation          2\n",
      "Natural Language Processing        1\n",
      "Visual Content Creation            1\n",
      "Length: 81, dtype: int64\n"
     ]
    }
   ],
   "source": [
    "# Total Courses by \"Course Description\"\n",
    "course_totals = df_all.groupby(\"Course Description\").size().sort_values(ascending=False)\n",
    "print(\"Total Classes by Course Description:\")\n",
    "print(course_totals)"
   ]
  },
  {
   "cell_type": "markdown",
   "id": "ddb47bd2",
   "metadata": {},
   "source": [
    "Total Courses by Term"
   ]
  },
  {
   "cell_type": "code",
   "execution_count": 12,
   "id": "c7f5a7bb",
   "metadata": {},
   "outputs": [
    {
     "name": "stdout",
     "output_type": "stream",
     "text": [
      "Total Classes by Semester:\n",
      "Term             Course Description  Fall 2021  Spring 2022  Fall 2022  \\\n",
      "0         Advanced Game Development          0            1          1   \n",
      "1               Advanced Web Design          2            2          0   \n",
      "2              Algorithms for Games          1            1          1   \n",
      "3     Applied Cyberinfrastruct Conc          6            0          0   \n",
      "4        Applied Data Visualization          2            2          2   \n",
      "..                              ...        ...          ...        ...   \n",
      "76            Theories of New Media          8            6          4   \n",
      "77         User Interf+Website Dsgn          2            2          0   \n",
      "78                  Virtual Reality          1            1          1   \n",
      "79          Visual Content Creation          0            0          0   \n",
      "80                eSport Industries          2            4          2   \n",
      "\n",
      "Term  Spring 2023  Fall 2023  Spring 2024  Fall 2024  Spring 2025  \n",
      "0               1          1            2          2            2  \n",
      "1               0          0            0          0            1  \n",
      "2               1          1            0          1            0  \n",
      "3               0          0            0          0            6  \n",
      "4               2          2            2          4            4  \n",
      "..            ...        ...          ...        ...          ...  \n",
      "76              4          4            5          4            6  \n",
      "77              0          0            0          0            0  \n",
      "78              2          2            2          2            4  \n",
      "79              0          0            0          0            1  \n",
      "80              4          4            4          4            4  \n",
      "\n",
      "[81 rows x 9 columns]\n"
     ]
    }
   ],
   "source": [
    "course_total_by_semester = df_all.groupby([\"Course Description\", \"Term\"]).size().unstack(fill_value=0)\n",
    "course_total_by_semester = course_total_by_semester[sorted(course_total_by_semester.columns, key=semester_order_func)]\n",
    "course_total_by_semester = course_total_by_semester.reset_index()   #Include Course Description as a column, was being dropped\n",
    "\n",
    "print(\"Total Classes by Semester:\")\n",
    "print(course_total_by_semester)"
   ]
  },
  {
   "cell_type": "markdown",
   "id": "849dd23b",
   "metadata": {},
   "source": [
    "Function: Get OFS Score (get_OFS)\n",
    "\n",
    "1: Every Semester. 2: Once a year. 3: Less than once a year."
   ]
  },
  {
   "cell_type": "code",
   "execution_count": 13,
   "id": "6739531f",
   "metadata": {},
   "outputs": [],
   "source": [
    "df_OFS = course_total_by_semester.copy()\n",
    "\n",
    "# Specify Col Names because was having issues with indexing \n",
    "semester_cols = [\"Fall 2021\", \"Spring 2022\", \"Fall 2022\", \"Spring 2023\",\n",
    "                 \"Fall 2023\", \"Spring 2024\", \"Fall 2024\", \"Spring 2025\"]\n",
    "\n",
    "# Add \"Term Count\" Column: count of Non-Zero values in semester_cols to double check our 1/2/3s\n",
    "df_OFS[\"TermCount\"] = df_OFS[semester_cols].ne(0).sum(axis=1)\n",
    "\n",
    "# OFS Function: Assign 1, 2, and 3\n",
    "def get_OFS(row):\n",
    "    semester_vals = row[semester_cols].values  # only the 8 columns\n",
    "    nonzero_count = (semester_vals != 0).sum()\n",
    "\n",
    "    if nonzero_count >= 7:    # 1, Every semester: at least 7 of the last 8 semesters\n",
    "        return 1\n",
    "    elif nonzero_count <= 3:  # 3, Less than once a year: if offered 3 semesters or fewer\n",
    "        return 3\n",
    "    else:                     # 2, Every other semester: if offered 4-6 semesters\n",
    "        return 2\n",
    "\n"
   ]
  },
  {
   "cell_type": "markdown",
   "id": "b818cae3",
   "metadata": {},
   "source": [
    "Calculate & Print OFS Scores"
   ]
  },
  {
   "cell_type": "code",
   "execution_count": 14,
   "id": "5a75bc87",
   "metadata": {},
   "outputs": [
    {
     "name": "stdout",
     "output_type": "stream",
     "text": [
      "Course Descriptions & Their Offering Frequency Score (OFS):\n",
      "Term             Course Description  TermCount  OFS\n",
      "0         Advanced Game Development          7    1\n",
      "1               Advanced Web Design          3    3\n",
      "2              Algorithms for Games          6    2\n",
      "3     Applied Cyberinfrastruct Conc          2    3\n",
      "4        Applied Data Visualization          8    1\n",
      "..                              ...        ...  ...\n",
      "76            Theories of New Media          8    1\n",
      "77         User Interf+Website Dsgn          2    3\n",
      "78                  Virtual Reality          8    1\n",
      "79          Visual Content Creation          1    3\n",
      "80                eSport Industries          8    1\n",
      "\n",
      "[81 rows x 3 columns]\n"
     ]
    }
   ],
   "source": [
    "# Run our get_OFS to get 1/2/3 OFS scores\n",
    "df_OFS[\"OFS\"] = df_OFS.apply(get_OFS, axis=1)\n",
    "\n",
    "# Smaller DF for printing: keep just Course Description\", \"TermCount\", & \"OFS\"\n",
    "df_OFS_small = df_OFS[[\"Course Description\", \"TermCount\", \"OFS\"]]\n",
    "\n",
    "print(\"Course Descriptions & Their Offering Frequency Score (OFS):\")\n",
    "print(df_OFS_small)"
   ]
  },
  {
   "cell_type": "markdown",
   "id": "36e5531a",
   "metadata": {},
   "source": [
    "OFS Summary Stats"
   ]
  },
  {
   "cell_type": "code",
   "execution_count": 15,
   "id": "3e8eab70",
   "metadata": {},
   "outputs": [
    {
     "name": "stdout",
     "output_type": "stream",
     "text": [
      "Offering Frequency Score (OFS) Summary Stats:\n",
      "\n",
      "OFS Score 1: 46 total courses with an Average Term Count of 7.91\n",
      "OFS Score 2: 14 total courses with an Average Term Count of 5.0\n",
      "OFS Score 3: 21 total courses with an Average Term Count of 2.29\n"
     ]
    }
   ],
   "source": [
    "# Set up DFs for OFSxCounts and OFSxAverage-TermCount\n",
    "ofs_counts = df_OFS_small[\"OFS\"].value_counts().sort_index()                    # counting the OFS scores\n",
    "ofs_termcount_avg = df_OFS_small.groupby(\"OFS\")[\"TermCount\"].mean().round(2)    # group by OFS to get average Term Count\n",
    "\n",
    "print(\"Offering Frequency Score (OFS) Summary Stats:\\n\")\n",
    "for ofs_score in sorted(ofs_counts.index):\n",
    "    count = ofs_counts[ofs_score]\n",
    "    avg_terms = ofs_termcount_avg[ofs_score]\n",
    "    print(f\"OFS Score {ofs_score}: {count} total courses with an Average Term Count of {avg_terms}\")\n"
   ]
  },
  {
   "cell_type": "markdown",
   "id": "0e3479c3",
   "metadata": {},
   "source": [
    "<h2> Prerequisite Complexity Score (PCS) </h2>\n",
    "0: No Prerequisites. 1: Yes Prerequisites."
   ]
  },
  {
   "cell_type": "markdown",
   "id": "05299913",
   "metadata": {},
   "source": [
    "Clean PCS dataframe to just be UGrad"
   ]
  },
  {
   "cell_type": "code",
   "execution_count": 16,
   "id": "4407b8ad",
   "metadata": {},
   "outputs": [
    {
     "name": "stdout",
     "output_type": "stream",
     "text": [
      "Undergrad PCS rows: 181\n"
     ]
    }
   ],
   "source": [
    "# Make a copy to avoid modifying the original\n",
    "df_PCS_ugrad = df_PCS_raw.copy()\n",
    "\n",
    "# Temporary Column \"Catalog_First_Digit\":\n",
    "# Extract first digit from Catalog # and convert to float (<5 is undergrad)\n",
    "df_PCS_ugrad[\"Catalog_First_Digit\"] = df_PCS_ugrad[\"Catalog #\"].astype(str).str[0].str.extract(r\"(\\d)\").astype(float)\n",
    "df_PCS_ugrad = df_PCS_ugrad[df_PCS_ugrad[\"Catalog_First_Digit\"] < 5].copy()\n",
    "df_PCS_ugrad.drop(columns=\"Catalog_First_Digit\", inplace=True) # Remove temporary column\n",
    "\n",
    "print(f\"Undergrad PCS rows: {df_PCS_ugrad.shape[0]}\")\n",
    "\n",
    "# There are more UGrad class options loaded here than we did in the original cleaned dataset\n",
    "# My df_all was more filtered than this df_PCS copy --> will just keep the values that match in my df_all"
   ]
  },
  {
   "cell_type": "markdown",
   "id": "d0c99912",
   "metadata": {},
   "source": [
    "PCS: Fill my DF (df_PCS_all, from df_all) with PreReqs from our raw data df_PCS_ugrad"
   ]
  },
  {
   "cell_type": "code",
   "execution_count": 17,
   "id": "abd858cc",
   "metadata": {},
   "outputs": [],
   "source": [
    "# New DF df_PCS_all from df_all to do our PCS analysis\n",
    "df_PCS_all = df_all.copy()\n",
    "\n",
    "# Create empty PCS column to store y/n from df_PCS_ugrad\n",
    "df_PCS_all[\"PCS\"] = None  # or np.nan if you want\n",
    "\n",
    "# Create map for matching df_PCS_ugrad's Course Descriptions (raw data) into our working df_PCS_all\n",
    "PCS_map = (df_PCS_ugrad[[\"Course Description\", \"Requirements\"]]\n",
    "    .drop_duplicates(\"Course Description\")              # keep first match Course Description\n",
    "    .set_index(\"Course Description\")[\"Requirements\"])   # set index to Course Description, get values from Requirements column\n",
    "\n",
    "# Fill PCS column with matching Requirements\n",
    "df_PCS_all[\"PCS\"] = df_PCS_all[\"Course Description\"].map(PCS_map)\n",
    "\n",
    "# Convert Y/- to 1 (yes) & 0 (no)\n",
    "df_PCS_all[\"PCS\"] = (df_PCS_all[\"PCS\"] == \"Y\").astype(int)\n"
   ]
  },
  {
   "cell_type": "markdown",
   "id": "0f86375f",
   "metadata": {},
   "source": [
    "PCS scores"
   ]
  },
  {
   "cell_type": "code",
   "execution_count": 18,
   "id": "731c5ead",
   "metadata": {},
   "outputs": [
    {
     "name": "stdout",
     "output_type": "stream",
     "text": [
      "               Course Description  PCS\n",
      "0       Advanced Game Development    1\n",
      "1             Advanced Web Design    1\n",
      "2            Algorithms for Games    1\n",
      "3   Applied Cyberinfrastruct Conc    1\n",
      "4      Applied Data Visualization    1\n",
      "..                            ...  ...\n",
      "76          Theories of New Media    0\n",
      "77       User Interf+Website Dsgn    0\n",
      "78                Virtual Reality    1\n",
      "79        Visual Content Creation    0\n",
      "80              eSport Industries    0\n",
      "\n",
      "[81 rows x 2 columns]\n"
     ]
    }
   ],
   "source": [
    "df_PCS_scores = df_PCS_all.groupby(\"Course Description\", as_index=False)[\"PCS\"].max()\n",
    "\n",
    "print(df_PCS_scores[[\"Course Description\", \"PCS\"]])\n"
   ]
  },
  {
   "cell_type": "markdown",
   "id": "5740ef1d",
   "metadata": {},
   "source": [
    "PCS summary stats"
   ]
  },
  {
   "cell_type": "code",
   "execution_count": 19,
   "id": "40cd3c6e",
   "metadata": {},
   "outputs": [
    {
     "name": "stdout",
     "output_type": "stream",
     "text": [
      "Prerequisite Complexity Score (PCS) Summary Stats:\n",
      "PCS Score 0: 50\n",
      "PCS Score 1: 31\n"
     ]
    }
   ],
   "source": [
    "# Set up DF for PCSxCounts \n",
    "pcs_counts = df_PCS_scores[\"PCS\"].value_counts().sort_index()\n",
    "\n",
    "print(\"Prerequisite Complexity Score (PCS) Summary Stats:\")\n",
    "for pcs_score in sorted(pcs_counts.index):\n",
    "    count = pcs_counts[pcs_score]\n",
    "    print(f\"PCS Score {pcs_score}: {count}\")\n"
   ]
  },
  {
   "cell_type": "markdown",
   "id": "7aebccf0",
   "metadata": {},
   "source": [
    "PCS by Term"
   ]
  },
  {
   "cell_type": "code",
   "execution_count": 20,
   "id": "8d92d595",
   "metadata": {},
   "outputs": [
    {
     "name": "stdout",
     "output_type": "stream",
     "text": [
      "            Term             Course Description  PCS\n",
      "0      Fall 2021            Advanced Web Design    1\n",
      "1      Fall 2021           Algorithms for Games    1\n",
      "2      Fall 2021  Applied Cyberinfrastruct Conc    1\n",
      "3      Fall 2021     Applied Data Visualization    1\n",
      "4      Fall 2021  Bayesian Modeling & Inference    1\n",
      "..           ...                            ...  ...\n",
      "477  Spring 2025         The Past and New Media    0\n",
      "478  Spring 2025          Theories of New Media    0\n",
      "479  Spring 2025                Virtual Reality    1\n",
      "480  Spring 2025        Visual Content Creation    0\n",
      "481  Spring 2025              eSport Industries    0\n",
      "\n",
      "[482 rows x 3 columns]\n"
     ]
    }
   ],
   "source": [
    "# PCS by Term\n",
    "df_PCS_scores_term = df_PCS_all.groupby([\"Term\", \"Course Description\"], as_index=False)[\"PCS\"].max()\n",
    "\n",
    "# Sort semesters with my function semester_order_func (multi-index)\n",
    "df_PCS_scores_term = df_PCS_scores_term.set_index([\"Term\", \"Course Description\"])\n",
    "df_PCS_scores_term = df_PCS_scores_term.loc[sorted(df_PCS_scores_term.index, key=lambda x: semester_order_func(x[0]))]\n",
    "df_PCS_scores_term = df_PCS_scores_term.reset_index()\n",
    "\n",
    "print(df_PCS_scores_term[[\"Term\", \"Course Description\", \"PCS\"]])\n"
   ]
  },
  {
   "cell_type": "markdown",
   "id": "a6756f45",
   "metadata": {},
   "source": [
    "PCS by Term Summary Stats"
   ]
  },
  {
   "cell_type": "code",
   "execution_count": 21,
   "id": "7c2872d1",
   "metadata": {},
   "outputs": [
    {
     "name": "stdout",
     "output_type": "stream",
     "text": [
      "Prerequisite Complexity Score (PCS) by Term Summary Stats:\n",
      "\n",
      "Fall 2021 — PCS Counts:\n",
      "  PCS Score 0: 37\n",
      "  PCS Score 1: 23\n",
      "\n",
      "Spring 2022 — PCS Counts:\n",
      "  PCS Score 0: 37\n",
      "  PCS Score 1: 21\n",
      "\n",
      "Fall 2022 — PCS Counts:\n",
      "  PCS Score 0: 35\n",
      "  PCS Score 1: 20\n",
      "\n",
      "Spring 2023 — PCS Counts:\n",
      "  PCS Score 0: 39\n",
      "  PCS Score 1: 23\n",
      "\n",
      "Fall 2023 — PCS Counts:\n",
      "  PCS Score 0: 38\n",
      "  PCS Score 1: 22\n",
      "\n",
      "Spring 2024 — PCS Counts:\n",
      "  PCS Score 0: 39\n",
      "  PCS Score 1: 22\n",
      "\n",
      "Fall 2024 — PCS Counts:\n",
      "  PCS Score 0: 37\n",
      "  PCS Score 1: 23\n",
      "\n",
      "Spring 2025 — PCS Counts:\n",
      "  PCS Score 0: 40\n",
      "  PCS Score 1: 26\n"
     ]
    }
   ],
   "source": [
    "# PCS Term Summary Stats - very similar to PCS Total Summary Stats code \n",
    "pcs_counts_term = df_PCS_scores_term[\"PCS\"].value_counts().sort_index()\n",
    "\n",
    "# Keep Term order\n",
    "term_order = df_PCS_scores_term[\"Term\"].drop_duplicates()\n",
    "\n",
    "print(\"Prerequisite Complexity Score (PCS) by Term Summary Stats:\")\n",
    "\n",
    "for df_semester, group in df_PCS_scores_term.groupby(\"Term\", sort=False):\n",
    "    pcs_counts_term = group[\"PCS\"].value_counts().sort_index()\n",
    "\n",
    "    print(f\"\\n{df_semester} — PCS Counts:\")\n",
    "    for pcs_score in sorted(pcs_counts_term.index):\n",
    "        count = pcs_counts_term[pcs_score]\n",
    "        print(f\"  PCS Score {pcs_score}: {count}\")"
   ]
  },
  {
   "cell_type": "markdown",
   "id": "779b8d6f",
   "metadata": {},
   "source": [
    "<h2> Instructor Availability Score (IAS)</h2>\n",
    "IAS = 1/[number of instructors]"
   ]
  },
  {
   "cell_type": "markdown",
   "id": "46bfe13a",
   "metadata": {},
   "source": [
    "Data Cleanse df_IAS_raw a bit"
   ]
  },
  {
   "cell_type": "code",
   "execution_count": 22,
   "id": "25ec387b",
   "metadata": {},
   "outputs": [],
   "source": [
    "df_IAS_raw_ugrad = df_IAS_raw.copy()\n",
    "\n",
    "# Keep specific sessions\n",
    "df_IAS_raw_ugrad = df_IAS_raw_ugrad[df_IAS_raw_ugrad[\"Session\"].isin([\"Regular Academic Session\", \n",
    "    \"Seven Week - First\", \"Seven Week - Second\"])]\n",
    "\n",
    "# Keep specific campuses\n",
    "df_IAS_raw_ugrad = df_IAS_raw_ugrad[df_IAS_raw_ugrad[\"Class Campus\"].isin([\"University of Arizona - Main\", \"Arizona Online\"])]\n",
    "\n",
    "# Filter for ugrad: first digit <5 is ugrad\n",
    "df_IAS_raw_ugrad[\"Catalog_First_Digit\"] = df_IAS_raw_ugrad[\"Catalog Number\"].astype(str).str[0].str.extract(r\"(\\d)\").astype(float)\n",
    "df_IAS_raw_ugrad = df_IAS_raw_ugrad[df_IAS_raw_ugrad[\"Catalog_First_Digit\"] < 5].copy()\n",
    "df_IAS_raw_ugrad.drop(columns=\"Catalog_First_Digit\", inplace=True) # Remove temporary column\n",
    "\n",
    "df_IAS_all = df_all.copy()"
   ]
  },
  {
   "cell_type": "markdown",
   "id": "2d0c8ee2",
   "metadata": {},
   "source": [
    "Merge the df_IAS_raw_ugrad with what I'll use"
   ]
  },
  {
   "cell_type": "code",
   "execution_count": 23,
   "id": "1725ab35",
   "metadata": {},
   "outputs": [],
   "source": [
    "# Merge on Class Number directly\n",
    "\n",
    "df_IAS_all = df_all.copy()\n",
    "# Make sure \"Class Number\" are both the same datatypes\n",
    "df_IAS_all[\"Class Number\"] = df_IAS_all[\"Class Number\"].astype(int)\n",
    "df_IAS_raw_ugrad[\"Class Number\"] = df_IAS_raw_ugrad[\"Class Number\"].astype(int)\n",
    "\n",
    "df_IAS_all = df_IAS_all.merge(df_IAS_raw_ugrad[[\"Class Number\", \"Psuedonymn\", \"Instructor Load Factor\", \"Instructor Role\"]],\n",
    "                                on=\"Class Number\",how=\"left\")\n",
    "\n",
    "# Fix Pseudonym typo\n",
    "df_IAS_all.rename(columns={\"Psuedonymn\": \"Pseudonym\"}, inplace=True)"
   ]
  },
  {
   "cell_type": "code",
   "execution_count": 24,
   "id": "67231af5",
   "metadata": {},
   "outputs": [],
   "source": [
    "df_IAS_tot = df_IAS_all.copy()\n",
    "\n",
    "# Group by Course Description; count unique Pseudonyms\n",
    "instructor_counts = df_IAS_tot.groupby(\"Course Description\")[\"Pseudonym\"].nunique()\n",
    "\n",
    "# Create new DataFrame with Course Description, Instructor Count, and IAS\n",
    "df_IAS_tot = instructor_counts.reset_index()\n",
    "df_IAS_tot.rename(columns={\"Pseudonym\": \"Instructor Count\"}, inplace=True)\n",
    "df_IAS_tot[\"IAS\"] = (1 / df_IAS_tot[\"Instructor Count\"]).round(2)"
   ]
  },
  {
   "cell_type": "markdown",
   "id": "177d867f",
   "metadata": {},
   "source": [
    "IAS by Total:"
   ]
  },
  {
   "cell_type": "code",
   "execution_count": 25,
   "id": "e9e24f2b",
   "metadata": {},
   "outputs": [],
   "source": [
    "df_IAS_tot = df_IAS_all.copy()\n",
    "\n",
    "# Empty column for Instructor Count\n",
    "df_IAS_tot[\"Instructor Count\"] = None\n",
    "\n",
    "# Group by Course Description; count unique Pseudonyms\n",
    "instructor_counts = df_IAS_tot.groupby(\"Course Description\")[\"Pseudonym\"].nunique()\n",
    "\n",
    "# Fill Instructor Count with counts of unique Pseudonyms by course\n",
    "df_IAS_tot[\"Instructor Count\"] = df_IAS_tot[\"Course Description\"].map(instructor_counts)\n",
    "\n",
    "# Reorganize: Drop unecessary columns, consolidate to unique Course Descriptions\n",
    "df_IAS_tot.drop(columns=[\"Instructor Load Factor\", \"Instructor Role\", \"Pseudonym\"], inplace=True) # drop these - no longer necessary\n",
    "df_IAS_tot = df_IAS_tot.groupby(\"Course Description\", as_index=False).first()\n",
    "\n",
    "# Add IAS column & scores; IAS = 1 / Instructor Count\n",
    "df_IAS_tot[\"IAS\"] = (1 / df_IAS_tot[\"Instructor Count\"]).round(2) "
   ]
  },
  {
   "cell_type": "code",
   "execution_count": 26,
   "id": "c0f48650",
   "metadata": {},
   "outputs": [
    {
     "name": "stdout",
     "output_type": "stream",
     "text": [
      "Course Descriptions & Their Instructor Availability Score (IAS):\n",
      "               Course Description  Instructor Count   IAS\n",
      "0       Advanced Game Development                 2  0.50\n",
      "1             Advanced Web Design                 3  0.33\n",
      "2            Algorithms for Games                 2  0.50\n",
      "3   Applied Cyberinfrastruct Conc                 3  0.33\n",
      "4      Applied Data Visualization                 5  0.20\n",
      "..                            ...               ...   ...\n",
      "76          Theories of New Media                 6  0.17\n",
      "77       User Interf+Website Dsgn                 2  0.50\n",
      "78                Virtual Reality                 3  0.33\n",
      "79        Visual Content Creation                 1  1.00\n",
      "80              eSport Industries                 2  0.50\n",
      "\n",
      "[81 rows x 3 columns]\n"
     ]
    }
   ],
   "source": [
    "# Smaller DF for printing\n",
    "df_IAS_tot_small = df_IAS_tot[[\"Course Description\", \"Instructor Count\", \"IAS\"]]\n",
    "\n",
    "print(\"Course Descriptions & Their Instructor Availability Score (IAS):\")\n",
    "print(df_IAS_tot_small)"
   ]
  },
  {
   "cell_type": "markdown",
   "id": "42fdb520",
   "metadata": {},
   "source": [
    "IAS Totals - Summary Statistics"
   ]
  },
  {
   "cell_type": "code",
   "execution_count": 27,
   "id": "f74a91f4",
   "metadata": {},
   "outputs": [
    {
     "name": "stdout",
     "output_type": "stream",
     "text": [
      "Instructor Availability Score (IAS) Counts by Score:\n",
      "PCS Score 0.09: 1\n",
      "PCS Score 0.1: 1\n",
      "PCS Score 0.11: 2\n",
      "PCS Score 0.12: 1\n",
      "PCS Score 0.14: 1\n",
      "PCS Score 0.17: 7\n",
      "PCS Score 0.2: 7\n",
      "PCS Score 0.25: 9\n",
      "PCS Score 0.33: 18\n",
      "PCS Score 0.5: 24\n",
      "PCS Score 1.0: 10\n",
      "\n",
      "Instructor Availability Score (IAS) Summary Stats (Overall):\n",
      "Mean IAS: 0.41\n",
      "Median IAS: 0.33\n",
      "Standard Deviation: 0.26\n",
      "Min IAS: 0.09 — Courses: ['Digital Storytelling & Culture']\n",
      "Max IAS: 1.0 — Courses: ['Applied NLP', 'Computational Social Science', 'Dig Games and Society', 'Esports Casting', 'Game AI', 'Intro to Data Science', 'Monetizing Independent Gaming', 'Natural Language Processing', 'STEM Games', 'Visual Content Creation']\n",
      "\n",
      "5 Highest IAS Courses:\n",
      "              Course Description  Instructor Count  IAS\n",
      "5                    Applied NLP                 1  1.0\n",
      "10  Computational Social Science                 1  1.0\n",
      "20         Dig Games and Society                 1  1.0\n",
      "29               Esports Casting                 1  1.0\n",
      "33                       Game AI                 1  1.0\n",
      "\n",
      "5 Lowest IAS Courses:\n",
      "                Course Description  Instructor Count   IAS\n",
      "26  Digital Storytelling & Culture                11  0.09\n",
      "69      Social Media and Ourselves                10  0.10\n",
      "31       Ethics in a Digital World                 9  0.11\n",
      "50       Intro to Machine Learning                 9  0.11\n",
      "23                Digital Dilemmas                 8  0.12\n"
     ]
    }
   ],
   "source": [
    "# Counts by IAS Score\n",
    "ias_counts = df_IAS_tot_small[\"IAS\"].value_counts().sort_index()\n",
    "\n",
    "print(\"Instructor Availability Score (IAS) Counts by Score:\")\n",
    "for ias_score in sorted(ias_counts.index):\n",
    "    count = ias_counts[ias_score]\n",
    "    print(f\"PCS Score {ias_score}: {count}\")\n",
    "\n",
    "# Overall stats (same code as DR Total)\n",
    "ias_mean = round(df_IAS_tot_small[\"IAS\"].mean(), 2)\n",
    "ias_median = round(df_IAS_tot_small[\"IAS\"].median(), 2)\n",
    "ias_std = round(df_IAS_tot_small[\"IAS\"].std(), 2)\n",
    "print(\"\\nInstructor Availability Score (IAS) Summary Stats (Overall):\")\n",
    "print(f\"Mean IAS: {ias_mean}\")\n",
    "print(f\"Median IAS: {ias_median}\")\n",
    "print(f\"Standard Deviation: {ias_std}\")\n",
    "\n",
    "# IAS min/max and course name\n",
    "ias_min = round(df_IAS_tot_small[\"IAS\"].min(), 2)\n",
    "ias_max = round(df_IAS_tot_small[\"IAS\"].max(), 2)\n",
    "ias_course_min = df_IAS_tot_small.loc[df_IAS_tot_small[\"IAS\"] == ias_min, \"Course Description\"].tolist() #Course name(s) as list\n",
    "ias_course_max = df_IAS_tot_small.loc[df_IAS_tot_small[\"IAS\"] == ias_max, \"Course Description\"].tolist()\n",
    "\n",
    "print(f\"Min IAS: {ias_min} — Courses: {ias_course_min}\")\n",
    "print(f\"Max IAS: {ias_max} — Courses: {ias_course_max}\")\n",
    "\n",
    "# Top 5 highest and lowest IAS courses\n",
    "top_ias = df_IAS_tot_small.nlargest(5, \"IAS\")\n",
    "bottom_ias = df_IAS_tot_small.nsmallest(5, \"IAS\")\n",
    "\n",
    "print(\"\\n5 Highest IAS Courses:\")\n",
    "print(top_ias)\n",
    "print(\"\\n5 Lowest IAS Courses:\")\n",
    "print(bottom_ias)\n"
   ]
  },
  {
   "cell_type": "markdown",
   "id": "fb2a674e",
   "metadata": {},
   "source": [
    "IAS by Term"
   ]
  },
  {
   "cell_type": "code",
   "execution_count": 28,
   "id": "79f77e83",
   "metadata": {},
   "outputs": [],
   "source": [
    "df_IAS_term = df_IAS_all.copy()\n",
    "\n",
    "# Empty column for Instructor Count\n",
    "df_IAS_term[\"Instructor Count\"] = None\n",
    "\n",
    "# Group by Course Description; count unique Pseudonyms\n",
    "instructor_counts2 = df_IAS_term.groupby([\"Term\", \"Course Description\"])[\"Pseudonym\"].nunique()\n",
    "\n",
    "# Fill Instructor Count with counts of unique Pseudonyms by course\n",
    "df_IAS_term[\"Instructor Count\"] = df_IAS_term.set_index([\"Term\", \"Course Description\"]).index.map(instructor_counts2)\n",
    "\n",
    "# Reorganize: Drop unecessary columns, consolidate to unique Course Descriptions\n",
    "df_IAS_term.drop(columns=[\"Instructor Load Factor\", \"Instructor Role\", \"Pseudonym\"], inplace=True) # drop these - no longer necessary\n",
    "df_IAS_term = df_IAS_term.groupby([\"Term\", \"Course Description\"], as_index=False).first()\n",
    "\n",
    "# Add IAS column & scores; IAS = 1 / Instructor Count\n",
    "df_IAS_term[\"IAS\"] = (1 / df_IAS_term[\"Instructor Count\"]).round(2) "
   ]
  },
  {
   "cell_type": "code",
   "execution_count": 29,
   "id": "32fdd0eb",
   "metadata": {},
   "outputs": [
    {
     "name": "stdout",
     "output_type": "stream",
     "text": [
      "            Term             Course Description                   Session  \\\n",
      "0      Fall 2021            Advanced Web Design  Regular Academic Session   \n",
      "1      Fall 2021           Algorithms for Games  Regular Academic Session   \n",
      "2      Fall 2021  Applied Cyberinfrastruct Conc  Regular Academic Session   \n",
      "3      Fall 2021     Applied Data Visualization        Seven Week - First   \n",
      "4      Fall 2021  Bayesian Modeling & Inference  Regular Academic Session   \n",
      "..           ...                            ...                       ...   \n",
      "477  Spring 2025         The Past and New Media        Seven Week - First   \n",
      "478  Spring 2025          Theories of New Media  Regular Academic Session   \n",
      "479  Spring 2025                Virtual Reality        Seven Week - First   \n",
      "480  Spring 2025        Visual Content Creation  Regular Academic Session   \n",
      "481  Spring 2025              eSport Industries        Seven Week - First   \n",
      "\n",
      "    Session Code                        Campus                  Facility  \\\n",
      "0              1  University of Arizona - Main               Live Online   \n",
      "1              1  University of Arizona - Main  R P Harvill Bldg, Rm 402   \n",
      "2              1  University of Arizona - Main  Elec & Comp Engr, Rm 107   \n",
      "3            7W1                Arizona Online                    Online   \n",
      "4              1  University of Arizona - Main               Live Online   \n",
      "..           ...                           ...                       ...   \n",
      "477          7W1                Arizona Online                    Online   \n",
      "478            1  University of Arizona - Main            Flex In-Person   \n",
      "479          7W1                Arizona Online                    Online   \n",
      "480            1  University of Arizona - Main       The Commons, Rm 105   \n",
      "481          7W1                Arizona Online                    Online   \n",
      "\n",
      "     Room Capacity Subject Code Catalog Number Class Section  ... Start Date  \\\n",
      "0                1         ISTA            330           001  ... 2021-08-23   \n",
      "1               40         ISTA            425           001  ... 2021-08-23   \n",
      "2               44           BE            429           001  ... 2021-08-23   \n",
      "3                1         ISTA            320           201  ... 2021-08-23   \n",
      "4                1         ISTA            410           001  ... 2021-08-23   \n",
      "..             ...          ...            ...           ...  ...        ...   \n",
      "477              1         ESOC            213           202  ... 2025-01-15   \n",
      "478             99         ESOC            314           002  ... 2025-01-15   \n",
      "479              1         ISTA            424           201  ... 2025-01-15   \n",
      "480            217         ESOC            200           001  ... 2025-01-15   \n",
      "481              1         GAME            311           201  ... 2025-01-15   \n",
      "\n",
      "      End Date  Class Meeting Number  Meeting Days Meeting Time Start  \\\n",
      "0   2021-12-08                     1            MW           11:00:00   \n",
      "1   2021-12-08                     1            TR           14:00:00   \n",
      "2   2021-12-08                     1            TR           09:30:00   \n",
      "3   2021-10-13                     1             -           00:00:00   \n",
      "4   2021-12-08                     1            MW           14:00:00   \n",
      "..         ...                   ...           ...                ...   \n",
      "477 2025-03-07                     1             -           00:00:00   \n",
      "478 2025-05-07                     2             -           00:00:00   \n",
      "479 2025-03-07                     1             -           00:00:00   \n",
      "480 2025-05-07                     1            TR           12:30:00   \n",
      "481 2025-03-07                     1             -           00:00:00   \n",
      "\n",
      "    Meeting Time End Total Enroll  Enrollment Capacity Instructor Count  IAS  \n",
      "0           12:15:00           10                   30                1  1.0  \n",
      "1           15:15:00           13                   25                1  1.0  \n",
      "2           10:45:00            4                   40                2  0.5  \n",
      "3           00:00:00            0                   10                1  1.0  \n",
      "4           15:15:00            3                   35                1  1.0  \n",
      "..               ...          ...                  ...              ...  ...  \n",
      "477         00:00:00           10                   40                2  0.5  \n",
      "478         00:00:00           10                   30                2  0.5  \n",
      "479         00:00:00            0                    0                1  1.0  \n",
      "480         13:45:00          103                  200                1  1.0  \n",
      "481         00:00:00            3                   40                1  1.0  \n",
      "\n",
      "[482 rows x 29 columns]\n"
     ]
    }
   ],
   "source": [
    "# Sort by Term with semester_order_func\n",
    "df_IAS_term = df_IAS_term[df_IAS_term[\"Term\"].notna()]\n",
    "df_IAS_term = df_IAS_term.set_index([\"Term\", \"Course Description\"])\n",
    "df_IAS_term = df_IAS_term.loc[sorted(df_IAS_term.index, key=lambda x: semester_order_func(x[0]))]\n",
    "df_IAS_term = df_IAS_term.reset_index()\n",
    "\n",
    "print(df_IAS_term)"
   ]
  },
  {
   "cell_type": "code",
   "execution_count": 30,
   "id": "2f5980e6",
   "metadata": {},
   "outputs": [
    {
     "name": "stdout",
     "output_type": "stream",
     "text": [
      "IAS by Course Descriptions & Term:\n",
      "            Term             Course Description  Instructor Count  IAS\n",
      "0      Fall 2021            Advanced Web Design                 1  1.0\n",
      "1      Fall 2021           Algorithms for Games                 1  1.0\n",
      "2      Fall 2021  Applied Cyberinfrastruct Conc                 2  0.5\n",
      "3      Fall 2021     Applied Data Visualization                 1  1.0\n",
      "4      Fall 2021  Bayesian Modeling & Inference                 1  1.0\n",
      "..           ...                            ...               ...  ...\n",
      "477  Spring 2025         The Past and New Media                 2  0.5\n",
      "478  Spring 2025          Theories of New Media                 2  0.5\n",
      "479  Spring 2025                Virtual Reality                 1  1.0\n",
      "480  Spring 2025        Visual Content Creation                 1  1.0\n",
      "481  Spring 2025              eSport Industries                 1  1.0\n",
      "\n",
      "[482 rows x 4 columns]\n"
     ]
    }
   ],
   "source": [
    "# Smaller DF for printing; sort semesters with my function\n",
    "df_IAS_term_small = df_IAS_term[[\"Term\", \"Course Description\", \"Instructor Count\", \"IAS\"]]\n",
    "\n",
    "print(\"IAS by Course Descriptions & Term:\")\n",
    "print(df_IAS_term_small)"
   ]
  },
  {
   "cell_type": "markdown",
   "id": "9d58e83c",
   "metadata": {},
   "source": [
    "IAS by Term - Summary Statistics"
   ]
  },
  {
   "cell_type": "code",
   "execution_count": 31,
   "id": "ae4f0c62",
   "metadata": {},
   "outputs": [
    {
     "name": "stdout",
     "output_type": "stream",
     "text": [
      "\n",
      "IAS Summary Stats for Fall 2021:\n",
      "Mean IAS: 0.85\n",
      "Median IAS: 1.0\n",
      "Standard Deviation: 0.26\n",
      "IAS Score Counts:\n",
      "  IAS 0.17: 1 courses\n",
      "  IAS 0.25: 1 courses\n",
      "  IAS 0.33: 4 courses\n",
      "  IAS 0.5: 10 courses\n",
      "  IAS 1.0: 44 courses\n",
      "\n",
      "IAS Summary Stats for Fall 2022:\n",
      "Mean IAS: 0.84\n",
      "Median IAS: 1.0\n",
      "Standard Deviation: 0.25\n",
      "IAS Score Counts:\n",
      "  IAS 0.33: 3 courses\n",
      "  IAS 0.5: 14 courses\n",
      "  IAS 1.0: 38 courses\n",
      "\n",
      "IAS Summary Stats for Fall 2023:\n",
      "Mean IAS: 0.84\n",
      "Median IAS: 1.0\n",
      "Standard Deviation: 0.26\n",
      "IAS Score Counts:\n",
      "  IAS 0.2: 1 courses\n",
      "  IAS 0.33: 4 courses\n",
      "  IAS 0.5: 12 courses\n",
      "  IAS 1.0: 43 courses\n",
      "\n",
      "IAS Summary Stats for Fall 2024:\n",
      "Mean IAS: 0.79\n",
      "Median IAS: 1.0\n",
      "Standard Deviation: 0.28\n",
      "IAS Score Counts:\n",
      "  IAS 0.17: 1 courses\n",
      "  IAS 0.2: 1 courses\n",
      "  IAS 0.25: 1 courses\n",
      "  IAS 0.33: 3 courses\n",
      "  IAS 0.5: 16 courses\n",
      "  IAS 1.0: 38 courses\n",
      "\n",
      "IAS Summary Stats for Spring 2022:\n",
      "Mean IAS: 0.86\n",
      "Median IAS: 1.0\n",
      "Standard Deviation: 0.24\n",
      "IAS Score Counts:\n",
      "  IAS 0.33: 2 courses\n",
      "  IAS 0.5: 14 courses\n",
      "  IAS 1.0: 42 courses\n",
      "\n",
      "IAS Summary Stats for Spring 2023:\n",
      "Mean IAS: 0.87\n",
      "Median IAS: 1.0\n",
      "Standard Deviation: 0.23\n",
      "IAS Score Counts:\n",
      "  IAS 0.33: 2 courses\n",
      "  IAS 0.5: 14 courses\n",
      "  IAS 1.0: 46 courses\n",
      "\n",
      "IAS Summary Stats for Spring 2024:\n",
      "Mean IAS: 0.86\n",
      "Median IAS: 1.0\n",
      "Standard Deviation: 0.26\n",
      "IAS Score Counts:\n",
      "  IAS 0.25: 2 courses\n",
      "  IAS 0.33: 6 courses\n",
      "  IAS 0.5: 6 courses\n",
      "  IAS 1.0: 47 courses\n",
      "\n",
      "IAS Summary Stats for Spring 2025:\n",
      "Mean IAS: 0.81\n",
      "Median IAS: 1.0\n",
      "Standard Deviation: 0.27\n",
      "IAS Score Counts:\n",
      "  IAS 0.25: 2 courses\n",
      "  IAS 0.33: 5 courses\n",
      "  IAS 0.5: 16 courses\n",
      "  IAS 1.0: 43 courses\n"
     ]
    }
   ],
   "source": [
    "# For Loop for our summary stats (mean, median, std, min/max)  \n",
    "for df_semester, group in df_IAS_term_small.groupby(\"Term\"):\n",
    "\n",
    "    print(f\"\\nIAS Summary Stats for {df_semester}:\") \n",
    "\n",
    "    # Summary stats (mean, median, std)\n",
    "    ias_mean = round(group[\"IAS\"].mean(), 2)\n",
    "    ias_median = round(group[\"IAS\"].median(), 2)\n",
    "    ias_std = round(group[\"IAS\"].std(), 2)\n",
    "    print(f\"Mean IAS: {ias_mean}\")\n",
    "    print(f\"Median IAS: {ias_median}\")\n",
    "    print(f\"Standard Deviation: {ias_std}\")\n",
    "\n",
    "    # Counts by IAS score within this term\n",
    "    ias_counts = group[\"IAS\"].value_counts().sort_index()\n",
    "    print(\"IAS Score Counts:\")\n",
    "    for ias_score in sorted(ias_counts.index):\n",
    "        count = ias_counts[ias_score]\n",
    "        print(f\"  IAS {ias_score}: {count} courses\")"
   ]
  },
  {
   "cell_type": "markdown",
   "id": "f31a5341",
   "metadata": {},
   "source": [
    "<h4>Analyze our CBI variables for Missing Data</h4>"
   ]
  },
  {
   "cell_type": "markdown",
   "id": "4d8b71bb",
   "metadata": {},
   "source": [
    "Missing DR data"
   ]
  },
  {
   "cell_type": "code",
   "execution_count": 32,
   "id": "68d39a89",
   "metadata": {},
   "outputs": [],
   "source": [
    "# DR: 81 classes\n",
    "df_missing_DR_total = df_avg_DR[df_avg_DR[\"DR\"].isna()]\n",
    "df_missing_DR_term = df_term_avg_DR[df_term_avg_DR[\"DR\"].isna()]"
   ]
  },
  {
   "cell_type": "markdown",
   "id": "6f803e7b",
   "metadata": {},
   "source": [
    "Missing OFS data"
   ]
  },
  {
   "cell_type": "code",
   "execution_count": 33,
   "id": "6bf771b2",
   "metadata": {},
   "outputs": [],
   "source": [
    "# OFS: 81 classes\n",
    "df_missing_OFS = df_OFS_small[df_OFS_small[\"OFS\"].isna()]"
   ]
  },
  {
   "cell_type": "markdown",
   "id": "c2480ffa",
   "metadata": {},
   "source": [
    "Missing PCS data"
   ]
  },
  {
   "cell_type": "code",
   "execution_count": 34,
   "id": "067f2bb1",
   "metadata": {},
   "outputs": [],
   "source": [
    "# PCS: 81 classes\n",
    "df_missing_PCS_total = df_PCS_scores[df_PCS_scores[\"PCS\"].isna()]\n",
    "df_missing_PCS_term = df_PCS_scores_term[df_PCS_scores_term[\"PCS\"].isna()]\n"
   ]
  },
  {
   "cell_type": "markdown",
   "id": "71e01e8a",
   "metadata": {},
   "source": [
    "Missing IAS data"
   ]
  },
  {
   "cell_type": "code",
   "execution_count": 35,
   "id": "c7f79fbe",
   "metadata": {},
   "outputs": [],
   "source": [
    "# IAS: 81 classes\n",
    "df_missing_IAS_total = df_IAS_tot_small[df_IAS_tot_small[\"IAS\"].isna()]\n",
    "df_missing_IAS_term = df_IAS_term_small[df_IAS_term_small[\"IAS\"].isna()]"
   ]
  },
  {
   "cell_type": "markdown",
   "id": "92343cae",
   "metadata": {},
   "source": [
    "Summary Missing "
   ]
  },
  {
   "cell_type": "code",
   "execution_count": 36,
   "id": "48b62772",
   "metadata": {},
   "outputs": [
    {
     "name": "stdout",
     "output_type": "stream",
     "text": [
      "Missing DR (total): 0\n",
      "Missing DR (term): 0\n",
      "Missing OFS: 0\n",
      "Missing PCS (total): 0\n",
      "Missing PCS (term): 0\n",
      "Missing IAS (total): 0\n",
      "Missing IAS (term): 0\n"
     ]
    }
   ],
   "source": [
    "print(\"Missing DR (total):\", len(df_missing_DR_total))\n",
    "print(\"Missing DR (term):\", len(df_missing_DR_term))\n",
    "print(\"Missing OFS:\", len(df_missing_OFS))\n",
    "print(\"Missing PCS (total):\", len(df_missing_PCS_total))\n",
    "print(\"Missing PCS (term):\", len(df_missing_PCS_term))\n",
    "print(\"Missing IAS (total):\", len(df_missing_IAS_total))\n",
    "print(\"Missing IAS (term):\", len(df_missing_IAS_term))"
   ]
  },
  {
   "cell_type": "markdown",
   "id": "b35cf19b",
   "metadata": {},
   "source": [
    "<h2>Composite Bottleneck Index (CBI) Data Frames</h2>"
   ]
  },
  {
   "cell_type": "markdown",
   "id": "412d2d60",
   "metadata": {},
   "source": [
    "<h4>Make CBI Data Frame - Total </h4>"
   ]
  },
  {
   "cell_type": "code",
   "execution_count": 37,
   "id": "558aff8c",
   "metadata": {},
   "outputs": [
    {
     "name": "stdout",
     "output_type": "stream",
     "text": [
      "CBI Data Frame by Totals:\n",
      "               Course Description    DR  OFS   IAS  PCS\n",
      "0       Advanced Game Development  0.27    1  0.50    1\n",
      "1             Advanced Web Design  0.33    3  0.33    1\n",
      "2            Algorithms for Games  0.68    2  0.50    1\n",
      "3   Applied Cyberinfrastruct Conc  0.14    3  0.33    1\n",
      "4      Applied Data Visualization  0.68    1  0.20    1\n",
      "..                            ...   ...  ...   ...  ...\n",
      "76          Theories of New Media  0.47    1  0.17    0\n",
      "77       User Interf+Website Dsgn  0.06    3  0.50    0\n",
      "78                Virtual Reality  0.38    1  0.33    1\n",
      "79        Visual Content Creation  0.52    3  1.00    0\n",
      "80              eSport Industries  0.70    1  0.50    0\n",
      "\n",
      "[81 rows x 5 columns]\n"
     ]
    }
   ],
   "source": [
    "# CBI Total Data Frame - Merge on \"Course Description\"\n",
    "df_CBI = df_avg_DR.merge(df_OFS_small, on = \"Course Description\", how = \"outer\")\n",
    "df_CBI = df_CBI.merge(df_IAS_tot_small, on =\"Course Description\", how = \"outer\")\n",
    "df_CBI = df_CBI.merge(df_PCS_scores, on = \"Course Description\", how =\"outer\")\n",
    "\n",
    "df_CBI.drop(columns=[\"TermCount\", \"Instructor Count\"], inplace=True, errors = \"ignore\")\n",
    "\n",
    "print(\"CBI Data Frame by Totals:\")\n",
    "print(df_CBI)\n"
   ]
  },
  {
   "cell_type": "markdown",
   "id": "f758efd6",
   "metadata": {},
   "source": [
    "CBI Total - Checking for Missing Data"
   ]
  },
  {
   "cell_type": "code",
   "execution_count": 38,
   "id": "39bafcc6",
   "metadata": {},
   "outputs": [
    {
     "name": "stdout",
     "output_type": "stream",
     "text": [
      "Rows in df_CBI (CBI Total) with missing values:\n",
      "Empty DataFrame\n",
      "Columns: [Course Description, DR, OFS, IAS, PCS]\n",
      "Index: []\n"
     ]
    }
   ],
   "source": [
    "df_CBI_missing = df_CBI[df_CBI.isna().any(axis=1)]\n",
    "print(\"Rows in df_CBI (CBI Total) with missing values:\")\n",
    "print(df_CBI_missing)\n",
    "\n",
    "# No missing data for CBI Total!\n"
   ]
  },
  {
   "cell_type": "markdown",
   "id": "fb8d400f",
   "metadata": {},
   "source": [
    "<h4>Make CBI Data Frame - By Term</h4>"
   ]
  },
  {
   "cell_type": "code",
   "execution_count": 39,
   "id": "e0121ccd",
   "metadata": {},
   "outputs": [],
   "source": [
    "# CBI By Term Data Frame - Merge on \"Course Description\" and/or [\"Term\", \"Course Description\"]\n",
    "df_CBI_term = df_IAS_term_small.merge(df_PCS_scores_term, on=[\"Term\", \"Course Description\"], how=\"outer\") # how = outer: keep all available rows\n",
    "df_CBI_term = df_CBI_term.merge(df_term_avg_DR, on=[\"Term\", \"Course Description\"], how=\"outer\")\n",
    "df_CBI_term = df_CBI_term.merge(df_OFS_small, on=\"Course Description\", how=\"outer\")\n",
    "\n",
    "# Drop unnecessary columns (\"TermCount\", \"Instructor Count\")\n",
    "df_CBI_term.drop(columns=[\"TermCount\", \"Instructor Count\"], inplace=True, errors=\"ignore\")   # Drop exta columns\n",
    "\n",
    "# print(\"Testing CBI Data Frame by Term:\")\n",
    "#print(df_CBI_term) # 482 rows"
   ]
  },
  {
   "cell_type": "code",
   "execution_count": 40,
   "id": "496e6bb0",
   "metadata": {},
   "outputs": [
    {
     "name": "stdout",
     "output_type": "stream",
     "text": [
      "CBI Data Frame by Term:\n",
      "            Term             Course Description    DR  OFS  IAS  PCS\n",
      "0      Fall 2021            Advanced Web Design  0.26    3  1.0    1\n",
      "1      Fall 2021           Algorithms for Games  0.52    2  1.0    1\n",
      "2      Fall 2021  Applied Cyberinfrastruct Conc  0.22    3  0.5    1\n",
      "3      Fall 2021     Applied Data Visualization  0.72    1  1.0    1\n",
      "4      Fall 2021  Bayesian Modeling & Inference  0.09    3  1.0    1\n",
      "..           ...                            ...   ...  ...  ...  ...\n",
      "477  Spring 2025         The Past and New Media  0.34    1  0.5    0\n",
      "478  Spring 2025          Theories of New Media  0.32    1  0.5    0\n",
      "479  Spring 2025                Virtual Reality  0.46    1  1.0    1\n",
      "480  Spring 2025        Visual Content Creation  0.52    3  1.0    0\n",
      "481  Spring 2025              eSport Industries  0.50    1  1.0    0\n",
      "\n",
      "[482 rows x 6 columns]\n"
     ]
    }
   ],
   "source": [
    "# Sort Terms with my semester_order_func function\n",
    "df_CBI_term = df_CBI_term[df_CBI_term[\"Term\"].notna()]              # Some of the Terms are loading in as Missing (dropped 2 rows)\n",
    "df_CBI_term = df_CBI_term.set_index([\"Term\", \"Course Description\"]) # Set index to group by\n",
    "df_CBI_term = df_CBI_term.loc[sorted(df_CBI_term.index, key=lambda x: semester_order_func(x[0]))] # Multi-Index sort function\n",
    "df_CBI_term = df_CBI_term.reset_index()\n",
    "\n",
    "# Re-order Columns\n",
    "df_CBI_term = df_CBI_term[[\"Term\", \"Course Description\", \"DR\", \"OFS\", \"IAS\", \"PCS\"]]\n",
    "\n",
    "print(\"CBI Data Frame by Term:\")\n",
    "print(df_CBI_term)"
   ]
  },
  {
   "cell_type": "markdown",
   "id": "83b52b5b",
   "metadata": {},
   "source": [
    "CBI by Term - Check for missing data"
   ]
  },
  {
   "cell_type": "code",
   "execution_count": 41,
   "id": "84bce876",
   "metadata": {},
   "outputs": [
    {
     "name": "stdout",
     "output_type": "stream",
     "text": [
      "Rows in df_CBI_term (CBI by Term) with missing values:\n",
      "            Term           Course Description  DR  OFS  IAS  PCS\n",
      "195  Spring 2023  Diversity and Bias in Games NaN    1  0.5    0\n",
      "317  Spring 2024  Diversity and Bias in Games NaN    1  1.0    0\n",
      "\n",
      "Total missing from df_CBI_term: 2\n"
     ]
    }
   ],
   "source": [
    "df_CBI_term_missing = df_CBI_term[df_CBI_term.isna().any(axis=1)]\n",
    "print(\"Rows in df_CBI_term (CBI by Term) with missing values:\")\n",
    "print(df_CBI_term_missing)\n",
    "\n",
    "print(\"\\nTotal missing from df_CBI_term:\", len(df_CBI_term_missing))"
   ]
  },
  {
   "cell_type": "markdown",
   "id": "0aa0b809",
   "metadata": {},
   "source": [
    "Manually fix these 2 missing DRs"
   ]
  },
  {
   "cell_type": "code",
   "execution_count": 42,
   "id": "bcce7a24",
   "metadata": {},
   "outputs": [],
   "source": [
    "manual_dr_1 = round((1 + 32 + 7 + 27) / (40 + 40 + 10 + 30), 2)\n",
    "manual_dr_2 = round((3 + 36 + 5 + 21) / (40 * 4), 2)\n",
    "\n",
    "df_CBI_term.loc[(df_CBI_term[\"Term\"] == \"Spring 2023\") &\n",
    "(df_CBI_term[\"Course Description\"] == \"Diversity and Bias in Games\"), \"DR\"] = manual_dr_1\n",
    "\n",
    "df_CBI_term.loc[(df_CBI_term[\"Term\"] == \"Spring 2024\") &\n",
    "(df_CBI_term[\"Course Description\"] == \"Diversity and Bias in Games\"), \"DR\"] = manual_dr_2"
   ]
  },
  {
   "cell_type": "code",
   "execution_count": 43,
   "id": "f01a65f2",
   "metadata": {},
   "outputs": [
    {
     "name": "stdout",
     "output_type": "stream",
     "text": [
      "Total missing from df_CBI_term: 0 . Missing data is fixed!\n"
     ]
    }
   ],
   "source": [
    "df_CBI_term_missing2 = df_CBI_term[df_CBI_term.isna().any(axis=1)]\n",
    "#print(\"Rows in df_CBI_term (CBI by Term) with missing values:\")\n",
    "#print(df_CBI_term_missing)\n",
    "print(\"Total missing from df_CBI_term:\", len(df_CBI_term_missing2), \". Missing data is fixed!\")"
   ]
  },
  {
   "cell_type": "markdown",
   "id": "68787d93",
   "metadata": {},
   "source": [
    "CBI Total - Weights"
   ]
  },
  {
   "cell_type": "code",
   "execution_count": 44,
   "id": "efd7529e",
   "metadata": {},
   "outputs": [],
   "source": [
    "weights_tot = {\"DR\": 1, \"OFS\": 1,\n",
    "               \"IAS\": 1, \"PCS\": 1}"
   ]
  },
  {
   "cell_type": "markdown",
   "id": "fb417d39",
   "metadata": {},
   "source": [
    "CBI by Term - Weights"
   ]
  },
  {
   "cell_type": "code",
   "execution_count": 45,
   "id": "def43daa",
   "metadata": {},
   "outputs": [],
   "source": [
    "weights_term = {\"DR\": 1, \"OFS\": 1,\n",
    "               \"IAS\": 1, \"PCS\": 1}"
   ]
  },
  {
   "cell_type": "markdown",
   "id": "01a470f3",
   "metadata": {},
   "source": [
    "<h2>Composite Bottleneck Index (CBI) Analysis </h2>\n",
    "\n",
    "<h3> Baseline Analysis, Unweighted</h3>\n",
    "\n",
    "CBI = (DR * w1) + (OFS * w2) + (IAS * w3) + (PCS * w4)"
   ]
  },
  {
   "cell_type": "markdown",
   "id": "078a9b59",
   "metadata": {},
   "source": [
    "CBI - Total"
   ]
  },
  {
   "cell_type": "code",
   "execution_count": 46,
   "id": "f4d96bcd",
   "metadata": {},
   "outputs": [
    {
     "name": "stdout",
     "output_type": "stream",
     "text": [
      "CBI Analysis by Totals, All Scores\n",
      "               Course Description    DR  OFS   IAS  PCS   CBI\n",
      "0       Advanced Game Development  0.27    1  0.50    1  2.77\n",
      "1             Advanced Web Design  0.33    3  0.33    1  4.66\n",
      "2            Algorithms for Games  0.68    2  0.50    1  4.18\n",
      "3   Applied Cyberinfrastruct Conc  0.14    3  0.33    1  4.47\n",
      "4      Applied Data Visualization  0.68    1  0.20    1  2.88\n",
      "..                            ...   ...  ...   ...  ...   ...\n",
      "76          Theories of New Media  0.47    1  0.17    0  1.64\n",
      "77       User Interf+Website Dsgn  0.06    3  0.50    0  3.56\n",
      "78                Virtual Reality  0.38    1  0.33    1  2.71\n",
      "79        Visual Content Creation  0.52    3  1.00    0  4.52\n",
      "80              eSport Industries  0.70    1  0.50    0  2.20\n",
      "\n",
      "[81 rows x 6 columns]\n",
      "\n",
      "CBI Analysis by Totals\n",
      "               Course Description   CBI\n",
      "0       Advanced Game Development  2.77\n",
      "1             Advanced Web Design  4.66\n",
      "2            Algorithms for Games  4.18\n",
      "3   Applied Cyberinfrastruct Conc  4.47\n",
      "4      Applied Data Visualization  2.88\n",
      "..                            ...   ...\n",
      "76          Theories of New Media  1.64\n",
      "77       User Interf+Website Dsgn  3.56\n",
      "78                Virtual Reality  2.71\n",
      "79        Visual Content Creation  4.52\n",
      "80              eSport Industries  2.20\n",
      "\n",
      "[81 rows x 2 columns]\n"
     ]
    }
   ],
   "source": [
    "df_CBI_analysis = df_CBI.copy()\n",
    "\n",
    "# Add CBI column\n",
    "# CBI = (DR * w1) + (OFS * w2) + (IAS * w3) + (PCS * w4)\n",
    "df_CBI_analysis[\"CBI\"] = ((df_CBI_analysis[\"DR\"]  * weights_tot[\"DR\"] +\n",
    "                          df_CBI_analysis[\"OFS\"] * weights_tot[\"OFS\"] +\n",
    "                          df_CBI_analysis[\"IAS\"] * weights_tot[\"IAS\"] +\n",
    "                          df_CBI_analysis[\"PCS\"] * weights_tot[\"PCS\"]).round(2))\n",
    "\n",
    "print(\"CBI Analysis by Totals, All Scores\")\n",
    "print(df_CBI_analysis)\n",
    "\n",
    "print(\"\\nCBI Analysis by Totals\")\n",
    "print(df_CBI_analysis[[\"Course Description\", \"CBI\"]])\n"
   ]
  },
  {
   "cell_type": "markdown",
   "id": "5d520104",
   "metadata": {},
   "source": [
    "CBI Total - Summary Stats"
   ]
  },
  {
   "cell_type": "code",
   "execution_count": 47,
   "id": "0d8e3f23",
   "metadata": {},
   "outputs": [
    {
     "name": "stdout",
     "output_type": "stream",
     "text": [
      "CBI Summary Stats (Overall):\n",
      "Mean CBI: 2.93\n",
      "Median CBI: 2.77\n",
      "Standard Deviation: 1.1\n",
      "Min CBI: 1.46 — Courses: ['Intro to Info Tech']\n",
      "Max CBI: 5.41 — Courses: ['Game AI']\n",
      "\n",
      "10 Highest CBI Courses:\n",
      "                Course Description   CBI\n",
      "33                         Game AI  5.41\n",
      "32  Foundation of Info & Inference  5.13\n",
      "65                      STEM Games  5.05\n",
      "10    Computational Social Science  5.01\n",
      "57     Natural Language Processing  5.00\n",
      "46        Intro to Creative Coding  4.95\n",
      "1              Advanced Web Design  4.66\n",
      "55   Monetizing Independent Gaming  4.60\n",
      "7    Bayesian Modeling & Inference  4.53\n",
      "29                 Esports Casting  4.53\n",
      "\n",
      "10 Lowest CBI Courses:\n",
      "                Course Description   CBI\n",
      "49              Intro to Info Tech  1.46\n",
      "44  Intellectual Property/Copyrigh  1.47\n",
      "59                Online Searching  1.47\n",
      "17           Database Dev and Mgmt  1.48\n",
      "23                Digital Dilemmas  1.53\n",
      "76           Theories of New Media  1.64\n",
      "26  Digital Storytelling & Culture  1.66\n",
      "24  Digital Discourse and Identity  1.72\n",
      "35         Gamification in Society  1.79\n",
      "62   Publishing:Papyrus to E-Books  1.80\n"
     ]
    }
   ],
   "source": [
    "# Overall stats cbi_tot\n",
    "cbi_tot_mean = round(df_CBI_analysis[\"CBI\"].mean(), 2)\n",
    "cbi_tot_median = round(df_CBI_analysis[\"CBI\"].median(), 2)\n",
    "cbi_tot_std = round(df_CBI_analysis[\"CBI\"].std(), 2)\n",
    "\n",
    "print(\"CBI Summary Stats (Overall):\")\n",
    "print(f\"Mean CBI: {cbi_tot_mean}\")\n",
    "print(f\"Median CBI: {cbi_tot_median}\")\n",
    "print(f\"Standard Deviation: {cbi_tot_std}\")\n",
    "\n",
    "\n",
    "# DR min/max and course name\n",
    "cbi_tot_min = round(df_CBI_analysis[\"CBI\"].min(), 2)\n",
    "cbi_tot_max = round(df_CBI_analysis[\"CBI\"].max(), 2)\n",
    "cbi_tot_course_min = df_CBI_analysis.loc[df_CBI_analysis[\"CBI\"] == cbi_tot_min, \"Course Description\"].tolist() #Course name(s) as list\n",
    "cbi_tot_course_max = df_CBI_analysis.loc[df_CBI_analysis[\"CBI\"] == cbi_tot_max, \"Course Description\"].tolist()\n",
    "\n",
    "print(f\"Min CBI: {cbi_tot_min} — Courses: {cbi_tot_course_min}\")\n",
    "print(f\"Max CBI: {cbi_tot_max} — Courses: {cbi_tot_course_max}\")\n",
    "\n",
    "# Top highest and lowest DR courses\n",
    "high_low_count = 10\n",
    "top_cbi_tot = df_CBI_analysis.nlargest(high_low_count, \"CBI\")\n",
    "bottom_cbi_tot = df_CBI_analysis.nsmallest(high_low_count, \"CBI\")\n",
    "\n",
    "print(f\"\\n{high_low_count} Highest CBI Courses:\")\n",
    "#print(top_cbi_tot)\n",
    "print(top_cbi_tot[[\"Course Description\", \"CBI\"]])\n",
    "print(f\"\\n{high_low_count} Lowest CBI Courses:\")\n",
    "#print(bottom_cbi_tot)\n",
    "print(bottom_cbi_tot[[\"Course Description\", \"CBI\"]])"
   ]
  },
  {
   "cell_type": "markdown",
   "id": "bd4c9955",
   "metadata": {},
   "source": [
    "CBI Term - Analysis"
   ]
  },
  {
   "cell_type": "code",
   "execution_count": 48,
   "id": "862d9369",
   "metadata": {},
   "outputs": [
    {
     "name": "stdout",
     "output_type": "stream",
     "text": [
      "CBI Analysis by Term, All Scores\n",
      "            Term             Course Description    DR  OFS  IAS  PCS   CBI\n",
      "0      Fall 2021            Advanced Web Design  0.26    3  1.0    1  5.26\n",
      "1      Fall 2021           Algorithms for Games  0.52    2  1.0    1  4.52\n",
      "2      Fall 2021  Applied Cyberinfrastruct Conc  0.22    3  0.5    1  4.72\n",
      "3      Fall 2021     Applied Data Visualization  0.72    1  1.0    1  3.72\n",
      "4      Fall 2021  Bayesian Modeling & Inference  0.09    3  1.0    1  5.09\n",
      "..           ...                            ...   ...  ...  ...  ...   ...\n",
      "477  Spring 2025         The Past and New Media  0.34    1  0.5    0  1.84\n",
      "478  Spring 2025          Theories of New Media  0.32    1  0.5    0  1.82\n",
      "479  Spring 2025                Virtual Reality  0.46    1  1.0    1  3.46\n",
      "480  Spring 2025        Visual Content Creation  0.52    3  1.0    0  4.52\n",
      "481  Spring 2025              eSport Industries  0.50    1  1.0    0  2.50\n",
      "\n",
      "[482 rows x 7 columns]\n",
      "\n",
      "CBI Analysis by Term\n",
      "            Term             Course Description   CBI\n",
      "0      Fall 2021            Advanced Web Design  5.26\n",
      "1      Fall 2021           Algorithms for Games  4.52\n",
      "2      Fall 2021  Applied Cyberinfrastruct Conc  4.72\n",
      "3      Fall 2021     Applied Data Visualization  3.72\n",
      "4      Fall 2021  Bayesian Modeling & Inference  5.09\n",
      "..           ...                            ...   ...\n",
      "477  Spring 2025         The Past and New Media  1.84\n",
      "478  Spring 2025          Theories of New Media  1.82\n",
      "479  Spring 2025                Virtual Reality  3.46\n",
      "480  Spring 2025        Visual Content Creation  4.52\n",
      "481  Spring 2025              eSport Industries  2.50\n",
      "\n",
      "[482 rows x 3 columns]\n"
     ]
    }
   ],
   "source": [
    "df_CBI_term_analysis = df_CBI_term.copy()\n",
    "\n",
    "df_CBI_term_analysis[\"CBI\"] = ((df_CBI_term_analysis[\"DR\"]  * weights_tot[\"DR\"] +\n",
    "                               df_CBI_term_analysis[\"OFS\"] * weights_tot[\"OFS\"] +\n",
    "                               df_CBI_term_analysis[\"IAS\"] * weights_tot[\"IAS\"] +\n",
    "                               df_CBI_term_analysis[\"PCS\"] * weights_tot[\"PCS\"]).round(2))\n",
    "\n",
    "print(\"CBI Analysis by Term, All Scores\")\n",
    "print(df_CBI_term_analysis)\n",
    "\n",
    "print(\"\\nCBI Analysis by Term\")\n",
    "print(df_CBI_term_analysis[[\"Term\", \"Course Description\", \"CBI\"]])"
   ]
  },
  {
   "cell_type": "markdown",
   "id": "c5359681",
   "metadata": {},
   "source": [
    "CBI Term - Summary Stats"
   ]
  },
  {
   "cell_type": "code",
   "execution_count": 49,
   "id": "a7233102",
   "metadata": {},
   "outputs": [
    {
     "name": "stdout",
     "output_type": "stream",
     "text": [
      "\n",
      "🗓 CBI Summary for Fall 2021\n",
      "Mean CBI: 3.22\n",
      "Median CBI: 3.01\n",
      "Standard Deviation: 0.99\n",
      "Min CBI: 1.55 on Courses: ['Online Searching']\n",
      "Max CBI: 5.95 on Courses: ['Intro to Creative Coding']\n",
      "\n",
      "Fall 2021: 10 Highest CBI Courses:\n",
      "            Course Description  CBI\n",
      "      Intro to Creative Coding 5.95\n",
      "Foundation of Info & Inference 5.78\n",
      "           Advanced Web Design 5.26\n",
      " Bayesian Modeling & Inference 5.09\n",
      " Applied Cyberinfrastruct Conc 4.72\n",
      "               Neural Networks 4.64\n",
      "    Instructional Technologies 4.57\n",
      "          Algorithms for Games 4.52\n",
      "     Designing an Installation 4.26\n",
      "            Princ Data Science 4.21\n",
      "\n",
      " Fall 2021: 10 Lowest CBI Courses:\n",
      "            Course Description  CBI\n",
      "              Online Searching 1.55\n",
      "              Digital Dilemmas 1.75\n",
      "Digital Storytelling & Culture 1.77\n",
      "         Theories of New Media 1.89\n",
      "Digital Discourse and Identity 1.98\n",
      "          Quantitative Methods 2.14\n",
      "  Collaborating: Online Commun 2.20\n",
      "            Intro to Info Tech 2.24\n",
      "           Technology of Sound 2.24\n",
      "    Social Media and Ourselves 2.29\n",
      "\n",
      "🗓 CBI Summary for Spring 2022\n",
      "Mean CBI: 3.13\n",
      "Median CBI: 2.96\n",
      "Standard Deviation: 0.94\n",
      "Min CBI: 1.81 on Courses: ['Online Searching']\n",
      "Max CBI: 5.48 on Courses: ['Foundation of Info & Inference']\n",
      "\n",
      "Spring 2022: 10 Highest CBI Courses:\n",
      "            Course Description  CBI\n",
      "Foundation of Info & Inference 5.48\n",
      "           Advanced Web Design 5.39\n",
      "       Artificial Intelligence 4.75\n",
      "          Algorithms for Games 4.70\n",
      "     Intro to Digital Cultures 4.67\n",
      "    Instructional Technologies 4.48\n",
      "            Princ Data Science 4.48\n",
      "     Designing an Installation 4.12\n",
      "      User Interf+Website Dsgn 4.03\n",
      "          Business Information 4.00\n",
      "\n",
      " Spring 2022: 10 Lowest CBI Courses:\n",
      "            Course Description  CBI\n",
      "              Online Searching 1.81\n",
      "Digital Storytelling & Culture 1.82\n",
      "         Theories of New Media 1.90\n",
      "              Digital Dilemmas 1.99\n",
      " Publishing:Papyrus to E-Books 2.03\n",
      "Digital Discourse and Identity 2.05\n",
      "Intellectual Property/Copyrigh 2.07\n",
      "            Intro to Info Tech 2.07\n",
      " Info MM Design & Moving Image 2.08\n",
      "    Social Media and Ourselves 2.08\n",
      "\n",
      "🗓 CBI Summary for Fall 2022\n",
      "Mean CBI: 2.97\n",
      "Median CBI: 2.9\n",
      "Standard Deviation: 0.85\n",
      "Min CBI: 1.64 on Courses: ['Database Dev and Mgmt']\n",
      "Max CBI: 5.92 on Courses: ['Intro to Creative Coding']\n",
      "\n",
      "Fall 2022: 10 Highest CBI Courses:\n",
      "            Course Description  CBI\n",
      "      Intro to Creative Coding 5.92\n",
      "           Installation Design 4.96\n",
      "               Neural Networks 4.88\n",
      "          Algorithms for Games 4.70\n",
      "    Instructional Technologies 4.02\n",
      "    Applied Data Visualization 3.94\n",
      "Computational Thinking & Doing 3.89\n",
      "             Dealing with Data 3.79\n",
      "   Great Ideas of the Info Age 3.74\n",
      "              Game Development 3.64\n",
      "\n",
      " Fall 2022: 10 Lowest CBI Courses:\n",
      "            Course Description  CBI\n",
      "         Database Dev and Mgmt 1.64\n",
      "              Online Searching 1.85\n",
      " Info MM Design & Moving Image 1.95\n",
      "Digital Storytelling & Culture 2.03\n",
      "          Quantitative Methods 2.04\n",
      "            Intro to Info Tech 2.10\n",
      "Intellectual Property/Copyrigh 2.13\n",
      "       Social Media Strategies 2.15\n",
      "Digital Discourse and Identity 2.19\n",
      "          Information Security 2.22\n",
      "\n",
      "🗓 CBI Summary for Spring 2023\n",
      "Mean CBI: 3.1\n",
      "Median CBI: 2.99\n",
      "Standard Deviation: 0.85\n",
      "Min CBI: 1.78 on Courses: ['Digital Dilemmas']\n",
      "Max CBI: 5.03 on Courses: ['Computational Social Science']\n",
      "\n",
      "Spring 2023: 10 Highest CBI Courses:\n",
      "          Course Description  CBI\n",
      "Computational Social Science 5.03\n",
      " Natural Language Processing 5.00\n",
      "         Installation Design 4.88\n",
      "             Esports Casting 4.69\n",
      "        Algorithms for Games 4.63\n",
      "              Special Topics 4.35\n",
      "     Artificial Intelligence 4.23\n",
      "                 Applied NLP 4.12\n",
      "        Business Information 4.00\n",
      "   Intro to Digital Cultures 3.90\n",
      "\n",
      " Spring 2023: 10 Lowest CBI Courses:\n",
      "            Course Description  CBI\n",
      "              Digital Dilemmas 1.78\n",
      "Digital Storytelling & Culture 1.81\n",
      "              Online Searching 1.86\n",
      "Intellectual Property/Copyrigh 2.00\n",
      "Digital Discourse and Identity 2.03\n",
      "   Diversity and Bias in Games 2.06\n",
      "            Intro to Info Tech 2.11\n",
      "       Social Media Strategies 2.14\n",
      "         Database Dev and Mgmt 2.18\n",
      "   Learning in Information Age 2.19\n",
      "\n",
      "🗓 CBI Summary for Fall 2023\n",
      "Mean CBI: 3.02\n",
      "Median CBI: 2.97\n",
      "Standard Deviation: 0.85\n",
      "Min CBI: 1.69 on Courses: ['Intellectual Property/Copyrigh']\n",
      "Max CBI: 5.0 on Courses: ['Computational Social Science', 'Intro to Creative Coding']\n",
      "\n",
      "Fall 2023: 10 Highest CBI Courses:\n",
      "            Course Description  CBI\n",
      "  Computational Social Science 5.00\n",
      "      Intro to Creative Coding 5.00\n",
      "          Algorithms for Games 4.67\n",
      "       Artificial Intelligence 4.56\n",
      "               Neural Networks 4.54\n",
      "               Esports Casting 4.47\n",
      "                   Applied NLP 4.14\n",
      "Computational Thinking & Doing 3.96\n",
      "   Great Ideas of the Info Age 3.94\n",
      "    Intro. to Game Development 3.94\n",
      "\n",
      " Fall 2023: 10 Lowest CBI Courses:\n",
      "            Course Description  CBI\n",
      "Intellectual Property/Copyrigh 1.69\n",
      "              Online Searching 1.77\n",
      "    Social Media and Ourselves 1.95\n",
      " Publishing:Papyrus to E-Books 2.00\n",
      "Digital Storytelling & Culture 2.01\n",
      "Digital Discourse and Identity 2.02\n",
      "   Introduction to Game Design 2.03\n",
      "     Ethics in a Digital World 2.05\n",
      "            Intro to Info Tech 2.05\n",
      "           Technology of Sound 2.10\n",
      "\n",
      "🗓 CBI Summary for Spring 2024\n",
      "Mean CBI: 3.05\n",
      "Median CBI: 2.88\n",
      "Standard Deviation: 0.91\n",
      "Min CBI: 1.7 on Courses: ['Digital Dilemmas']\n",
      "Max CBI: 5.41 on Courses: ['Game AI']\n",
      "\n",
      "Spring 2024: 10 Highest CBI Courses:\n",
      "           Course Description  CBI\n",
      "                      Game AI 5.41\n",
      "                   STEM Games 5.07\n",
      " Computational Social Science 5.00\n",
      "Monetizing Independent Gaming 4.62\n",
      "    Intro to Digital Cultures 4.48\n",
      "              Esports Casting 4.44\n",
      "      Artificial Intelligence 4.15\n",
      "                  Applied NLP 4.12\n",
      "  Info Trust and Manipulation 4.00\n",
      "           Princ Data Science 4.00\n",
      "\n",
      " Spring 2024: 10 Lowest CBI Courses:\n",
      "            Course Description  CBI\n",
      "              Digital Dilemmas 1.70\n",
      " Qualitative Internet Research 1.71\n",
      "Digital Storytelling & Culture 1.74\n",
      "         Theories of New Media 1.85\n",
      "   Introduction to Game Design 1.92\n",
      "    Social Media and Ourselves 1.92\n",
      "  Collaborating: Online Commun 1.97\n",
      "       Social Media Strategies 2.03\n",
      "            Intro to Info Tech 2.11\n",
      "Intellectual Property/Copyrigh 2.13\n",
      "\n",
      "🗓 CBI Summary for Fall 2024\n",
      "Mean CBI: 2.96\n",
      "Median CBI: 2.95\n",
      "Standard Deviation: 0.88\n",
      "Min CBI: 1.58 on Courses: ['Intro to Info Tech']\n",
      "Max CBI: 5.14 on Courses: ['Neural Networks']\n",
      "\n",
      "Fall 2024: 10 Highest CBI Courses:\n",
      "           Course Description  CBI\n",
      "              Neural Networks 5.14\n",
      "Bayesian Modeling & Inference 5.00\n",
      "         Algorithms for Games 4.89\n",
      "          Installation Design 4.80\n",
      "           Princ Data Science 4.67\n",
      "  Info Trust and Manipulation 4.27\n",
      "      Artificial Intelligence 4.12\n",
      "                  Applied NLP 4.10\n",
      "   Intro. to Game Development 3.98\n",
      "           Digital Engagement 3.68\n",
      "\n",
      " Fall 2024: 10 Lowest CBI Courses:\n",
      "            Course Description  CBI\n",
      "            Intro to Info Tech 1.58\n",
      "              Online Searching 1.71\n",
      "Digital Storytelling & Culture 1.80\n",
      "        Computing and the Arts 1.85\n",
      "     Ethics in a Digital World 1.85\n",
      "       Gamification in Society 1.92\n",
      "           Technology of Sound 1.96\n",
      "Digital Discourse and Identity 2.02\n",
      "       Social Media Strategies 2.03\n",
      "    Social Media and Ourselves 2.08\n",
      "\n",
      "🗓 CBI Summary for Spring 2025\n",
      "Mean CBI: 3.06\n",
      "Median CBI: 2.88\n",
      "Standard Deviation: 1.0\n",
      "Min CBI: 1.73 on Courses: ['Digital Storytelling & Culture']\n",
      "Max CBI: 5.41 on Courses: ['Game AI']\n",
      "\n",
      "Spring 2025: 10 Highest CBI Courses:\n",
      "           Course Description  CBI\n",
      "                      Game AI 5.41\n",
      "          Advanced Web Design 5.40\n",
      "Applied Cyberinfrastruct Conc 5.05\n",
      "                   STEM Games 5.03\n",
      "Bayesian Modeling & Inference 5.00\n",
      "          Installation Design 4.83\n",
      "Monetizing Independent Gaming 4.57\n",
      "      Visual Content Creation 4.52\n",
      "      Artificial Intelligence 4.38\n",
      "           Princ Data Science 4.16\n",
      "\n",
      " Spring 2025: 10 Lowest CBI Courses:\n",
      "            Course Description  CBI\n",
      "Digital Storytelling & Culture 1.73\n",
      "       Gamification in Society 1.74\n",
      "   Introduction to Game Design 1.80\n",
      "         Theories of New Media 1.82\n",
      "        The Past and New Media 1.84\n",
      "Digital Discourse and Identity 1.89\n",
      "  Intro Web Design-Development 1.90\n",
      "              Digital Dilemmas 1.96\n",
      "       Social Media Strategies 1.96\n",
      "    Social Media and Ourselves 2.09\n"
     ]
    }
   ],
   "source": [
    "# For Loop for our summary stats (mean, median, std, min/max) and top/bottom courses\n",
    "\n",
    "# Empty Lists to store some summary stats for graphing\n",
    "cbi_term_means = []\n",
    "cbi_term_medians = []\n",
    "cbi_term_stds = []\n",
    "\n",
    "for df_semester, group in df_CBI_term_analysis.groupby(\"Term\", sort=False): # sort = False to keep my Terms in academic year order\n",
    "    # Summary stats (mean, median, std)\n",
    "    cbi_term_mean = round(group[\"CBI\"].mean(), 2)                           # Mean\n",
    "    cbi_term_means.append({\"Term\": df_semester, \"Mean CBI\": cbi_term_mean}) # Save Mean to cbi_term_means\n",
    "    cbi_term_median = round(group[\"CBI\"].median(), 2)                             # Median\n",
    "    cbi_term_medians.append({\"Term\": df_semester, \"Median CBI\": cbi_term_median}) # Save Median to cbi_term_medians\n",
    "    cbi_term_std = round(group[\"CBI\"].std(), 2)\n",
    "    cbi_term_stds.append({\"Term\": df_semester, \"STD CBI\": cbi_term_std})\n",
    "\n",
    "    # Print summary stats\n",
    "    print(f\"\\n🗓 CBI Summary for {df_semester}\") # emoji to make it easier to read\n",
    "    print(f\"Mean CBI: {cbi_term_mean}\")\n",
    "    print(f\"Median CBI: {cbi_term_median}\")\n",
    "    print(f\"Standard Deviation: {cbi_term_std}\")\n",
    "\n",
    "    # Min/Max with course name(s)\n",
    "    cbi_term_min = round(group[\"CBI\"].min(), 2)\n",
    "    cbi_term_max = round(group[\"CBI\"].max(), 2)\n",
    "    cbi_term_course_min = group.loc[group[\"CBI\"] == cbi_term_min, \"Course Description\"].tolist()\n",
    "    cbi_term_course_max = group.loc[group[\"CBI\"] == cbi_term_max, \"Course Description\"].tolist()\n",
    "    print(f\"Min CBI: {cbi_term_min} on Courses: {cbi_term_course_min}\")\n",
    "    print(f\"Max CBI: {cbi_term_max} on Courses: {cbi_term_course_max}\")\n",
    "\n",
    "    #Top/Bottom \n",
    "    high_low_count = 10\n",
    "    top_cbi_term = group.nlargest(high_low_count, \"CBI\")[[\"Course Description\", \"CBI\"]]\n",
    "    bottom_cbi_term = group.nsmallest(high_low_count, \"CBI\")[[\"Course Description\", \"CBI\"]]\n",
    "    print(f\"\\n{df_semester}: {high_low_count} Highest CBI Courses:\")\n",
    "    print(top_cbi_term.to_string(index=False))\n",
    "    print(f\"\\n {df_semester}: {high_low_count} Lowest CBI Courses:\")\n",
    "    print(bottom_cbi_term.to_string(index=False))\n"
   ]
  },
  {
   "cell_type": "markdown",
   "id": "89269b43",
   "metadata": {},
   "source": [
    "Plot CBI by Term: Average"
   ]
  },
  {
   "cell_type": "code",
   "execution_count": 50,
   "id": "b859ed95",
   "metadata": {},
   "outputs": [
    {
     "data": {
      "image/png": "[encoded data removed]",
      "text/plain": [
       "<Figure size 1000x500 with 1 Axes>"
      ]
     },
     "metadata": {},
     "output_type": "display_data"
    }
   ],
   "source": [
    "df_trend_means = pd.DataFrame(cbi_term_means)\n",
    "\n",
    "plt.figure(figsize=(10, 5))\n",
    "plt.plot(df_trend_means[\"Term\"], df_trend_means[\"Mean CBI\"], marker='o')\n",
    "plt.title(\"Mean CBI Score by Semester - Unweighted\")\n",
    "plt.xlabel(\"Term\")\n",
    "plt.ylabel(\"Mean CBI\")\n",
    "plt.grid(True)\n",
    "plt.tight_layout()\n",
    "plt.show()\n"
   ]
  },
  {
   "cell_type": "markdown",
   "id": "c753b8b3",
   "metadata": {},
   "source": [
    "Plot CBI by Term: Median"
   ]
  },
  {
   "cell_type": "code",
   "execution_count": 51,
   "id": "2d0f61db",
   "metadata": {},
   "outputs": [
    {
     "data": {
      "image/png": "[encoded data removed]",
      "text/plain": [
       "<Figure size 1000x500 with 1 Axes>"
      ]
     },
     "metadata": {},
     "output_type": "display_data"
    }
   ],
   "source": [
    "df_trend_medians = pd.DataFrame(cbi_term_medians)\n",
    "\n",
    "plt.figure(figsize=(10, 5))\n",
    "plt.plot(df_trend_medians[\"Term\"], df_trend_medians[\"Median CBI\"], marker='o')\n",
    "plt.title(\"Median CBI Score by Semester - Unweighted\")\n",
    "plt.xlabel(\"Term\")\n",
    "plt.ylabel(\"Median CBI\")\n",
    "plt.grid(True)\n",
    "plt.tight_layout()\n",
    "plt.show()\n"
   ]
  },
  {
   "cell_type": "code",
   "execution_count": 52,
   "id": "fe6f00ad",
   "metadata": {},
   "outputs": [
    {
     "data": {
      "image/png": "[encoded data removed]",
      "text/plain": [
       "<Figure size 1000x500 with 1 Axes>"
      ]
     },
     "metadata": {},
     "output_type": "display_data"
    }
   ],
   "source": [
    "df_trend_std = pd.DataFrame(cbi_term_stds)\n",
    "\n",
    "plt.figure(figsize=(10, 5))\n",
    "plt.plot(df_trend_std[\"Term\"], df_trend_std[\"STD CBI\"], marker='o')\n",
    "plt.title(\"STD CBI by Semester - Unweighted\")\n",
    "plt.xlabel(\"Term\")\n",
    "plt.ylabel(\"STD CBI\")\n",
    "plt.grid(True)\n",
    "plt.tight_layout()\n",
    "plt.show()"
   ]
  },
  {
   "cell_type": "markdown",
   "id": "a2cd464e",
   "metadata": {},
   "source": [
    "<h2>Feature Importance Analysis (for Custom Weights)</h2>\n",
    "Analyze our Terms (DR, OFS, IAS, PCS) for which carry most weight\n",
    "\n",
    "1. Correlation Analysis\n",
    "2. Random Forest Analysis"
   ]
  },
  {
   "cell_type": "markdown",
   "id": "18ebec76",
   "metadata": {},
   "source": [
    "<h4>Feature Importance via Correlation Analysis</h4>\n",
    "\n",
    "CBI Total first, followed by CBI by Term"
   ]
  },
  {
   "cell_type": "code",
   "execution_count": 53,
   "id": "d4057da6",
   "metadata": {},
   "outputs": [
    {
     "name": "stdout",
     "output_type": "stream",
     "text": [
      "CBI Total - Feature Correlation with CBI Score (before weighting):\n",
      "OFS    0.849869\n",
      "IAS    0.682253\n",
      "PCS    0.524393\n",
      "DR    -0.268418\n",
      "dtype: float64\n"
     ]
    }
   ],
   "source": [
    "# Pearson Correlation: correlate our terms (\"DR\", \"OFS\", \"IAS\", \"PCS\") against CBI score\n",
    "correlations_tot = df_CBI[[\"DR\", \"OFS\", \"IAS\", \"PCS\"]].corrwith(df_CBI_analysis[\"CBI\"]).sort_values(ascending=False)\n",
    "\n",
    "print(\"CBI Total - Feature Correlation with CBI Score (before weighting):\")\n",
    "print(correlations_tot)"
   ]
  },
  {
   "cell_type": "markdown",
   "id": "52d7c6fc",
   "metadata": {},
   "source": [
    "Turn Corrleation Analysis into Percentages, totaling to 100%"
   ]
  },
  {
   "cell_type": "code",
   "execution_count": 54,
   "id": "98e10de3",
   "metadata": {},
   "outputs": [
    {
     "name": "stdout",
     "output_type": "stream",
     "text": [
      "CBI Total - Feature Importances (Pearson Correlation):\n",
      "OFS    0.3655\n",
      "IAS    0.2935\n",
      "PCS    0.2256\n",
      "DR     0.1155\n",
      "dtype: float64\n"
     ]
    }
   ],
   "source": [
    "correlations_tot_abs = correlations_tot.abs()\n",
    "\n",
    "# Normalize to sum to 1\n",
    "weights_tot_corr = (correlations_tot_abs / correlations_tot_abs.sum()).round(4)\n",
    "\n",
    "print(\"CBI Total - Feature Importances (Pearson Correlation):\")\n",
    "print(weights_tot_corr)"
   ]
  },
  {
   "cell_type": "code",
   "execution_count": 55,
   "id": "c3c72522",
   "metadata": {},
   "outputs": [
    {
     "name": "stdout",
     "output_type": "stream",
     "text": [
      "CBI by Term - Feature Correlation with CBI Score (before weighting):\n",
      "OFS    0.716483\n",
      "PCS    0.641291\n",
      "IAS    0.514556\n",
      "DR    -0.008542\n",
      "dtype: float64\n"
     ]
    }
   ],
   "source": [
    "# Pearson Correlation: correlate our terms (\"DR\", \"OFS\", \"IAS\", \"PCS\") against CBI score\n",
    "correlations = df_CBI_term[[\"DR\", \"OFS\", \"IAS\", \"PCS\"]].corrwith(df_CBI_term_analysis[\"CBI\"]).sort_values(ascending=False)\n",
    "\n",
    "print(\"CBI by Term - Feature Correlation with CBI Score (before weighting):\")\n",
    "print(correlations)"
   ]
  },
  {
   "cell_type": "code",
   "execution_count": 56,
   "id": "e3d605f5",
   "metadata": {},
   "outputs": [
    {
     "name": "stdout",
     "output_type": "stream",
     "text": [
      "CBI by Term - Feature Importances (Pearson Correlation):\n",
      "OFS    0.3809\n",
      "PCS    0.3410\n",
      "IAS    0.2736\n",
      "DR     0.0045\n",
      "dtype: float64\n"
     ]
    }
   ],
   "source": [
    "correlations_abs = correlations.abs()\n",
    "\n",
    "# Normalize to sum to 1\n",
    "weights_corr = (correlations_abs / correlations_abs.sum()).round(4)\n",
    "\n",
    "print(\"CBI by Term - Feature Importances (Pearson Correlation):\")\n",
    "print(weights_corr)"
   ]
  },
  {
   "cell_type": "markdown",
   "id": "3788d40e",
   "metadata": {},
   "source": [
    "<h4>Feature Analysis by Correlation Analysis Conclusions: </h4>\n",
    "\n",
    "Total:\n",
    " * OFS (37%) strongest weight\n",
    " * IAS (29%) and PCS (22%) have the next strongest weights\n",
    " * DR has moderate influence (12%)\n",
    "\n",
    " By Term:\n",
    " * OFS (38%) strongest weight followed by PCS (34%)\n",
    " * IAS (27%) has  moderate influence\n",
    " * DR has little to no influence"
   ]
  },
  {
   "cell_type": "markdown",
   "id": "60564083",
   "metadata": {},
   "source": [
    "<h4>Feature Importance via Random Forest</h4>\n",
    "\n",
    "CBI Total first, followed by CBI by Term"
   ]
  },
  {
   "cell_type": "code",
   "execution_count": 57,
   "id": "1bda35fd",
   "metadata": {},
   "outputs": [
    {
     "name": "stdout",
     "output_type": "stream",
     "text": [
      "CBI Total - Feature Importances (Random Forest):\n",
      "OFS    0.7268\n",
      "PCS    0.1979\n",
      "DR     0.0402\n",
      "IAS    0.0350\n",
      "dtype: float64\n"
     ]
    }
   ],
   "source": [
    "# Random Forest - Feature Importance - CBI Total\n",
    "x_rf_tot = df_CBI_analysis[[\"DR\", \"OFS\", \"IAS\", \"PCS\"]]\n",
    "y_rf_tot = df_CBI_analysis[\"CBI\"]\n",
    "\n",
    "# Run Random Forest Regression\n",
    "rf_tot_featureimportance_model = RandomForestRegressor(random_state=123)\n",
    "rf_tot_featureimportance_model.fit(x_rf_tot, y_rf_tot)\n",
    "\n",
    "# Feature importance with .feature_importances_ (indexed by column names, sorted highest to lowest)\n",
    "weights_rf_tot = pd.Series(rf_tot_featureimportance_model.feature_importances_, index=x_rf_tot.columns).sort_values(ascending=False)\n",
    "weights_rf_tot = weights_rf_tot.round(4)\n",
    "\n",
    "print(\"CBI Total - Feature Importances (Random Forest):\")\n",
    "print(weights_rf_tot)"
   ]
  },
  {
   "cell_type": "code",
   "execution_count": 58,
   "id": "dea3cc36",
   "metadata": {},
   "outputs": [
    {
     "name": "stdout",
     "output_type": "stream",
     "text": [
      "CBI by Term - Feature Importances (Random Forest):\n",
      "OFS    0.5071\n",
      "PCS    0.3521\n",
      "DR     0.0789\n",
      "IAS    0.0619\n",
      "dtype: float64\n"
     ]
    }
   ],
   "source": [
    "# Random Forest - Feature Importance - CBI by Term\n",
    "x_rf = df_CBI_term_analysis[[\"DR\", \"OFS\", \"IAS\", \"PCS\"]]\n",
    "y_rf = df_CBI_term_analysis[\"CBI\"]\n",
    "\n",
    "# Run Random Forest Regression\n",
    "rf_featureimportance_model = RandomForestRegressor(random_state=123)\n",
    "rf_featureimportance_model.fit(x_rf, y_rf)\n",
    "\n",
    "# Feature importance with .feature_importances_ (indexed by column names, sorted highest to lowest)\n",
    "weights_rf = pd.Series(rf_featureimportance_model.feature_importances_, index=x_rf.columns).sort_values(ascending=False)\n",
    "weights_rf = weights_rf.round(4)\n",
    "\n",
    "print(\"CBI by Term - Feature Importances (Random Forest):\")\n",
    "print(weights_rf)\n"
   ]
  },
  {
   "cell_type": "markdown",
   "id": "4b4bf8b5",
   "metadata": {},
   "source": [
    "<h4>Feature Analysis by Random Forest Analysis Conclusions: </h4>\n",
    "\n",
    "Total & By Term:\n",
    " * OFS (73%) strongest weight\n",
    " * PCS (20%) has the next strongest weight\n",
    " * DR & IAS have little influence (<5%)\n",
    "\n",
    " By Term:\n",
    " * OFS (50.7%) strongest weight\n",
    " * PCS (35%) has the next strongest weight\n",
    " * DR & IAS have little influence (<10%)"
   ]
  },
  {
   "cell_type": "markdown",
   "id": "f0d76041",
   "metadata": {},
   "source": [
    "Both Correlation Analysis & Random Forest concluded: \n",
    "\n",
    "1) OFS carries the most weight, \n",
    "\n",
    "2) PCS carries the second most amount of weight, and \n",
    "\n",
    "3) DR carriers little weight"
   ]
  },
  {
   "cell_type": "markdown",
   "id": "a4e3aa28",
   "metadata": {},
   "source": [
    "Weights Custom - Correlation Analysis"
   ]
  },
  {
   "cell_type": "code",
   "execution_count": 59,
   "id": "237deb01",
   "metadata": {},
   "outputs": [
    {
     "name": "stdout",
     "output_type": "stream",
     "text": [
      "CBI Total:\n",
      "   Feature Importance by Correlation Analysis: {'OFS': 0.3655, 'IAS': 0.2935, 'PCS': 0.2256, 'DR': 0.1155}\n",
      "   Feature Importance by Random Forest Analysis: {'OFS': 0.7268, 'PCS': 0.1979, 'DR': 0.0402, 'IAS': 0.035}\n",
      "\n",
      "CBI by Term:\n",
      "   Feature Importance by Correlation Analysis: {'OFS': 0.3809, 'PCS': 0.341, 'IAS': 0.2736, 'DR': 0.0045}\n",
      "   Feature Importance by Random Forest Analysis: {'OFS': 0.5071, 'PCS': 0.3521, 'DR': 0.0789, 'IAS': 0.0619}\n"
     ]
    }
   ],
   "source": [
    "# CBI Total\n",
    "weights_corr_tot_dict = weights_tot_corr.to_dict()\n",
    "weights_rf_tot_dict = weights_rf_tot.to_dict()\n",
    "\n",
    "print(\"CBI Total:\\n   Feature Importance by Correlation Analysis:\", weights_corr_tot_dict)\n",
    "print(\"   Feature Importance by Random Forest Analysis:\", weights_rf_tot_dict)\n",
    "\n",
    "# CBI by Term\n",
    "weights_corr_dict = weights_corr.to_dict()\n",
    "weights_rf_dict = weights_rf.to_dict()\n",
    "\n",
    "print(\"\\nCBI by Term:\\n   Feature Importance by Correlation Analysis:\", weights_corr_dict)\n",
    "print(\"   Feature Importance by Random Forest Analysis:\", weights_rf_dict)"
   ]
  },
  {
   "cell_type": "markdown",
   "id": "b75a9de0",
   "metadata": {},
   "source": [
    "CBI Analysis with New Weights - CBI Total"
   ]
  },
  {
   "cell_type": "code",
   "execution_count": 60,
   "id": "db86abdd",
   "metadata": {},
   "outputs": [],
   "source": [
    "df_CBI_tot_analysis_corr = df_CBI.copy()\n",
    "\n",
    "df_CBI_tot_analysis_corr[\"CBI\"] = ((df_CBI_tot_analysis_corr[\"DR\"]  * weights_corr_tot_dict[\"DR\"] +\n",
    "                               df_CBI_tot_analysis_corr[\"OFS\"] * weights_corr_tot_dict[\"OFS\"] +\n",
    "                               df_CBI_tot_analysis_corr[\"IAS\"] * weights_corr_tot_dict[\"IAS\"] +\n",
    "                               df_CBI_tot_analysis_corr[\"PCS\"] * weights_corr_tot_dict[\"PCS\"]).round(2))"
   ]
  },
  {
   "cell_type": "code",
   "execution_count": 61,
   "id": "8f8b9219",
   "metadata": {},
   "outputs": [],
   "source": [
    "df_CBI_tot_analysis_rf = df_CBI.copy()\n",
    "\n",
    "df_CBI_tot_analysis_rf[\"CBI\"] = ((df_CBI_tot_analysis_rf[\"DR\"]  * weights_rf_tot[\"DR\"] +\n",
    "                               df_CBI_tot_analysis_rf[\"OFS\"] * weights_rf_tot[\"OFS\"] +\n",
    "                               df_CBI_tot_analysis_rf[\"IAS\"] * weights_rf_dict[\"IAS\"] +\n",
    "                               df_CBI_tot_analysis_rf[\"PCS\"] * weights_rf_dict[\"PCS\"]).round(2))"
   ]
  },
  {
   "cell_type": "markdown",
   "id": "925057ff",
   "metadata": {},
   "source": [
    "CBI Analysis with New Weights - CBI by Term"
   ]
  },
  {
   "cell_type": "code",
   "execution_count": 62,
   "id": "523ad520",
   "metadata": {},
   "outputs": [],
   "source": [
    "df_CBI_term_analysis_corr = df_CBI_term.copy()\n",
    "\n",
    "df_CBI_term_analysis_corr[\"CBI\"] = ((df_CBI_term_analysis_corr[\"DR\"]  * weights_corr_dict[\"DR\"] +\n",
    "                               df_CBI_term_analysis_corr[\"OFS\"] * weights_corr_dict[\"OFS\"] +\n",
    "                               df_CBI_term_analysis_corr[\"IAS\"] * weights_corr_dict[\"IAS\"] +\n",
    "                               df_CBI_term_analysis_corr[\"PCS\"] * weights_corr_dict[\"PCS\"]).round(2))\n",
    "\n"
   ]
  },
  {
   "cell_type": "code",
   "execution_count": 63,
   "id": "d7e79f33",
   "metadata": {},
   "outputs": [],
   "source": [
    "df_CBI_term_analysis_rf = df_CBI_term.copy()\n",
    "\n",
    "df_CBI_term_analysis_rf[\"CBI\"] = ((df_CBI_term_analysis_rf[\"DR\"]  * weights_rf_dict[\"DR\"] +\n",
    "                               df_CBI_term_analysis_rf[\"OFS\"] * weights_rf_dict[\"OFS\"] +\n",
    "                               df_CBI_term_analysis_rf[\"IAS\"] * weights_rf_dict[\"IAS\"] +\n",
    "                               df_CBI_term_analysis_rf[\"PCS\"] * weights_rf_dict[\"PCS\"]).round(2))"
   ]
  },
  {
   "cell_type": "markdown",
   "id": "a4e616e5",
   "metadata": {},
   "source": [
    "Compare CBI with Correlation Weights vs CBI with Random Forest Weights"
   ]
  },
  {
   "cell_type": "code",
   "execution_count": 64,
   "id": "9e5ebd2c",
   "metadata": {},
   "outputs": [
    {
     "name": "stdout",
     "output_type": "stream",
     "text": [
      "98.89 % Correlation for CBI Total by Correlation vs by Random Forest\n"
     ]
    }
   ],
   "source": [
    "# CBI Total\n",
    "# Merge CBI Analyses (Correlation vs Ranom Forest) with [\"Course Description\", \"CBI\"]\n",
    "df_compare_total = df_CBI_tot_analysis_corr.merge(\n",
    "    df_CBI_tot_analysis_rf, on=\"Course Description\", suffixes=(\"_corr\", \"_rf\"))\n",
    "\n",
    "# Correlation between the two versions (Correlation vs Random Forest)\n",
    "corr_cbi_versions = df_compare_total[\"CBI_corr\"].corr(df_compare_total[\"CBI_rf\"])\n",
    "print(100*round(corr_cbi_versions, 4), \"% Correlation for CBI Total by Correlation vs by Random Forest\")"
   ]
  },
  {
   "cell_type": "code",
   "execution_count": 65,
   "id": "18b464a7",
   "metadata": {},
   "outputs": [
    {
     "name": "stdout",
     "output_type": "stream",
     "text": [
      "96.33 % Correlation for CBI Total by Correlation vs by Random Forest\n"
     ]
    }
   ],
   "source": [
    "# CBI by Term\n",
    "# Merge CBI Analyses (Correlation vs Ranom Forest) with [\"Course Description\", \"CBI\"]\n",
    "df_compare_term = df_CBI_term_analysis_corr.merge(\n",
    "    df_CBI_term_analysis_rf, on=\"Course Description\", suffixes=(\"_corr\", \"_rf\"))\n",
    "\n",
    "# Correlation between the two versions (Correlation vs Random Forest)\n",
    "corr_cbi_versions = df_compare_term[\"CBI_corr\"].corr(df_compare_term[\"CBI_rf\"])\n",
    "print(100*round(corr_cbi_versions, 4), \"% Correlation for CBI Total by Correlation vs by Random Forest\")"
   ]
  },
  {
   "cell_type": "markdown",
   "id": "4ad1562f",
   "metadata": {},
   "source": [
    "<h3> Feature Importance / Weight Analysis Conclusions</h3>\n",
    "\n",
    "I compared two weighting strategies for our Course Bottleneck Index (CBI): \n",
    "1) Correlation-based weights — using Pearson correlation with the original CBI\n",
    "2) Random Forest-derived weights — using feature importance from a predictive model\n",
    "\n",
    "The resulting scores were highly consistent:\n",
    "* 98.99% correlation across total course scores\n",
    "* 96.33% correlation across term-level scores\n",
    "\n",
    "Because both models produced near-identical results, **I moved forward with Random Forest weights**, favoring its predictive strength and ability to capture nonlinear patterns in course bottlenecks."
   ]
  },
  {
   "cell_type": "markdown",
   "id": "0d85f066",
   "metadata": {},
   "source": [
    "<h1> Correlation Analysis's CBI</h1> \n",
    "(For Reference, mostly will use Random Forest)"
   ]
  },
  {
   "cell_type": "markdown",
   "id": "235ce1a9",
   "metadata": {},
   "source": [
    "Summary Stats - Total CBI - Correlation"
   ]
  },
  {
   "cell_type": "code",
   "execution_count": 66,
   "id": "29c43f62",
   "metadata": {},
   "outputs": [
    {
     "name": "stdout",
     "output_type": "stream",
     "text": [
      "CBI Summary Stats with Correlation Analysis (Overall):\n",
      "Mean CBI: 0.88\n",
      "Median CBI: 0.75\n",
      "Standard Deviation: 0.38\n",
      "Min CBI: 0.45 — Courses: ['Advanced Web Design', 'Monetizing Independent Gaming']\n",
      "Max CBI: 1.66 — Courses: []\n",
      "\n",
      "10 Highest CBI Courses:\n",
      "                Course Description   CBI\n",
      "33                         Game AI  1.66\n",
      "10    Computational Social Science  1.62\n",
      "57     Natural Language Processing  1.62\n",
      "65                      STEM Games  1.62\n",
      "32  Foundation of Info & Inference  1.54\n",
      "46        Intro to Creative Coding  1.49\n",
      "7    Bayesian Modeling & Inference  1.47\n",
      "1              Advanced Web Design  1.46\n",
      "55   Monetizing Independent Gaming  1.46\n",
      "29                 Esports Casting  1.45\n",
      "\n",
      "10 Lowest CBI Courses:\n",
      "                Course Description   CBI\n",
      "23                Digital Dilemmas  0.45\n",
      "59                Online Searching  0.45\n",
      "26  Digital Storytelling & Culture  0.46\n",
      "17           Database Dev and Mgmt  0.47\n",
      "76           Theories of New Media  0.47\n",
      "24  Digital Discourse and Identity  0.48\n",
      "31       Ethics in a Digital World  0.48\n",
      "44  Intellectual Property/Copyrigh  0.48\n",
      "49              Intro to Info Tech  0.48\n",
      "69      Social Media and Ourselves  0.48\n"
     ]
    }
   ],
   "source": [
    "# Overall stats cbi_tot\n",
    "cbi_tot_mean_corr = round(df_CBI_tot_analysis_corr[\"CBI\"].mean(), 2)\n",
    "cbi_tot_median_corr = round(df_CBI_tot_analysis_corr[\"CBI\"].median(), 2)\n",
    "cbi_tot_std_corr = round(df_CBI_tot_analysis_corr[\"CBI\"].std(), 2)\n",
    "\n",
    "print(\"CBI Summary Stats with Correlation Analysis (Overall):\")\n",
    "print(f\"Mean CBI: {cbi_tot_mean_corr}\")\n",
    "print(f\"Median CBI: {cbi_tot_median_corr}\")\n",
    "print(f\"Standard Deviation: {cbi_tot_std_corr}\")\n",
    "\n",
    "\n",
    "# DR min/max and course name\n",
    "cbi_tot_min_corr = round(df_CBI_tot_analysis_corr[\"CBI\"].min(), 2)\n",
    "cbi_tot_max_corr = round(df_CBI_tot_analysis_corr[\"CBI\"].max(), 2)\n",
    "cbi_tot_course_min_corr = df_CBI_tot_analysis_corr.loc[df_CBI_tot_analysis_corr[\"CBI\"] == cbi_tot_min, \"Course Description\"].tolist() #Course name(s) as list\n",
    "cbi_tot_course_max_corr = df_CBI_tot_analysis_corr.loc[df_CBI_tot_analysis_corr[\"CBI\"] == cbi_tot_max, \"Course Description\"].tolist()\n",
    "\n",
    "print(f\"Min CBI: {cbi_tot_min_corr} — Courses: {cbi_tot_course_min_corr}\")\n",
    "print(f\"Max CBI: {cbi_tot_max_corr} — Courses: {cbi_tot_course_max_corr}\")\n",
    "\n",
    "# Top highest and lowest DR courses\n",
    "high_low_count = 10\n",
    "top_cbi_tot_corr = df_CBI_tot_analysis_corr.nlargest(high_low_count, \"CBI\")\n",
    "bottom_cbi_tot_corr = df_CBI_tot_analysis_corr.nsmallest(high_low_count, \"CBI\")\n",
    "\n",
    "print(f\"\\n{high_low_count} Highest CBI Courses:\")\n",
    "#print(top_cbi_tot)\n",
    "print(top_cbi_tot_corr[[\"Course Description\", \"CBI\"]])\n",
    "print(f\"\\n{high_low_count} Lowest CBI Courses:\")\n",
    "#print(bottom_cbi_tot)\n",
    "print(bottom_cbi_tot_corr[[\"Course Description\", \"CBI\"]])"
   ]
  },
  {
   "cell_type": "markdown",
   "id": "4391a6ed",
   "metadata": {},
   "source": [
    "Summary Stats - By Term CBI - Correlation"
   ]
  },
  {
   "cell_type": "code",
   "execution_count": 67,
   "id": "aae23a94",
   "metadata": {},
   "outputs": [
    {
     "name": "stdout",
     "output_type": "stream",
     "text": [
      "\n",
      "🗓 CBI Summary for Fall 2021\n",
      "Mean CBI: 0.91\n",
      "Median CBI: 0.83\n",
      "Standard Deviation: 0.38\n",
      "Min CBI: 0.43 on Courses: ['Digital Storytelling & Culture']\n",
      "Max CBI: 1.76 on Courses: ['Advanced Web Design', 'Bayesian Modeling & Inference', 'Foundation of Info & Inference', 'Intro to Creative Coding']\n",
      "\n",
      "Fall 2021: 10 Highest CBI Courses:\n",
      "            Course Description  CBI\n",
      "           Advanced Web Design 1.76\n",
      " Bayesian Modeling & Inference 1.76\n",
      "Foundation of Info & Inference 1.76\n",
      "      Intro to Creative Coding 1.76\n",
      " Applied Cyberinfrastruct Conc 1.62\n",
      "     Designing an Installation 1.42\n",
      "    Instructional Technologies 1.42\n",
      "                Special Topics 1.42\n",
      "      User Interf+Website Dsgn 1.42\n",
      "          Algorithms for Games 1.38\n",
      "\n",
      " Fall 2021: 10 Lowest CBI Courses:\n",
      "            Course Description  CBI\n",
      "Digital Storytelling & Culture 0.43\n",
      "              Online Searching 0.45\n",
      "Digital Discourse and Identity 0.47\n",
      "         Theories of New Media 0.47\n",
      "    Social Media and Ourselves 0.48\n",
      "  Collaborating: Online Commun 0.52\n",
      "              Digital Dilemmas 0.52\n",
      "   Introduction to Game Design 0.52\n",
      "          Quantitative Methods 0.52\n",
      "           Technology of Sound 0.52\n",
      "\n",
      "🗓 CBI Summary for Spring 2022\n",
      "Mean CBI: 0.87\n",
      "Median CBI: 0.66\n",
      "Standard Deviation: 0.34\n",
      "Min CBI: 0.47 on Courses: ['Digital Storytelling & Culture', 'Social Media and Ourselves']\n",
      "Max CBI: 1.76 on Courses: ['Advanced Web Design', 'Foundation of Info & Inference']\n",
      "\n",
      "Spring 2022: 10 Highest CBI Courses:\n",
      "            Course Description  CBI\n",
      "           Advanced Web Design 1.76\n",
      "Foundation of Info & Inference 1.76\n",
      "          Business Information 1.42\n",
      "     Designing an Installation 1.42\n",
      "    Instructional Technologies 1.42\n",
      "     Intro to Digital Cultures 1.42\n",
      "      User Interf+Website Dsgn 1.42\n",
      "          Algorithms for Games 1.38\n",
      "       Artificial Intelligence 1.38\n",
      "            Princ Data Science 1.38\n",
      "\n",
      " Spring 2022: 10 Lowest CBI Courses:\n",
      "            Course Description  CBI\n",
      "Digital Storytelling & Culture 0.47\n",
      "    Social Media and Ourselves 0.47\n",
      "  Collaborating: Online Commun 0.52\n",
      "        Computing and the Arts 0.52\n",
      "              Digital Commerce 0.52\n",
      "              Digital Dilemmas 0.52\n",
      "Digital Discourse and Identity 0.52\n",
      "     Ethics in a Digital World 0.52\n",
      " Info MM Design & Moving Image 0.52\n",
      "   Introduction to Game Design 0.52\n",
      "\n",
      "🗓 CBI Summary for Fall 2022\n",
      "Mean CBI: 0.81\n",
      "Median CBI: 0.66\n",
      "Standard Deviation: 0.28\n",
      "Min CBI: 0.47 on Courses: ['Database Dev and Mgmt', 'Digital Storytelling & Culture']\n",
      "Max CBI: 1.76 on Courses: ['Intro to Creative Coding']\n",
      "\n",
      "Fall 2022: 10 Highest CBI Courses:\n",
      "           Course Description  CBI\n",
      "     Intro to Creative Coding 1.76\n",
      "         Algorithms for Games 1.38\n",
      "          Installation Design 1.38\n",
      "              Neural Networks 1.38\n",
      "   Instructional Technologies 1.28\n",
      "Ethical Issues in Information 1.04\n",
      "       Government Information 1.04\n",
      "          Science Information 1.04\n",
      "    Advanced Game Development 1.00\n",
      "   Applied Data Visualization 1.00\n",
      "\n",
      " Fall 2022: 10 Lowest CBI Courses:\n",
      "            Course Description  CBI\n",
      "         Database Dev and Mgmt 0.47\n",
      "Digital Storytelling & Culture 0.47\n",
      "  Collaborating: Online Commun 0.52\n",
      "        Computing and the Arts 0.52\n",
      "Digital Discourse and Identity 0.52\n",
      " Info MM Design & Moving Image 0.52\n",
      "   Introduction to Game Design 0.52\n",
      "              Online Searching 0.52\n",
      "          Quantitative Methods 0.52\n",
      "       Social Media Strategies 0.52\n",
      "\n",
      "🗓 CBI Summary for Spring 2023\n",
      "Mean CBI: 0.88\n",
      "Median CBI: 0.86\n",
      "Standard Deviation: 0.33\n",
      "Min CBI: 0.47 on Courses: ['Digital Dilemmas', 'Digital Storytelling & Culture']\n",
      "Max CBI: 1.76 on Courses: ['Computational Social Science', 'Natural Language Processing']\n",
      "\n",
      "Spring 2023: 10 Highest CBI Courses:\n",
      "          Course Description  CBI\n",
      "Computational Social Science 1.76\n",
      " Natural Language Processing 1.76\n",
      "        Business Information 1.42\n",
      "             Esports Casting 1.42\n",
      "              Special Topics 1.42\n",
      "        Algorithms for Games 1.38\n",
      "                 Applied NLP 1.38\n",
      "     Artificial Intelligence 1.38\n",
      "         Installation Design 1.38\n",
      "   Intro to Digital Cultures 1.28\n",
      "\n",
      " Spring 2023: 10 Lowest CBI Courses:\n",
      "            Course Description  CBI\n",
      "              Digital Dilemmas 0.47\n",
      "Digital Storytelling & Culture 0.47\n",
      "        Computing and the Arts 0.52\n",
      "              Digital Commerce 0.52\n",
      "Digital Discourse and Identity 0.52\n",
      "   Diversity and Bias in Games 0.52\n",
      " Info MM Design & Moving Image 0.52\n",
      "   Learning in Information Age 0.52\n",
      "              Online Searching 0.52\n",
      "       Social Media Strategies 0.52\n",
      "\n",
      "🗓 CBI Summary for Fall 2023\n",
      "Mean CBI: 0.85\n",
      "Median CBI: 0.74\n",
      "Standard Deviation: 0.31\n",
      "Min CBI: 0.44 on Courses: ['Social Media and Ourselves']\n",
      "Max CBI: 1.76 on Courses: ['Computational Social Science', 'Intro to Creative Coding']\n",
      "\n",
      "Fall 2023: 10 Highest CBI Courses:\n",
      "           Course Description  CBI\n",
      " Computational Social Science 1.76\n",
      "     Intro to Creative Coding 1.76\n",
      "              Esports Casting 1.42\n",
      "         Algorithms for Games 1.38\n",
      "                  Applied NLP 1.38\n",
      "      Artificial Intelligence 1.38\n",
      "              Neural Networks 1.38\n",
      "                  Data Ethics 1.04\n",
      "        Dig Games and Society 1.04\n",
      "Ethical Issues in Information 1.04\n",
      "\n",
      " Fall 2023: 10 Lowest CBI Courses:\n",
      "            Course Description  CBI\n",
      "    Social Media and Ourselves 0.44\n",
      "Digital Storytelling & Culture 0.47\n",
      "   Introduction to Game Design 0.47\n",
      "  Collaborating: Online Commun 0.52\n",
      "        Computing and the Arts 0.52\n",
      "Digital Discourse and Identity 0.52\n",
      "     Ethics in a Digital World 0.52\n",
      "Intellectual Property/Copyrigh 0.52\n",
      "   Learning in Information Age 0.52\n",
      "              Online Searching 0.52\n",
      "\n",
      "🗓 CBI Summary for Spring 2024\n",
      "Mean CBI: 0.89\n",
      "Median CBI: 0.81\n",
      "Standard Deviation: 0.35\n",
      "Min CBI: 0.45 on Courses: ['Digital Storytelling & Culture', 'Social Media and Ourselves']\n",
      "Max CBI: 1.76 on Courses: ['Computational Social Science', 'Game AI', 'STEM Games']\n",
      "\n",
      "Spring 2024: 10 Highest CBI Courses:\n",
      "           Course Description  CBI\n",
      " Computational Social Science 1.76\n",
      "                      Game AI 1.76\n",
      "                   STEM Games 1.76\n",
      "              Esports Casting 1.42\n",
      "  Info Trust and Manipulation 1.42\n",
      "    Intro to Digital Cultures 1.42\n",
      "Monetizing Independent Gaming 1.42\n",
      "        Special Topics in LIS 1.42\n",
      "                  Applied NLP 1.38\n",
      "      Artificial Intelligence 1.38\n",
      "\n",
      " Spring 2024: 10 Lowest CBI Courses:\n",
      "            Course Description  CBI\n",
      "Digital Storytelling & Culture 0.45\n",
      "    Social Media and Ourselves 0.45\n",
      "              Digital Dilemmas 0.47\n",
      "   Introduction to Game Design 0.47\n",
      " Qualitative Internet Research 0.47\n",
      "  Collaborating: Online Commun 0.52\n",
      "        Computing and the Arts 0.52\n",
      "     Ethics in a Digital World 0.52\n",
      "   Learning in Information Age 0.52\n",
      "       Social Media Strategies 0.52\n",
      "\n",
      "🗓 CBI Summary for Fall 2024\n",
      "Mean CBI: 0.85\n",
      "Median CBI: 0.86\n",
      "Standard Deviation: 0.31\n",
      "Min CBI: 0.43 on Courses: ['Ethics in a Digital World']\n",
      "Max CBI: 1.76 on Courses: ['Bayesian Modeling & Inference']\n",
      "\n",
      "Fall 2024: 10 Highest CBI Courses:\n",
      "           Course Description  CBI\n",
      "Bayesian Modeling & Inference 1.76\n",
      "  Info Trust and Manipulation 1.42\n",
      "         Algorithms for Games 1.38\n",
      "                  Applied NLP 1.38\n",
      "      Artificial Intelligence 1.38\n",
      "          Installation Design 1.38\n",
      "              Neural Networks 1.38\n",
      "           Princ Data Science 1.38\n",
      "                  Data Ethics 1.04\n",
      "        Dig Games and Society 1.04\n",
      "\n",
      " Fall 2024: 10 Lowest CBI Courses:\n",
      "            Course Description  CBI\n",
      "     Ethics in a Digital World 0.43\n",
      "Digital Storytelling & Culture 0.44\n",
      "        Computing and the Arts 0.45\n",
      "    Social Media and Ourselves 0.47\n",
      "   Introduction to Game Design 0.48\n",
      "  Collaborating: Online Commun 0.52\n",
      "Digital Discourse and Identity 0.52\n",
      "       Gamification in Society 0.52\n",
      " Info MM Design & Moving Image 0.52\n",
      "            Intro to Info Tech 0.52\n",
      "\n",
      "🗓 CBI Summary for Spring 2025\n",
      "Mean CBI: 0.91\n",
      "Median CBI: 0.86\n",
      "Standard Deviation: 0.38\n",
      "Min CBI: 0.45 on Courses: ['Digital Storytelling & Culture', 'Ethics in a Digital World']\n",
      "Max CBI: 1.76 on Courses: ['Advanced Web Design', 'Applied Cyberinfrastruct Conc', 'Bayesian Modeling & Inference', 'Game AI', 'STEM Games']\n",
      "\n",
      "Spring 2025: 10 Highest CBI Courses:\n",
      "           Course Description  CBI\n",
      "          Advanced Web Design 1.76\n",
      "Applied Cyberinfrastruct Conc 1.76\n",
      "Bayesian Modeling & Inference 1.76\n",
      "                      Game AI 1.76\n",
      "                   STEM Games 1.76\n",
      "         Business Information 1.42\n",
      "  Info Trust and Manipulation 1.42\n",
      "Monetizing Independent Gaming 1.42\n",
      "        Special Topics in LIS 1.42\n",
      "      Visual Content Creation 1.42\n",
      "\n",
      " Spring 2025: 10 Lowest CBI Courses:\n",
      "            Course Description  CBI\n",
      "Digital Storytelling & Culture 0.45\n",
      "     Ethics in a Digital World 0.45\n",
      "   Introduction to Game Design 0.47\n",
      "    Social Media and Ourselves 0.47\n",
      "  Digital Crime & Social Media 0.48\n",
      "        Computing and the Arts 0.52\n",
      "              Digital Dilemmas 0.52\n",
      "Digital Discourse and Identity 0.52\n",
      "       Gamification in Society 0.52\n",
      "  Intro Web Design-Development 0.52\n"
     ]
    }
   ],
   "source": [
    "# For Loop for our summary stats (mean, median, std, min/max) and top/bottom courses\n",
    "\n",
    "# Empty Lists to store some summary stats for graphing\n",
    "cbi_term_means_corr = []\n",
    "cbi_term_medians_corr = []\n",
    "cbi_term_stds_corr = []\n",
    "\n",
    "for df_semester, group in df_CBI_term_analysis_corr.groupby(\"Term\", sort=False): # sort = False to keep my Terms in academic year order\n",
    "    # Summary stats (mean, median, std)\n",
    "    cbi_term_mean = round(group[\"CBI\"].mean(), 2)                                # Mean\n",
    "    cbi_term_means_corr.append({\"Term\": df_semester, \"Mean CBI\": cbi_term_mean}) # Save Mean to cbi_term_means\n",
    "    cbi_term_median = round(group[\"CBI\"].median(), 2)                                  # Median\n",
    "    cbi_term_medians_corr.append({\"Term\": df_semester, \"Median CBI\": cbi_term_median}) # Save Median to cbi_term_medians\n",
    "    cbi_term_std = round(group[\"CBI\"].std(), 2)\n",
    "    cbi_term_stds_corr.append({\"Term\": df_semester, \"STD CBI\": cbi_term_std})\n",
    "\n",
    "    # Print summary stats\n",
    "    print(f\"\\n🗓 CBI Summary for {df_semester}\") # emoji to make it easier to read\n",
    "    print(f\"Mean CBI: {cbi_term_mean}\")\n",
    "    print(f\"Median CBI: {cbi_term_median}\")\n",
    "    print(f\"Standard Deviation: {cbi_term_std}\")\n",
    "\n",
    "    # Min/Max with course name(s)\n",
    "    cbi_term_min = round(group[\"CBI\"].min(), 2)\n",
    "    cbi_term_max = round(group[\"CBI\"].max(), 2)\n",
    "    cbi_term_course_min = group.loc[group[\"CBI\"] == cbi_term_min, \"Course Description\"].tolist()\n",
    "    cbi_term_course_max = group.loc[group[\"CBI\"] == cbi_term_max, \"Course Description\"].tolist()\n",
    "    print(f\"Min CBI: {cbi_term_min} on Courses: {cbi_term_course_min}\")\n",
    "    print(f\"Max CBI: {cbi_term_max} on Courses: {cbi_term_course_max}\")\n",
    "\n",
    "    #Top/Bottom \n",
    "    high_low_count = 10\n",
    "    top_cbi_term = group.nlargest(high_low_count, \"CBI\")[[\"Course Description\", \"CBI\"]]\n",
    "    bottom_cbi_term = group.nsmallest(high_low_count, \"CBI\")[[\"Course Description\", \"CBI\"]]\n",
    "    print(f\"\\n{df_semester}: {high_low_count} Highest CBI Courses:\")\n",
    "    print(top_cbi_term.to_string(index=False))\n",
    "    print(f\"\\n {df_semester}: {high_low_count} Lowest CBI Courses:\")\n",
    "    print(bottom_cbi_term.to_string(index=False))"
   ]
  },
  {
   "cell_type": "code",
   "execution_count": 68,
   "id": "b736ae21",
   "metadata": {},
   "outputs": [
    {
     "data": {
      "image/png": "[encoded data removed]",
      "text/plain": [
       "<Figure size 1000x500 with 1 Axes>"
      ]
     },
     "metadata": {},
     "output_type": "display_data"
    }
   ],
   "source": [
    "df_trend_means_corr = pd.DataFrame(cbi_term_means_corr)\n",
    "\n",
    "plt.figure(figsize=(10, 5))\n",
    "plt.plot(df_trend_means_corr[\"Term\"], df_trend_means_corr[\"Mean CBI\"], marker='o')\n",
    "plt.title(\"Mean CBI Score by Semester - Weighted with Correlation Analysis\")\n",
    "plt.xlabel(\"Term\")\n",
    "plt.ylabel(\"Mean CBI\")\n",
    "plt.grid(True)\n",
    "plt.tight_layout()\n",
    "plt.show()"
   ]
  },
  {
   "cell_type": "markdown",
   "id": "327691aa",
   "metadata": {},
   "source": [
    "<h1> Random Forest's CBI</h1>"
   ]
  },
  {
   "cell_type": "markdown",
   "id": "39b4405c",
   "metadata": {},
   "source": [
    "Summary Stats - Total CBI - Random Forest"
   ]
  },
  {
   "cell_type": "code",
   "execution_count": 69,
   "id": "0c09f219",
   "metadata": {},
   "outputs": [
    {
     "name": "stdout",
     "output_type": "stream",
     "text": [
      "CBI Summary Stats (Overall):\n",
      "Mean CBI: 1.41\n",
      "Median CBI: 1.12\n",
      "Standard Deviation: 0.67\n",
      "Min CBI: 0.75 — Courses: ['Database Dev and Mgmt', 'Digital Dilemmas', 'Intellectual Property/Copyrigh', 'Intro to Info Tech', 'Online Searching']\n",
      "Max CBI: 2.61 — Courses: ['Game AI']\n",
      "\n",
      "10 Highest CBI Courses:\n",
      "                Course Description   CBI\n",
      "33                         Game AI  2.61\n",
      "65                      STEM Games  2.60\n",
      "10    Computational Social Science  2.59\n",
      "32  Foundation of Info & Inference  2.59\n",
      "57     Natural Language Processing  2.59\n",
      "46        Intro to Creative Coding  2.58\n",
      "1              Advanced Web Design  2.57\n",
      "3    Applied Cyberinfrastruct Conc  2.56\n",
      "7    Bayesian Modeling & Inference  2.56\n",
      "55   Monetizing Independent Gaming  2.27\n",
      "\n",
      "10 Lowest CBI Courses:\n",
      "                Course Description   CBI\n",
      "17           Database Dev and Mgmt  0.75\n",
      "23                Digital Dilemmas  0.75\n",
      "44  Intellectual Property/Copyrigh  0.75\n",
      "49              Intro to Info Tech  0.75\n",
      "59                Online Searching  0.75\n",
      "9     Collaborating: Online Commun  0.76\n",
      "24  Digital Discourse and Identity  0.76\n",
      "26  Digital Storytelling & Culture  0.76\n",
      "31       Ethics in a Digital World  0.76\n",
      "35         Gamification in Society  0.76\n"
     ]
    }
   ],
   "source": [
    "# Overall stats cbi_tot\n",
    "cbi_tot_mean = round(df_CBI_tot_analysis_rf[\"CBI\"].mean(), 2)\n",
    "cbi_tot_median = round(df_CBI_tot_analysis_rf[\"CBI\"].median(), 2)\n",
    "cbi_tot_std = round(df_CBI_tot_analysis_rf[\"CBI\"].std(), 2)\n",
    "\n",
    "print(\"CBI Summary Stats (Overall):\")\n",
    "print(f\"Mean CBI: {cbi_tot_mean}\")\n",
    "print(f\"Median CBI: {cbi_tot_median}\")\n",
    "print(f\"Standard Deviation: {cbi_tot_std}\")\n",
    "\n",
    "\n",
    "# DR min/max and course name\n",
    "cbi_tot_min = round(df_CBI_tot_analysis_rf[\"CBI\"].min(), 2)\n",
    "cbi_tot_max = round(df_CBI_tot_analysis_rf[\"CBI\"].max(), 2)\n",
    "cbi_tot_course_min = df_CBI_tot_analysis_rf.loc[df_CBI_tot_analysis_rf[\"CBI\"] == cbi_tot_min, \"Course Description\"].tolist() #Course name(s) as list\n",
    "cbi_tot_course_max = df_CBI_tot_analysis_rf.loc[df_CBI_tot_analysis_rf[\"CBI\"] == cbi_tot_max, \"Course Description\"].tolist()\n",
    "\n",
    "print(f\"Min CBI: {cbi_tot_min} — Courses: {cbi_tot_course_min}\")\n",
    "print(f\"Max CBI: {cbi_tot_max} — Courses: {cbi_tot_course_max}\")\n",
    "\n",
    "# Top highest and lowest DR courses\n",
    "high_low_count = 10\n",
    "top_cbi_tot = df_CBI_tot_analysis_rf.nlargest(high_low_count, \"CBI\")\n",
    "bottom_cbi_tot = df_CBI_tot_analysis_rf.nsmallest(high_low_count, \"CBI\")\n",
    "\n",
    "print(f\"\\n{high_low_count} Highest CBI Courses:\")\n",
    "#print(top_cbi_tot)\n",
    "print(top_cbi_tot[[\"Course Description\", \"CBI\"]])\n",
    "print(f\"\\n{high_low_count} Lowest CBI Courses:\")\n",
    "#print(bottom_cbi_tot)\n",
    "print(bottom_cbi_tot[[\"Course Description\", \"CBI\"]])"
   ]
  },
  {
   "cell_type": "markdown",
   "id": "66476f06",
   "metadata": {},
   "source": [
    "Summary Stats - By Term CBI - Random Forest"
   ]
  },
  {
   "cell_type": "code",
   "execution_count": 70,
   "id": "0a5d42ef",
   "metadata": {},
   "outputs": [
    {
     "name": "stdout",
     "output_type": "stream",
     "text": [
      "\n",
      "🗓 CBI Summary for Fall 2021\n",
      "Mean CBI: 0.96\n",
      "Median CBI: 0.92\n",
      "Standard Deviation: 0.44\n",
      "Min CBI: 0.55 on Courses: ['Online Searching']\n",
      "Max CBI: 2.01 on Courses: ['Intro to Creative Coding']\n",
      "\n",
      "Fall 2021: 10 Highest CBI Courses:\n",
      "            Course Description  CBI\n",
      "      Intro to Creative Coding 2.01\n",
      "Foundation of Info & Inference 2.00\n",
      "           Advanced Web Design 1.96\n",
      " Bayesian Modeling & Inference 1.94\n",
      " Applied Cyberinfrastruct Conc 1.92\n",
      "    Instructional Technologies 1.63\n",
      "     Designing an Installation 1.60\n",
      "                Special Topics 1.60\n",
      "      User Interf+Website Dsgn 1.59\n",
      "Simulation and Problem Solving 1.55\n",
      "\n",
      " Fall 2021: 10 Lowest CBI Courses:\n",
      "            Course Description  CBI\n",
      "              Online Searching 0.55\n",
      "              Digital Dilemmas 0.56\n",
      "Digital Storytelling & Culture 0.56\n",
      "         Theories of New Media 0.57\n",
      "Digital Discourse and Identity 0.58\n",
      "  Collaborating: Online Commun 0.59\n",
      "         Database Dev and Mgmt 0.59\n",
      "            Intro to Info Tech 0.59\n",
      "          Quantitative Methods 0.59\n",
      "              Digital Commerce 0.60\n",
      "\n",
      "🗓 CBI Summary for Spring 2022\n",
      "Mean CBI: 0.9\n",
      "Median CBI: 0.65\n",
      "Standard Deviation: 0.39\n",
      "Min CBI: 0.56 on Courses: ['Online Searching']\n",
      "Max CBI: 1.97 on Courses: ['Advanced Web Design', 'Foundation of Info & Inference']\n",
      "\n",
      "Spring 2022: 10 Highest CBI Courses:\n",
      "            Course Description  CBI\n",
      "           Advanced Web Design 1.97\n",
      "Foundation of Info & Inference 1.97\n",
      "     Intro to Digital Cultures 1.64\n",
      "    Instructional Technologies 1.62\n",
      "     Designing an Installation 1.59\n",
      "      User Interf+Website Dsgn 1.59\n",
      "          Business Information 1.58\n",
      "       Artificial Intelligence 1.49\n",
      "          Algorithms for Games 1.48\n",
      "            Princ Data Science 1.47\n",
      "\n",
      " Spring 2022: 10 Lowest CBI Courses:\n",
      "            Course Description  CBI\n",
      "              Online Searching 0.56\n",
      "Digital Storytelling & Culture 0.57\n",
      "Intellectual Property/Copyrigh 0.57\n",
      "            Intro to Info Tech 0.57\n",
      "         Theories of New Media 0.57\n",
      "         Database Dev and Mgmt 0.58\n",
      "              Digital Dilemmas 0.58\n",
      "Digital Discourse and Identity 0.58\n",
      " Info MM Design & Moving Image 0.58\n",
      " Publishing:Papyrus to E-Books 0.58\n",
      "\n",
      "🗓 CBI Summary for Fall 2022\n",
      "Mean CBI: 0.83\n",
      "Median CBI: 0.65\n",
      "Standard Deviation: 0.31\n",
      "Min CBI: 0.55 on Courses: ['Database Dev and Mgmt']\n",
      "Max CBI: 2.01 on Courses: ['Intro to Creative Coding']\n",
      "\n",
      "Fall 2022: 10 Highest CBI Courses:\n",
      "           Course Description  CBI\n",
      "     Intro to Creative Coding 2.01\n",
      "   Instructional Technologies 1.59\n",
      "          Installation Design 1.50\n",
      "              Neural Networks 1.50\n",
      "         Algorithms for Games 1.48\n",
      "       Government Information 1.09\n",
      "Ethical Issues in Information 1.08\n",
      "          Science Information 1.08\n",
      "   Narrative in Digital Games 1.07\n",
      "   Applied Data Visualization 1.00\n",
      "\n",
      " Fall 2022: 10 Lowest CBI Courses:\n",
      "            Course Description  CBI\n",
      "         Database Dev and Mgmt 0.55\n",
      " Info MM Design & Moving Image 0.57\n",
      "              Online Searching 0.57\n",
      "Digital Storytelling & Culture 0.58\n",
      "Intellectual Property/Copyrigh 0.58\n",
      "            Intro to Info Tech 0.58\n",
      "          Quantitative Methods 0.58\n",
      "Digital Discourse and Identity 0.59\n",
      "          Information Security 0.59\n",
      "       Social Media Strategies 0.59\n",
      "\n",
      "🗓 CBI Summary for Spring 2023\n",
      "Mean CBI: 0.91\n",
      "Median CBI: 0.91\n",
      "Standard Deviation: 0.38\n",
      "Min CBI: 0.56 on Courses: ['Digital Dilemmas']\n",
      "Max CBI: 1.94 on Courses: ['Computational Social Science', 'Natural Language Processing']\n",
      "\n",
      "Spring 2023: 10 Highest CBI Courses:\n",
      "          Course Description  CBI\n",
      "Computational Social Science 1.94\n",
      " Natural Language Processing 1.94\n",
      "             Esports Casting 1.64\n",
      "              Special Topics 1.61\n",
      "        Business Information 1.58\n",
      "   Intro to Digital Cultures 1.58\n",
      "         Installation Design 1.50\n",
      "        Algorithms for Games 1.48\n",
      "     Artificial Intelligence 1.45\n",
      "                 Applied NLP 1.44\n",
      "\n",
      " Spring 2023: 10 Lowest CBI Courses:\n",
      "            Course Description  CBI\n",
      "              Digital Dilemmas 0.56\n",
      "Digital Storytelling & Culture 0.57\n",
      "Intellectual Property/Copyrigh 0.57\n",
      "              Online Searching 0.57\n",
      "         Database Dev and Mgmt 0.58\n",
      "Digital Discourse and Identity 0.58\n",
      "   Diversity and Bias in Games 0.58\n",
      "            Intro to Info Tech 0.58\n",
      "              Digital Commerce 0.59\n",
      "       Disruptive Technologies 0.59\n",
      "\n",
      "🗓 CBI Summary for Fall 2023\n",
      "Mean CBI: 0.87\n",
      "Median CBI: 0.79\n",
      "Standard Deviation: 0.34\n",
      "Min CBI: 0.55 on Courses: ['Intellectual Property/Copyrigh']\n",
      "Max CBI: 1.94 on Courses: ['Computational Social Science', 'Intro to Creative Coding']\n",
      "\n",
      "Fall 2023: 10 Highest CBI Courses:\n",
      "          Course Description  CBI\n",
      "Computational Social Science 1.94\n",
      "    Intro to Creative Coding 1.94\n",
      "             Esports Casting 1.62\n",
      "        Algorithms for Games 1.48\n",
      "     Artificial Intelligence 1.47\n",
      "             Neural Networks 1.47\n",
      "                 Applied NLP 1.44\n",
      "       Intro to Data Science 1.13\n",
      "       Dig Games and Society 1.10\n",
      "  Narrative in Digital Games 1.10\n",
      "\n",
      " Fall 2023: 10 Lowest CBI Courses:\n",
      "            Course Description  CBI\n",
      "Intellectual Property/Copyrigh 0.55\n",
      "              Online Searching 0.56\n",
      "            Intro to Info Tech 0.57\n",
      "Digital Discourse and Identity 0.58\n",
      "Digital Storytelling & Culture 0.58\n",
      "     Ethics in a Digital World 0.58\n",
      "   Introduction to Game Design 0.58\n",
      " Publishing:Papyrus to E-Books 0.58\n",
      "    Social Media and Ourselves 0.58\n",
      "  Collaborating: Online Commun 0.59\n",
      "\n",
      "🗓 CBI Summary for Spring 2024\n",
      "Mean CBI: 0.91\n",
      "Median CBI: 0.89\n",
      "Standard Deviation: 0.4\n",
      "Min CBI: 0.56 on Courses: ['Digital Dilemmas', 'Digital Storytelling & Culture', 'Qualitative Internet Research']\n",
      "Max CBI: 1.97 on Courses: ['Game AI']\n",
      "\n",
      "Spring 2024: 10 Highest CBI Courses:\n",
      "           Course Description  CBI\n",
      "                      Game AI 1.97\n",
      " Computational Social Science 1.94\n",
      "                   STEM Games 1.94\n",
      "Monetizing Independent Gaming 1.63\n",
      "              Esports Casting 1.62\n",
      "    Intro to Digital Cultures 1.62\n",
      "  Info Trust and Manipulation 1.58\n",
      "        Special Topics in LIS 1.58\n",
      "                  Applied NLP 1.44\n",
      "      Artificial Intelligence 1.44\n",
      "\n",
      " Spring 2024: 10 Lowest CBI Courses:\n",
      "            Course Description  CBI\n",
      "              Digital Dilemmas 0.56\n",
      "Digital Storytelling & Culture 0.56\n",
      " Qualitative Internet Research 0.56\n",
      "   Introduction to Game Design 0.57\n",
      "         Theories of New Media 0.57\n",
      "  Collaborating: Online Commun 0.58\n",
      "         Database Dev and Mgmt 0.58\n",
      "Intellectual Property/Copyrigh 0.58\n",
      "            Intro to Info Tech 0.58\n",
      "       Social Media Strategies 0.58\n",
      "\n",
      "🗓 CBI Summary for Fall 2024\n",
      "Mean CBI: 0.88\n",
      "Median CBI: 0.93\n",
      "Standard Deviation: 0.33\n",
      "Min CBI: 0.54 on Courses: ['Intro to Info Tech']\n",
      "Max CBI: 1.94 on Courses: ['Bayesian Modeling & Inference']\n",
      "\n",
      "Fall 2024: 10 Highest CBI Courses:\n",
      "           Course Description  CBI\n",
      "Bayesian Modeling & Inference 1.94\n",
      "  Info Trust and Manipulation 1.60\n",
      "              Neural Networks 1.52\n",
      "         Algorithms for Games 1.50\n",
      "          Installation Design 1.49\n",
      "           Princ Data Science 1.48\n",
      "                  Applied NLP 1.44\n",
      "      Artificial Intelligence 1.44\n",
      "        Intro to Data Science 1.13\n",
      "        Dig Games and Society 1.11\n",
      "\n",
      " Fall 2024: 10 Lowest CBI Courses:\n",
      "            Course Description  CBI\n",
      "            Intro to Info Tech 0.54\n",
      "              Online Searching 0.55\n",
      "        Computing and the Arts 0.57\n",
      "Digital Storytelling & Culture 0.57\n",
      "     Ethics in a Digital World 0.57\n",
      "       Gamification in Society 0.57\n",
      "           Technology of Sound 0.57\n",
      "         Database Dev and Mgmt 0.58\n",
      "Digital Discourse and Identity 0.58\n",
      "       Social Media Strategies 0.58\n",
      "\n",
      "🗓 CBI Summary for Spring 2025\n",
      "Mean CBI: 0.96\n",
      "Median CBI: 0.92\n",
      "Standard Deviation: 0.44\n",
      "Min CBI: 0.56 on Courses: ['Digital Storytelling & Culture', 'Gamification in Society', 'Introduction to Game Design', 'The Past and New Media', 'Theories of New Media']\n",
      "Max CBI: 1.97 on Courses: ['Advanced Web Design', 'Game AI']\n",
      "\n",
      "Spring 2025: 10 Highest CBI Courses:\n",
      "           Course Description  CBI\n",
      "          Advanced Web Design 1.97\n",
      "                      Game AI 1.97\n",
      "Applied Cyberinfrastruct Conc 1.94\n",
      "Bayesian Modeling & Inference 1.94\n",
      "                   STEM Games 1.94\n",
      "Monetizing Independent Gaming 1.63\n",
      "      Visual Content Creation 1.62\n",
      "         Business Information 1.59\n",
      "  Info Trust and Manipulation 1.59\n",
      "        Special Topics in LIS 1.58\n",
      "\n",
      " Spring 2025: 10 Lowest CBI Courses:\n",
      "            Course Description  CBI\n",
      "Digital Storytelling & Culture 0.56\n",
      "       Gamification in Society 0.56\n",
      "   Introduction to Game Design 0.56\n",
      "        The Past and New Media 0.56\n",
      "         Theories of New Media 0.56\n",
      "              Digital Dilemmas 0.57\n",
      "Digital Discourse and Identity 0.57\n",
      "  Intro Web Design-Development 0.57\n",
      "       Social Media Strategies 0.57\n",
      "         Database Dev and Mgmt 0.58\n"
     ]
    }
   ],
   "source": [
    "# For Loop for our summary stats (mean, median, std, min/max) and top/bottom courses\n",
    "\n",
    "# Empty Lists to store some summary stats for graphing\n",
    "cbi_term_means = []\n",
    "cbi_term_medians = []\n",
    "cbi_term_stds = []\n",
    "\n",
    "for df_semester, group in df_CBI_term_analysis_rf.groupby(\"Term\", sort=False): # sort = False to keep my Terms in academic year order\n",
    "    # Summary stats (mean, median, std)\n",
    "    cbi_term_mean = round(group[\"CBI\"].mean(), 2)                           # Mean\n",
    "    cbi_term_means.append({\"Term\": df_semester, \"Mean CBI\": cbi_term_mean}) # Save Mean to cbi_term_means\n",
    "    cbi_term_median = round(group[\"CBI\"].median(), 2)                             # Median\n",
    "    cbi_term_medians.append({\"Term\": df_semester, \"Median CBI\": cbi_term_median}) # Save Median to cbi_term_medians\n",
    "    cbi_term_std = round(group[\"CBI\"].std(), 2)\n",
    "    cbi_term_stds.append({\"Term\": df_semester, \"STD CBI\": cbi_term_std})\n",
    "\n",
    "    # Print summary stats\n",
    "    print(f\"\\n🗓 CBI Summary for {df_semester}\") # emoji to make it easier to read\n",
    "    print(f\"Mean CBI: {cbi_term_mean}\")\n",
    "    print(f\"Median CBI: {cbi_term_median}\")\n",
    "    print(f\"Standard Deviation: {cbi_term_std}\")\n",
    "\n",
    "    # Min/Max with course name(s)\n",
    "    cbi_term_min = round(group[\"CBI\"].min(), 2)\n",
    "    cbi_term_max = round(group[\"CBI\"].max(), 2)\n",
    "    cbi_term_course_min = group.loc[group[\"CBI\"] == cbi_term_min, \"Course Description\"].tolist()\n",
    "    cbi_term_course_max = group.loc[group[\"CBI\"] == cbi_term_max, \"Course Description\"].tolist()\n",
    "    print(f\"Min CBI: {cbi_term_min} on Courses: {cbi_term_course_min}\")\n",
    "    print(f\"Max CBI: {cbi_term_max} on Courses: {cbi_term_course_max}\")\n",
    "\n",
    "    #Top/Bottom \n",
    "    high_low_count = 10\n",
    "    top_cbi_term = group.nlargest(high_low_count, \"CBI\")[[\"Course Description\", \"CBI\"]]\n",
    "    bottom_cbi_term = group.nsmallest(high_low_count, \"CBI\")[[\"Course Description\", \"CBI\"]]\n",
    "    print(f\"\\n{df_semester}: {high_low_count} Highest CBI Courses:\")\n",
    "    print(top_cbi_term.to_string(index=False))\n",
    "    print(f\"\\n {df_semester}: {high_low_count} Lowest CBI Courses:\")\n",
    "    print(bottom_cbi_term.to_string(index=False))"
   ]
  },
  {
   "cell_type": "code",
   "execution_count": 71,
   "id": "76b6647c",
   "metadata": {},
   "outputs": [
    {
     "data": {
      "image/png": "[encoded data removed]",
      "text/plain": [
       "<Figure size 1000x500 with 1 Axes>"
      ]
     },
     "metadata": {},
     "output_type": "display_data"
    }
   ],
   "source": [
    "df_trend_means = pd.DataFrame(cbi_term_means)\n",
    "\n",
    "plt.figure(figsize=(10, 5))\n",
    "plt.plot(df_trend_means[\"Term\"], df_trend_means[\"Mean CBI\"], marker='o')\n",
    "plt.title(\"Mean CBI Score by Semester - Weighted with Random Forest\")\n",
    "plt.xlabel(\"Term\")\n",
    "plt.ylabel(\"Mean CBI\")\n",
    "plt.grid(True)\n",
    "plt.tight_layout()\n",
    "plt.show()"
   ]
  },
  {
   "cell_type": "markdown",
   "id": "8e1243c0",
   "metadata": {},
   "source": [
    "<h1> Actionable Callouts - Next Workbook </h1>"
   ]
  },
  {
   "cell_type": "code",
   "execution_count": 72,
   "id": "11496d9f",
   "metadata": {},
   "outputs": [
    {
     "name": "stdout",
     "output_type": "stream",
     "text": [
      "Saved df_CBI_tot_analysis_corr to Folder CBI Analysis_Actionable Insights\n",
      "Saved df_CBI_tot_analysis_rf to Folder CBI Analysis_Actionable Insights\n",
      "Saved df_CBI_term_analysis_corr to Folder CBI Analysis_Actionable Insights\n",
      "Saved df_CBI_term_analysis_rf to Folder CBI Analysis_Actionable Insights\n",
      "Saved df_CBI_analysis to Folder CBI Analysis_Actionable Insights\n",
      "Saved df_CBI_term_analysis to Folder CBI Analysis_Actionable Insights\n",
      "Saved weights_corr_tot_dict dictionary to Folder CBI Analysis_Actionable Insights\n",
      "Saved weights_corr_dict dictionary to Folder CBI Analysis_Actionable Insights\n",
      "Saved weights_rf_tot_dict dictionary to Folder CBI Analysis_Actionable Insights\n",
      "Saved weights_rf_dict dictionary to Folder CBI Analysis_Actionable Insights\n"
     ]
    }
   ],
   "source": [
    "# Create folder\n",
    "CBI_action_folder_path = os.path.join(os.getcwd(), \"CBI Analysis_Actionable Insights\")\n",
    "os.makedirs(CBI_action_folder_path, exist_ok=True)\n",
    "\n",
    "# DFs to save\n",
    "df_dict = {\"df_CBI_tot_analysis_corr\": df_CBI_tot_analysis_corr,\n",
    "    \"df_CBI_tot_analysis_rf\": df_CBI_tot_analysis_rf,\n",
    "    \"df_CBI_term_analysis_corr\": df_CBI_term_analysis_corr,\n",
    "    \"df_CBI_term_analysis_rf\": df_CBI_term_analysis_rf,\n",
    "    \"df_CBI_analysis\": df_CBI_analysis,\n",
    "    \"df_CBI_term_analysis\": df_CBI_term_analysis}\n",
    "\n",
    "for name, df in df_dict.items():\n",
    "    filepath = os.path.join(CBI_action_folder_path, f\"{name}.xlsx\")\n",
    "    df.to_excel(filepath, index=False)\n",
    "    print(f\"Saved {name} to Folder CBI Analysis_Actionable Insights\")\n",
    "\n",
    "# Dictionaries to save\n",
    "dict_dict = {\"weights_corr_tot_dict\": weights_corr_tot_dict,\n",
    "    \"weights_corr_dict\": weights_corr_dict,\n",
    "    \"weights_rf_tot_dict\": weights_rf_tot_dict,\n",
    "    \"weights_rf_dict\": weights_rf_dict}\n",
    "\n",
    "for name, d in dict_dict.items():\n",
    "    df = pd.DataFrame.from_dict(d, orient=\"index\", columns=[\"Weight\"])\n",
    "    df.index.name = \"Component\"\n",
    "    filepath = os.path.join(CBI_action_folder_path, f\"{name}.xlsx\")\n",
    "    df.to_excel(filepath)\n",
    "    print(f\"Saved {name} dictionary to Folder CBI Analysis_Actionable Insights\")\n"
   ]
  }
 ],
 "metadata": {
  "kernelspec": {
   "display_name": "base",
   "language": "python",
   "name": "python3"
  },
  "language_info": {
   "codemirror_mode": {
    "name": "ipython",
    "version": 3
   },
   "file_extension": ".py",
   "mimetype": "text/x-python",
   "name": "python",
   "nbconvert_exporter": "python",
   "pygments_lexer": "ipython3",
   "version": "3.12.7"
  }
 },
 "nbformat": 4,
 "nbformat_minor": 5
}
